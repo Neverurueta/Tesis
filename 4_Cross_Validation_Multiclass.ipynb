{
 "cells": [
  {
   "cell_type": "code",
   "execution_count": 1,
   "metadata": {},
   "outputs": [
    {
     "data": {
      "text/plain": [
       "'pip install scikit-optimize\\npip install optuna\\npip install fitter'"
      ]
     },
     "execution_count": 1,
     "metadata": {},
     "output_type": "execute_result"
    }
   ],
   "source": [
    "\"\"\"pip install scikit-optimize\n",
    "pip install optuna\n",
    "pip install fitter\"\"\""
   ]
  },
  {
   "cell_type": "code",
   "execution_count": 65,
   "metadata": {},
   "outputs": [],
   "source": [
    "#Tratamieto de datos\n",
    "import pandas as pd \n",
    "import numpy as np  \n",
    "# ==============================================================================================================================================================\n",
    "#   Gráficos \n",
    "import matplotlib.pyplot as plt\n",
    "from matplotlib import style\n",
    "import seaborn as sns\n",
    "# ==============================================================================================================================================================\n",
    "\n",
    "#Preprocesado y Modelado\n",
    "import statsmodels.api as sm\n",
    "\n",
    "from sklearn.model_selection import train_test_split\n",
    "from sklearn.model_selection import RepeatedKFold\n",
    "from sklearn.neighbors import NearestNeighbors\n",
    "from sklearn.ensemble import RandomForestClassifier\n",
    "from sklearn.linear_model import Ridge\n",
    "\n",
    "\n",
    "# Varios\n",
    "# ==============================================================================================================================================================\n",
    "from sklearn.pipeline import Pipeline\n",
    "from sklearn.compose import ColumnTransformer\n",
    "from sklearn.preprocessing import OneHotEncoder\n",
    "from sklearn.preprocessing import StandardScaler\n",
    "from sklearn.model_selection import RandomizedSearchCV, RepeatedKFold\n",
    "from sklearn import metrics\n",
    "from sklearn.metrics import confusion_matrix, recall_score, accuracy_score, precision_score, classification_report, roc_curve\n"
   ]
  },
  {
   "attachments": {},
   "cell_type": "markdown",
   "metadata": {},
   "source": [
    "# <span style=\"color:darkred\"> Objetivo </span>\n",
    "\n",
    "<span style=\"color:darkblue\"> Comparar variaros algoritmos en el problema de clasificación multiclase ejecutados con la técnica de optimización de validación cruzada RandomizedSearchCV.</span>\n",
    "\n"
   ]
  },
  {
   "cell_type": "code",
   "execution_count": 3,
   "metadata": {},
   "outputs": [],
   "source": [
    "data=pd.read_excel(r\"D:\\Never Urueta\\2023\\Tesis\\Data.xlsx\") "
   ]
  },
  {
   "cell_type": "code",
   "execution_count": 4,
   "metadata": {},
   "outputs": [],
   "source": [
    "data1 = data.drop([\"PBA\", \"CF\", \"CAPACIDAD DEL CUARTO FRIO  \", \"Indicador\", \"VT1\", \"VT2\", \"DESTINO\"], axis=1)"
   ]
  },
  {
   "cell_type": "code",
   "execution_count": 5,
   "metadata": {},
   "outputs": [
    {
     "name": "stdout",
     "output_type": "stream",
     "text": [
      "valores perdidos en Tamin: 0\n",
      "valores perdidos en Taamax: 0\n"
     ]
    }
   ],
   "source": [
    "data1.isnull().sum() #Datos faltantes\n",
    "data1['Tamin'].fillna(data1['Tamin'].median(), inplace=True)\n",
    "print(\"valores perdidos en Tamin: \" + \n",
    "      str(data1['Tamin'].isnull().sum()))\n",
    "data1['Taamax'].fillna(data1['Taamax'].median(), inplace=True)\n",
    "print(\"valores perdidos en Taamax: \" + \n",
    "      str(data1['Taamax'].isnull().sum()))"
   ]
  },
  {
   "attachments": {},
   "cell_type": "markdown",
   "metadata": {},
   "source": [
    "# <span style=\"color:darkred\"> Correlación variables numéricas"
   ]
  },
  {
   "attachments": {},
   "cell_type": "markdown",
   "metadata": {},
   "source": [
    "De archivo ejecutadon con regresión se evidenció una correlación entre dos variables independientes, por lo que procederemos a eñliminar a una, la variable Ocupación"
   ]
  },
  {
   "cell_type": "code",
   "execution_count": 6,
   "metadata": {},
   "outputs": [],
   "source": [
    "data1 = data1.drop([\"Ocupacion\"],axis=1)"
   ]
  },
  {
   "attachments": {},
   "cell_type": "markdown",
   "metadata": {},
   "source": [
    "# <span style=\"color:darkred\">Variabes cualitativas"
   ]
  },
  {
   "attachments": {},
   "cell_type": "markdown",
   "metadata": {},
   "source": [
    "Eliminamos los registros de PBA2 solo quedandonos con PBA1 "
   ]
  },
  {
   "cell_type": "code",
   "execution_count": 7,
   "metadata": {},
   "outputs": [],
   "source": [
    "data1 = data1.loc[data1[\"TIPO_CAP_CF\"] != \"PBA2\", :]"
   ]
  },
  {
   "cell_type": "markdown",
   "metadata": {},
   "source": [
    "# <span style=\"color:darkred\"> Variable de Respuesta </span>"
   ]
  },
  {
   "cell_type": "code",
   "execution_count": 8,
   "metadata": {},
   "outputs": [
    {
     "name": "stdout",
     "output_type": "stream",
     "text": [
      "0    1259\n",
      "1     221\n",
      "2     362\n",
      "Name: Rechazados, dtype: int64\n"
     ]
    }
   ],
   "source": [
    "\n",
    "data1.loc[data1[\"Rechazados\"] > 1, \"Rechazados\"] = 2\n",
    "print(data1.Rechazados.value_counts().sort_index())"
   ]
  },
  {
   "cell_type": "code",
   "execution_count": 9,
   "metadata": {},
   "outputs": [],
   "source": [
    "# Reparto de datos en train y test\n",
    "# ==============================================================================\n",
    "from sklearn.model_selection import train_test_split\n",
    "X_train, X_test, y_train, y_test = train_test_split(\n",
    "                                        data1.drop('Rechazados', axis = 'columns'),\n",
    "                                        data1['Rechazados'],\n",
    "                                        train_size   =0.66,\n",
    "                                        random_state = 1234,\n",
    "                                        shuffle      = True\n",
    "                                    )"
   ]
  },
  {
   "attachments": {},
   "cell_type": "markdown",
   "metadata": {},
   "source": [
    "# <span style=\"color:darkred\"> K-Nearest Neighbor (kNN)"
   ]
  },
  {
   "cell_type": "code",
   "execution_count": 10,
   "metadata": {},
   "outputs": [],
   "source": [
    "\n",
    "from sklearn.neighbors import KNeighborsClassifier\n",
    "\n",
    "# Pipeline: preprocesado + modelo\n",
    "# ==============================================================================\n",
    "# Identificación de columnas numéricas y catégoricas\n",
    "numeric_cols = X_train.select_dtypes(include=['float64', 'int']).columns.to_list()\n",
    "cat_cols = X_train.select_dtypes(include=['object', 'category']).columns.to_list()\n",
    "\n",
    "preprocessor = ColumnTransformer(\n",
    "                   [('scale', StandardScaler(), numeric_cols),\n",
    "                    ('onehot', OneHotEncoder(handle_unknown='ignore'), cat_cols)],\n",
    "                remainder='passthrough')\n",
    "\n",
    "\n",
    "# Se combinan los pasos de preprocesado y el modelo en un mismo pipeline.\n",
    "pipe = Pipeline([('preprocessing', preprocessor),\n",
    "                 ('modelo', KNeighborsClassifier())])\n",
    "\n",
    "# Optimización de hiperparámetros\n",
    "# ==============================================================================\n",
    "# Espacio de búsqueda de cada hiperparámetro\n",
    "param_distributions = {\n",
    "    'modelo__n_neighbors': range(1, 50, 2),\n",
    "    'modelo__weights': ['uniform', 'distance'],\n",
    "    'modelo__metric'   : ['euclidean', 'manhattan', 'minkowski'],\n",
    "}\n",
    "\n",
    "# Búsqueda random grid\n",
    "grid = RandomizedSearchCV(\n",
    "        estimator  = pipe,\n",
    "        param_distributions = param_distributions,\n",
    "        n_iter     = 20,\n",
    "        scoring    = 'accuracy',\n",
    "        n_jobs     = multiprocessing.cpu_count() - 1,\n",
    "        cv         = RepeatedKFold(n_splits = 5, n_repeats = 3), \n",
    "        refit      = True, \n",
    "        verbose    = 0,\n",
    "        random_state = 123,\n",
    "        return_train_score = True\n",
    "       )\n",
    "\n",
    "_=grid.fit(X = X_train, y = y_train) \n",
    "param1 = grid.best_params_\n",
    "mejor1 = grid.best_estimator_\n",
    "predicciones1 = mejor1.predict(X = X_test)\n"
   ]
  },
  {
   "attachments": {},
   "cell_type": "markdown",
   "metadata": {},
   "source": [
    "# <span style=\"color:darkred\"> Regresión lineal (Ridge y Lasso)¶"
   ]
  },
  {
   "cell_type": "code",
   "execution_count": 11,
   "metadata": {},
   "outputs": [],
   "source": [
    "from sklearn.linear_model import RidgeClassifier\n",
    "\n",
    "# Pipeline: preprocesado + modelo\n",
    "# ==============================================================================\n",
    "# Identificación de columnas numéricas y catégoricas\n",
    "numeric_cols = X_train.select_dtypes(include=['float64', 'int']).columns.to_list()\n",
    "cat_cols = X_train.select_dtypes(include=['object', 'category']).columns.to_list()\n",
    "\n",
    "\n",
    "preprocessor = ColumnTransformer(\n",
    "                   [('scale', StandardScaler(), numeric_cols),\n",
    "                    ('onehot', OneHotEncoder(handle_unknown='ignore'), cat_cols)],\n",
    "                remainder='passthrough')\n",
    "\n",
    "# Se combinan los pasos de preprocesado y el modelo en un mismo pipeline.\n",
    "pipe = Pipeline([('preprocessing', preprocessor),\n",
    "                 ('modelo', RidgeClassifier())])\n",
    "\n",
    "# Optimización de hiperparámetros\n",
    "# ==============================================================================\n",
    "# Espacio de búsqueda de cada hiperparámetro\n",
    "param_distributions = {'modelo__alpha': np.logspace(-5, 5, 500),\n",
    "                       'modelo__solver': ['auto', 'svd', 'cholesky', 'lsqr', 'lbfgs']}\n",
    "\n",
    "# Búsqueda random grid\n",
    "grid = RandomizedSearchCV(\n",
    "        estimator  = pipe,\n",
    "        param_distributions = param_distributions,\n",
    "        n_iter     = 20,\n",
    "        scoring    = 'accuracy',\n",
    "        n_jobs     = multiprocessing.cpu_count() - 1,\n",
    "        cv         = RepeatedKFold(n_splits = 5, n_repeats = 3), \n",
    "        refit      = True, \n",
    "        verbose    = 0,\n",
    "        random_state = 123,\n",
    "        return_train_score = True\n",
    "       )\n",
    "\n",
    "_=grid.fit(X = X_train, y = y_train) \n",
    "param2 = grid.best_params_\n",
    "mejor2 = grid.best_estimator_\n",
    "predicciones2 = mejor2.predict(X = X_test)\n"
   ]
  },
  {
   "attachments": {},
   "cell_type": "markdown",
   "metadata": {},
   "source": [
    "# <span style=\"color:darkred\"> Random Forest"
   ]
  },
  {
   "cell_type": "code",
   "execution_count": 12,
   "metadata": {},
   "outputs": [],
   "source": [
    "from sklearn.ensemble import RandomForestClassifier\n",
    "# Pipeline: preprocesado + modelo\n",
    "# ==============================================================================\n",
    "# Identificación de columnas numéricas y catégoricas\n",
    "numeric_cols = X_train.select_dtypes(include=['float64', 'int']).columns.to_list()\n",
    "cat_cols = X_train.select_dtypes(include=['object', 'category']).columns.to_list()\n",
    "\n",
    "\n",
    "preprocessor = ColumnTransformer(\n",
    "                   [('scale', StandardScaler(), numeric_cols),\n",
    "                    ('onehot', OneHotEncoder(handle_unknown='ignore'), cat_cols)],\n",
    "                remainder='passthrough')\n",
    "\n",
    "\n",
    "# Se combinan los pasos de preprocesado y el modelo en un mismo pipeline.\n",
    "pipe = Pipeline([('preprocessing', preprocessor),\n",
    "                 ('modelo', RandomForestClassifier())])\n",
    "\n",
    "# Optimización de hiperparámetros\n",
    "# ==============================================================================\n",
    "# Espacio de búsqueda de cada hiperparámetro\n",
    "\n",
    "param_distributions = {\n",
    "    'modelo__n_estimators': [10, 100, 1000,10000],\n",
    "    'modelo__max_features': ['auto', 'sqrt', 'log2'],\n",
    "    'modelo__max_depth'   : [None, 3, 5, 10, 30, 100, 1000]\n",
    "}\n",
    "\n",
    "# Búsqueda random grid\n",
    "grid = RandomizedSearchCV(\n",
    "        estimator  = pipe,\n",
    "        param_distributions = param_distributions,\n",
    "        n_iter     = 20,\n",
    "        scoring    = 'accuracy',\n",
    "        n_jobs     = multiprocessing.cpu_count() - 1,\n",
    "        cv         = RepeatedKFold(n_splits = 5, n_repeats = 3),\n",
    "        refit      = True, \n",
    "        verbose    = 0,\n",
    "        random_state = 123,\n",
    "        return_train_score = True\n",
    "       )\n",
    "\n",
    "_=grid.fit(X = X_train, y = y_train) \n",
    "param3 = grid.best_params_\n",
    "mejor3 = grid.best_estimator_\n",
    "predicciones3 = mejor3.predict(X = X_test)\n"
   ]
  },
  {
   "attachments": {},
   "cell_type": "markdown",
   "metadata": {},
   "source": [
    "# <span style=\"color:darkred\"> Árboles de decisión"
   ]
  },
  {
   "cell_type": "code",
   "execution_count": 13,
   "metadata": {},
   "outputs": [],
   "source": [
    "from sklearn.tree import DecisionTreeClassifier\n",
    "\n",
    "# Pipeline: preprocesado + modelo\n",
    "# ==============================================================================\n",
    "# Identificación de columnas numéricas y catégoricas\n",
    "numeric_cols = X_train.select_dtypes(include=['float64', 'int']).columns.to_list()\n",
    "cat_cols = X_train.select_dtypes(include=['object', 'category']).columns.to_list()\n",
    "\n",
    "preprocessor = ColumnTransformer(\n",
    "                   [('scale', StandardScaler(), numeric_cols),\n",
    "                    ('onehot', OneHotEncoder(handle_unknown='ignore'), cat_cols)],\n",
    "                remainder='passthrough')\n",
    "\n",
    "\n",
    "# Se combinan los pasos de preprocesado y el modelo en un mismo pipeline.\n",
    "pipe = Pipeline([('preprocessing', preprocessor),\n",
    "                 ('modelo', DecisionTreeClassifier())])\n",
    "\n",
    "# Optimización de hiperparámetros\n",
    "# ==============================================================================\n",
    "# Espacio de búsqueda de cada hiperparámetro\n",
    "\n",
    "param_distributions = {\n",
    "    'modelo__criterion': ['gini', 'entropy', 'log_loss'],\n",
    "    'modelo__max_features': ['auto', 'sqrt', 'log2'],\n",
    "    'modelo__min_samples_split': [1, 2, 10, 500],\n",
    "    'modelo__max_depth'   : [None, 3, 5, 10, 300, 1000],\n",
    "    'modelo__max_leaf_nodes'   : [1, 10, 20, 100, 20000],\n",
    "}\n",
    "\n",
    "# Búsqueda random grid\n",
    "grid = RandomizedSearchCV(\n",
    "        estimator  = pipe,\n",
    "        param_distributions = param_distributions,\n",
    "        n_iter     = 20,\n",
    "        scoring    = 'accuracy',\n",
    "        n_jobs     = multiprocessing.cpu_count() - 1,\n",
    "        cv         = RepeatedKFold(n_splits = 5, n_repeats = 3),\n",
    "        refit      = True, \n",
    "        verbose    = 0,\n",
    "        random_state = 123,\n",
    "        return_train_score = True\n",
    "       )\n",
    "\n",
    "_=grid.fit(X = X_train, y = y_train) \n",
    "param4 = grid.best_params_\n",
    "mejor4 = grid.best_estimator_\n",
    "predicciones4 = mejor4.predict(X = X_test)\n"
   ]
  },
  {
   "cell_type": "markdown",
   "metadata": {},
   "source": [
    "# <span style=\"color:darkred\"> Resumen de Métricas"
   ]
  },
  {
   "cell_type": "markdown",
   "metadata": {},
   "source": [
    "### <span style=\"color:darkorange\"> knn"
   ]
  },
  {
   "cell_type": "code",
   "execution_count": 49,
   "metadata": {},
   "outputs": [
    {
     "name": "stdout",
     "output_type": "stream",
     "text": [
      "------------------------------------------------------\n",
      "      Algoritmo con K Nearest Neighbor - knn\n",
      "------------------------------------------------------\n",
      "              precision    recall  f1-score   support\n",
      "\n",
      "           0       0.71      0.98      0.82       437\n",
      "           1       0.00      0.00      0.00        64\n",
      "           2       0.45      0.08      0.14       126\n",
      "\n",
      "    accuracy                           0.70       627\n",
      "   macro avg       0.39      0.35      0.32       627\n",
      "weighted avg       0.58      0.70      0.60       627\n",
      "\n",
      "------------------------------------------------------\n"
     ]
    }
   ],
   "source": [
    "print('------------------------------------------------------')\n",
    "print('      Algoritmo con K Nearest Neighbor - knn')\n",
    "print('------------------------------------------------------')\n",
    "print(classification_report(y_test,  predicciones1))\n",
    "print('------------------------------------------------------')"
   ]
  },
  {
   "cell_type": "markdown",
   "metadata": {},
   "source": [
    "### <span style=\"color:darkorange\"> Ridge"
   ]
  },
  {
   "cell_type": "code",
   "execution_count": 50,
   "metadata": {},
   "outputs": [
    {
     "name": "stdout",
     "output_type": "stream",
     "text": [
      "------------------------------------------------------\n",
      "      Algoritmo con Regresión de Ridge\n",
      "------------------------------------------------------\n",
      "              precision    recall  f1-score   support\n",
      "\n",
      "           0       0.70      1.00      0.82       437\n",
      "           1       0.00      0.00      0.00        64\n",
      "           2       0.00      0.00      0.00       126\n",
      "\n",
      "    accuracy                           0.70       627\n",
      "   macro avg       0.23      0.33      0.27       627\n",
      "weighted avg       0.49      0.70      0.57       627\n",
      "\n",
      "------------------------------------------------------\n"
     ]
    }
   ],
   "source": [
    "print('------------------------------------------------------')\n",
    "print('      Algoritmo con Regresión de Ridge')\n",
    "print('------------------------------------------------------')\n",
    "print(classification_report(y_test,  predicciones2))\n",
    "print('------------------------------------------------------')"
   ]
  },
  {
   "cell_type": "markdown",
   "metadata": {},
   "source": [
    "### <span style=\"color:darkorange\">Random Forest"
   ]
  },
  {
   "cell_type": "code",
   "execution_count": 52,
   "metadata": {},
   "outputs": [
    {
     "name": "stdout",
     "output_type": "stream",
     "text": [
      "------------------------------------------------------\n",
      "            Algoritmo Random Forest - rf\n",
      "------------------------------------------------------\n",
      "              precision    recall  f1-score   support\n",
      "\n",
      "           0       0.70      1.00      0.82       437\n",
      "           1       0.00      0.00      0.00        64\n",
      "           2       0.00      0.00      0.00       126\n",
      "\n",
      "    accuracy                           0.70       627\n",
      "   macro avg       0.23      0.33      0.27       627\n",
      "weighted avg       0.49      0.70      0.57       627\n",
      "\n",
      "------------------------------------------------------\n"
     ]
    }
   ],
   "source": [
    "print('------------------------------------------------------')\n",
    "print('            Algoritmo Random Forest - rf')\n",
    "print('------------------------------------------------------')\n",
    "print(classification_report(y_test,  predicciones3))\n",
    "print('------------------------------------------------------')"
   ]
  },
  {
   "cell_type": "markdown",
   "metadata": {},
   "source": [
    "### <span style=\"color:darkorange\"> Arboles de Decisión"
   ]
  },
  {
   "cell_type": "code",
   "execution_count": 54,
   "metadata": {},
   "outputs": [
    {
     "name": "stdout",
     "output_type": "stream",
     "text": [
      "------------------------------------------------------\n",
      "        Algoritmo Arboles de Decisión - dtree\n",
      "------------------------------------------------------\n",
      "              precision    recall  f1-score   support\n",
      "\n",
      "           0       0.70      1.00      0.82       437\n",
      "           1       0.00      0.00      0.00        64\n",
      "           2       0.00      0.00      0.00       126\n",
      "\n",
      "    accuracy                           0.70       627\n",
      "   macro avg       0.23      0.33      0.27       627\n",
      "weighted avg       0.49      0.70      0.57       627\n",
      "\n",
      "------------------------------------------------------\n"
     ]
    }
   ],
   "source": [
    "print('------------------------------------------------------')\n",
    "print('        Algoritmo Arboles de Decisión - dtree')\n",
    "print('------------------------------------------------------')\n",
    "print(classification_report(y_test,  predicciones4))\n",
    "print('------------------------------------------------------')"
   ]
  },
  {
   "attachments": {},
   "cell_type": "markdown",
   "metadata": {},
   "source": [
    "# <span style=\"color:darkred\"> Stacking"
   ]
  },
  {
   "cell_type": "markdown",
   "metadata": {},
   "source": [
    "<span style=\"color:darkblue\"> Se crea un nuevo algoritmo con los hiperparámetros de los algoritmos escogidos"
   ]
  },
  {
   "cell_type": "code",
   "execution_count": 32,
   "metadata": {},
   "outputs": [],
   "source": [
    "from sklearn.ensemble import StackingClassifier\n",
    "\n",
    "# Pipeline: preprocesado + modelos para el stacking\n",
    "# ==============================================================================\n",
    "# Identificación de columnas numéricas y catégoricas\n",
    "numeric_cols = X_train.select_dtypes(include=['float64', 'int']).columns.to_list()\n",
    "cat_cols = X_train.select_dtypes(include=['object', 'category']).columns.to_list()\n",
    "\n",
    "preprocessor = ColumnTransformer(\n",
    "                   [('scale', StandardScaler(), numeric_cols),\n",
    "                    ('onehot', OneHotEncoder(handle_unknown='ignore'), cat_cols)],\n",
    "                remainder='passthrough')\n",
    "\n",
    "\n",
    "# Se combinan los pasos de preprocesado y el modelo en un mismo pipeline.\n",
    "pipe_knn = Pipeline([('preprocessing', preprocessor),\n",
    "                     ('knn', KNeighborsClassifier(weights='distance',n_neighbors=19, metric='manhattan'))])\n",
    "\n",
    "pipe_ridge = Pipeline([('preprocessing', preprocessor),\n",
    "                     ('ridge', RidgeClassifier(solver='lsqr',alpha=23.59))])\n",
    "pipe_rf = Pipeline([('preprocessing', preprocessor),\n",
    "                     ('random_forest', RandomForestClassifier(\n",
    "                                         n_estimators = 100,\n",
    "                                         max_features = 'log2',\n",
    "                                         max_depth    = 20\n",
    "                                        )\n",
    "                     )])\n",
    "\n",
    "pipe_dtree = Pipeline([('preprocessing', preprocessor),\n",
    "                     ('Decision_Tree', DecisionTreeClassifier(\n",
    "                                         min_samples_split = 500,                 \n",
    "                                         max_leaf_nodes = 100,\n",
    "                                         max_features = 'auto',\n",
    "                                         max_depth    = 10,\n",
    "                                         criterion = 'gini'\n",
    "                                        )\n",
    "                     )])\n"
   ]
  },
  {
   "cell_type": "code",
   "execution_count": 40,
   "metadata": {},
   "outputs": [],
   "source": [
    "# Definición y entrenamiento del StackingClassifier\n",
    "# ==============================================================================\n",
    "from sklearn.linear_model import LogisticRegression\n",
    "estimators = [('random_forest', pipe_rf),\n",
    "            ('Ridge', pipe_ridge),             \n",
    "              ('knn', pipe_knn),\n",
    "              ('Decision_Tree', pipe_dtree),\n",
    "]\n",
    "stacking_cla= StackingClassifier(estimators=estimators,\n",
    "                                       final_estimator=LogisticRegression())\n",
    "# Se asigna el resultado a _ para que no se imprima por pantalla\n",
    "_ = stacking_cla.fit(X = X_train, y = y_train)"
   ]
  },
  {
   "cell_type": "code",
   "execution_count": 41,
   "metadata": {},
   "outputs": [],
   "source": [
    "stacking_model = stacking_cla\n",
    "predicciones5 = stacking_model.predict(X = X_test)"
   ]
  },
  {
   "cell_type": "code",
   "execution_count": 58,
   "metadata": {},
   "outputs": [
    {
     "name": "stdout",
     "output_type": "stream",
     "text": [
      "              precision    recall  f1-score   support\n",
      "\n",
      "           0       0.73      0.97      0.83       437\n",
      "           1       1.00      0.02      0.03        64\n",
      "           2       0.56      0.22      0.32       126\n",
      "\n",
      "    accuracy                           0.72       627\n",
      "   macro avg       0.76      0.40      0.39       627\n",
      "weighted avg       0.73      0.72      0.65       627\n",
      "\n"
     ]
    }
   ],
   "source": [
    "from sklearn.metrics import classification_report\n",
    "print(classification_report(y_test, predicciones5))"
   ]
  },
  {
   "cell_type": "code",
   "execution_count": 61,
   "metadata": {},
   "outputs": [
    {
     "data": {
      "text/plain": [
       "0.965675057208238"
      ]
     },
     "execution_count": 61,
     "metadata": {},
     "output_type": "execute_result"
    }
   ],
   "source": [
    "recall_score(y_test,predicciones5,average=None)[0]"
   ]
  },
  {
   "cell_type": "markdown",
   "metadata": {},
   "source": [
    "# <span style=\"color:darkred\"> Gráfica Comparativa de Modelos por Métricas "
   ]
  },
  {
   "cell_type": "code",
   "execution_count": 63,
   "metadata": {},
   "outputs": [
    {
     "data": {
      "text/plain": [
       "Text(0.5, 0, 'Test accuracy')"
      ]
     },
     "execution_count": 63,
     "metadata": {},
     "output_type": "execute_result"
    },
    {
     "data": {
      "image/png": "[encoded data removed]",
      "text/plain": [
       "<Figure size 3000x600 with 1 Axes>"
      ]
     },
     "metadata": {},
     "output_type": "display_data"
    }
   ],
   "source": [
    "error_modelos = pd.DataFrame({'modelo': ['knn', 'Ridge','random forest', 'dtree','stacking'],\n",
    "                              'Accuracy': [accuracy_score(y_test,predicciones1), accuracy_score(y_test,predicciones2), accuracy_score(y_test,predicciones3), accuracy_score(y_test,predicciones4), accuracy_score(y_test,predicciones5)]})\n",
    "error_modelos = error_modelos.sort_values('Accuracy', ascending=False)\n",
    "\n",
    "\n",
    "plt.figure(figsize=(30, 6))\n",
    "plt.subplot(131)\n",
    "plt.hlines(error_modelos.modelo, xmin=0, xmax=error_modelos.Accuracy)\n",
    "plt.plot(error_modelos.Accuracy, error_modelos.modelo, \"o\", color='black')\n",
    "plt.tick_params(axis='y', which='major', labelsize=12)\n",
    "plt.title('Comparación Accuracy')\n",
    "plt.xlabel('Test accuracy')"
   ]
  },
  {
   "attachments": {},
   "cell_type": "markdown",
   "metadata": {},
   "source": [
    "# Metricas Para el Stacking"
   ]
  },
  {
   "cell_type": "code",
   "execution_count": 66,
   "metadata": {},
   "outputs": [
    {
     "data": {
      "text/plain": [
       "array([[1244,    0,   15],\n",
       "       [  82,   58,   81],\n",
       "       [  98,    0,  264]], dtype=int64)"
      ]
     },
     "execution_count": 66,
     "metadata": {},
     "output_type": "execute_result"
    },
    {
     "data": {
      "image/png": "[encoded data removed]",
      "text/plain": [
       "<Figure size 1000x600 with 2 Axes>"
      ]
     },
     "metadata": {},
     "output_type": "display_data"
    }
   ],
   "source": [
    "fig, ax = plt.subplots(figsize=(10, 6))\n",
    "ax.set_title('Confusion Matrx')\n",
    "disp =metrics.plot_confusion_matrix(stacking_model , data1.drop([\"Rechazados\"], axis=1), data1[\"Rechazados\"], ax = ax, cmap=\"YlGnBu\")\n",
    "disp.confusion_matrix"
   ]
  },
  {
   "cell_type": "code",
   "execution_count": 67,
   "metadata": {},
   "outputs": [
    {
     "name": "stdout",
     "output_type": "stream",
     "text": [
      "              precision    recall  f1-score   support\n",
      "\n",
      "           0       0.73      0.97      0.83       437\n",
      "           1       1.00      0.02      0.03        64\n",
      "           2       0.56      0.22      0.32       126\n",
      "\n",
      "    accuracy                           0.72       627\n",
      "   macro avg       0.76      0.40      0.39       627\n",
      "weighted avg       0.73      0.72      0.65       627\n",
      "\n"
     ]
    }
   ],
   "source": [
    "from sklearn.metrics import classification_report\n",
    "print(classification_report(y_test, predicciones5))"
   ]
  },
  {
   "attachments": {},
   "cell_type": "markdown",
   "metadata": {},
   "source": [
    "## Importancia de predictores\n",
    "Importancia por permutación"
   ]
  },
  {
   "cell_type": "code",
   "execution_count": 68,
   "metadata": {},
   "outputs": [
    {
     "data": {
      "text/html": [
       "<div>\n",
       "<style scoped>\n",
       "    .dataframe tbody tr th:only-of-type {\n",
       "        vertical-align: middle;\n",
       "    }\n",
       "\n",
       "    .dataframe tbody tr th {\n",
       "        vertical-align: top;\n",
       "    }\n",
       "\n",
       "    .dataframe thead th {\n",
       "        text-align: right;\n",
       "    }\n",
       "</style>\n",
       "<table border=\"1\" class=\"dataframe\">\n",
       "  <thead>\n",
       "    <tr style=\"text-align: right;\">\n",
       "      <th></th>\n",
       "      <th>importances_mean</th>\n",
       "      <th>importances_std</th>\n",
       "      <th>feature</th>\n",
       "    </tr>\n",
       "  </thead>\n",
       "  <tbody>\n",
       "    <tr>\n",
       "      <th>7</th>\n",
       "      <td>0.125761</td>\n",
       "      <td>0.004242</td>\n",
       "      <td>Ti2</td>\n",
       "    </tr>\n",
       "    <tr>\n",
       "      <th>10</th>\n",
       "      <td>0.089053</td>\n",
       "      <td>0.004045</td>\n",
       "      <td>PPPCF</td>\n",
       "    </tr>\n",
       "    <tr>\n",
       "      <th>0</th>\n",
       "      <td>0.083128</td>\n",
       "      <td>0.004742</td>\n",
       "      <td>Dia_Semana</td>\n",
       "    </tr>\n",
       "    <tr>\n",
       "      <th>6</th>\n",
       "      <td>0.082963</td>\n",
       "      <td>0.002774</td>\n",
       "      <td>Temp3</td>\n",
       "    </tr>\n",
       "    <tr>\n",
       "      <th>12</th>\n",
       "      <td>0.078519</td>\n",
       "      <td>0.002363</td>\n",
       "      <td>Tamin</td>\n",
       "    </tr>\n",
       "    <tr>\n",
       "      <th>5</th>\n",
       "      <td>0.072593</td>\n",
       "      <td>0.002464</td>\n",
       "      <td>Ti1</td>\n",
       "    </tr>\n",
       "    <tr>\n",
       "      <th>3</th>\n",
       "      <td>0.072428</td>\n",
       "      <td>0.003413</td>\n",
       "      <td>Temp2</td>\n",
       "    </tr>\n",
       "    <tr>\n",
       "      <th>13</th>\n",
       "      <td>0.069465</td>\n",
       "      <td>0.003017</td>\n",
       "      <td>Taamax</td>\n",
       "    </tr>\n",
       "    <tr>\n",
       "      <th>1</th>\n",
       "      <td>0.067819</td>\n",
       "      <td>0.004526</td>\n",
       "      <td>Temp1</td>\n",
       "    </tr>\n",
       "    <tr>\n",
       "      <th>9</th>\n",
       "      <td>0.065350</td>\n",
       "      <td>0.004085</td>\n",
       "      <td>Canales</td>\n",
       "    </tr>\n",
       "    <tr>\n",
       "      <th>2</th>\n",
       "      <td>0.060741</td>\n",
       "      <td>0.004242</td>\n",
       "      <td>Franja1</td>\n",
       "    </tr>\n",
       "    <tr>\n",
       "      <th>4</th>\n",
       "      <td>0.060247</td>\n",
       "      <td>0.005829</td>\n",
       "      <td>Franja2</td>\n",
       "    </tr>\n",
       "    <tr>\n",
       "      <th>11</th>\n",
       "      <td>0.058272</td>\n",
       "      <td>0.006815</td>\n",
       "      <td>pH_Requisito</td>\n",
       "    </tr>\n",
       "    <tr>\n",
       "      <th>14</th>\n",
       "      <td>0.036379</td>\n",
       "      <td>0.001905</td>\n",
       "      <td>TIPO_CAP_CF</td>\n",
       "    </tr>\n",
       "    <tr>\n",
       "      <th>8</th>\n",
       "      <td>0.034733</td>\n",
       "      <td>0.005242</td>\n",
       "      <td>Refrigeracion</td>\n",
       "    </tr>\n",
       "  </tbody>\n",
       "</table>\n",
       "</div>"
      ],
      "text/plain": [
       "    importances_mean  importances_std        feature\n",
       "7           0.125761         0.004242            Ti2\n",
       "10          0.089053         0.004045          PPPCF\n",
       "0           0.083128         0.004742     Dia_Semana\n",
       "6           0.082963         0.002774          Temp3\n",
       "12          0.078519         0.002363          Tamin\n",
       "5           0.072593         0.002464            Ti1\n",
       "3           0.072428         0.003413          Temp2\n",
       "13          0.069465         0.003017         Taamax\n",
       "1           0.067819         0.004526          Temp1\n",
       "9           0.065350         0.004085        Canales\n",
       "2           0.060741         0.004242        Franja1\n",
       "4           0.060247         0.005829        Franja2\n",
       "11          0.058272         0.006815   pH_Requisito\n",
       "14          0.036379         0.001905    TIPO_CAP_CF\n",
       "8           0.034733         0.005242  Refrigeracion"
      ]
     },
     "execution_count": 68,
     "metadata": {},
     "output_type": "execute_result"
    }
   ],
   "source": [
    "from sklearn.inspection import permutation_importance\n",
    "importancia = permutation_importance(\n",
    "                estimator    = stacking_cla,\n",
    "                X            = X_train,\n",
    "                y            = y_train,\n",
    "                n_repeats    = 5,\n",
    "                scoring      = 'accuracy',\n",
    "                n_jobs       = multiprocessing.cpu_count() - 1,\n",
    "                random_state = 123\n",
    "             )\n",
    "\n",
    "# Se almacenan los resultados (media y desviación) en un dataframe\n",
    "df_importancia = pd.DataFrame(\n",
    "                    {k: importancia[k] for k in ['importances_mean', 'importances_std']}\n",
    "                 )\n",
    "df_importancia['feature'] = X_train.columns\n",
    "df_importancia.sort_values('importances_mean', ascending=False)\n",
    "df_importancia['feature'] = X_train.columns\n",
    "df_importancia.sort_values('importances_mean', ascending=False)"
   ]
  },
  {
   "cell_type": "code",
   "execution_count": 69,
   "metadata": {},
   "outputs": [
    {
     "data": {
      "image/png": "[encoded data removed]",
      "text/plain": [
       "<Figure size 500x600 with 1 Axes>"
      ]
     },
     "metadata": {},
     "output_type": "display_data"
    }
   ],
   "source": [
    "# Gráfico\n",
    "fig, ax = plt.subplots(figsize=(5, 6))\n",
    "df_importancia = df_importancia.sort_values('importances_mean', ascending=True)\n",
    "ax.barh(\n",
    "    df_importancia['feature'],\n",
    "    df_importancia['importances_mean'],\n",
    "    xerr=df_importancia['importances_std'],\n",
    "    align='center',\n",
    "    alpha=0\n",
    ")\n",
    "ax.plot(\n",
    "    df_importancia['importances_mean'],\n",
    "    df_importancia['feature'],\n",
    "    marker=\"D\",\n",
    "    linestyle=\"\",\n",
    "    alpha=0.8,\n",
    "    color=\"r\"\n",
    ")\n",
    "ax.set_title('Importancia de los predictores (train)')\n",
    "ax.set_xlabel('Incremento del error tras la permutación');"
   ]
  }
 ],
 "metadata": {
  "kernelspec": {
   "display_name": "Python 3 (ipykernel)",
   "language": "python",
   "name": "python3"
  },
  "language_info": {
   "codemirror_mode": {
    "name": "ipython",
    "version": 3
   },
   "file_extension": ".py",
   "mimetype": "text/x-python",
   "name": "python",
   "nbconvert_exporter": "python",
   "pygments_lexer": "ipython3",
   "version": "3.9.13"
  }
 },
 "nbformat": 4,
 "nbformat_minor": 2
}
