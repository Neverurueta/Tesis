{
 "cells": [
  {
   "cell_type": "code",
   "execution_count": 15,
   "metadata": {},
   "outputs": [
    {
     "data": {
      "text/plain": [
       "'pip install scikit-optimize\\npip install optuna\\npip install fitterpip install hyperopt\\npip install lightgbm \\n'"
      ]
     },
     "execution_count": 15,
     "metadata": {},
     "output_type": "execute_result"
    }
   ],
   "source": [
    "\"\"\"pip install scikit-optimize\n",
    "pip install optuna\n",
    "pip install fitterpip install hyperopt\n",
    "pip install lightgbm \n",
    "\"\"\""
   ]
  },
  {
   "cell_type": "code",
   "execution_count": 1,
   "metadata": {},
   "outputs": [],
   "source": [
    "import pandas as pd \n",
    "import numpy as np \n",
    "import seaborn as sn\n",
    "import multiprocessing\n",
    "\n",
    "import matplotlib.pyplot as plt\n",
    "\n",
    "from sklearn.model_selection import train_test_split\n",
    "from sklearn.model_selection import GridSearchCV, RandomizedSearchCV, RepeatedKFold\n",
    "\n",
    "from sklearn.pipeline import Pipeline\n",
    "from sklearn.compose import ColumnTransformer\n",
    "from sklearn.preprocessing import OneHotEncoder\n",
    "from sklearn.preprocessing import StandardScaler\n",
    "\n",
    "from sklearn import metrics\n",
    "from sklearn.metrics import confusion_matrix, recall_score, accuracy_score, precision_score, classification_report, roc_curve\n"
   ]
  },
  {
   "attachments": {},
   "cell_type": "markdown",
   "metadata": {},
   "source": [
    "# <span style=\"color:darkred\"> Objetivo </span>\n",
    "\n",
    "<span style=\"color:darkblue\"> Comparar las técnicas de optimización mediante validación cruzada RandomizedSearchCV con GridSearchCV, posteriormente encontrar modelos que puedan predecir rechazado de canales con los mejores hiperparámetros mejorando las métricas: Accuracy, Sensibilidad, precisión, AUC y especificidad.</span>"
   ]
  },
  {
   "cell_type": "code",
   "execution_count": 17,
   "metadata": {},
   "outputs": [],
   "source": [
    "data=pd.read_excel(r\"D:\\Never Urueta\\2023\\Tesis\\Data.xlsx\") "
   ]
  },
  {
   "cell_type": "code",
   "execution_count": 18,
   "metadata": {},
   "outputs": [],
   "source": [
    "data1 = data.drop([\"PBA\", \"CF\", \"CAPACIDAD DEL CUARTO FRIO  \", \"Indicador\", \"VT1\", \"VT2\", \"DESTINO\"], axis=1)"
   ]
  },
  {
   "cell_type": "code",
   "execution_count": 19,
   "metadata": {},
   "outputs": [
    {
     "name": "stdout",
     "output_type": "stream",
     "text": [
      "valores perdidos en Tamin: 0\n",
      "valores perdidos en Taamax: 0\n"
     ]
    }
   ],
   "source": [
    "data1.isnull().sum() #Datos faltantes\n",
    "data1['Tamin'].fillna(data1['Tamin'].median(), inplace=True)\n",
    "print(\"valores perdidos en Tamin: \" + \n",
    "      str(data1['Tamin'].isnull().sum()))\n",
    "data1['Taamax'].fillna(data1['Taamax'].median(), inplace=True)\n",
    "print(\"valores perdidos en Taamax: \" + \n",
    "      str(data1['Taamax'].isnull().sum()))"
   ]
  },
  {
   "attachments": {},
   "cell_type": "markdown",
   "metadata": {},
   "source": [
    "# <span style=\"color:darkred\"> Variable de Respuesta </span>"
   ]
  },
  {
   "cell_type": "code",
   "execution_count": 20,
   "metadata": {},
   "outputs": [
    {
     "name": "stdout",
     "output_type": "stream",
     "text": [
      "0    1329\n",
      "1     585\n",
      "Name: Rechazados, dtype: int64\n"
     ]
    }
   ],
   "source": [
    "data1.loc[data1[\"Rechazados\"] > 0, \"Rechazados\"] = 1\n",
    "print(data1.Rechazados.value_counts().sort_index())"
   ]
  },
  {
   "attachments": {},
   "cell_type": "markdown",
   "metadata": {},
   "source": [
    "# <span style=\"color:darkred\"> Correlación variables numéricas </span>"
   ]
  },
  {
   "attachments": {},
   "cell_type": "markdown",
   "metadata": {},
   "source": [
    "<span style=\"color:darkblue\"> De archivo ejecutado con regresión se evidenció una correlación entre dos variables independientes, por lo que procederemos a eliminar a una, la variable Ocupación."
   ]
  },
  {
   "cell_type": "code",
   "execution_count": 21,
   "metadata": {},
   "outputs": [],
   "source": [
    "data1 = data1.drop([\"Ocupacion\"],axis=1)"
   ]
  },
  {
   "attachments": {},
   "cell_type": "markdown",
   "metadata": {},
   "source": [
    "# <span style=\"color:darkred\"> Variabes cualitativas </span>"
   ]
  },
  {
   "attachments": {},
   "cell_type": "markdown",
   "metadata": {},
   "source": [
    "<span style=\"color:darkblue\">Eliminamos los registros de PBA2 solo quedandonos con PBA1 "
   ]
  },
  {
   "cell_type": "code",
   "execution_count": 22,
   "metadata": {},
   "outputs": [],
   "source": [
    "data1 = data1.loc[data1[\"TIPO_CAP_CF\"] != \"PBA2\", :]"
   ]
  },
  {
   "cell_type": "code",
   "execution_count": 23,
   "metadata": {},
   "outputs": [],
   "source": [
    "# Reparto de datos en train y test\n",
    "# ==============================================================================\n",
    "X_train, X_test, y_train, y_test = train_test_split(\n",
    "                                        data1.drop('Rechazados', axis = 'columns'),\n",
    "                                        data1['Rechazados'],\n",
    "                                        train_size   = 0.7,\n",
    "                                        random_state = 1234,\n",
    "                                        shuffle      = True\n",
    "                                    )"
   ]
  },
  {
   "cell_type": "markdown",
   "metadata": {},
   "source": [
    "# <span style=\"color:darkred\"> Preprocesado y Modelado \n",
    "\n",
    "</span>\n",
    "\n",
    "> <span style=\"color:darkblue\"> Se estandarizan las variables numericas y se dummyfican las categóricas y luego se procesan en conjunto con los algoritmos, que en este caso son: </span>\n",
    ">>  - <span style=\"color:darkblue\"> K Nearest Neighbor - knn\n",
    ">>  - <span style=\"color:darkblue\"> Random Forest - rf\n",
    ">>  - <span style=\"color:darkblue\"> Maquinas de Vectores de Soporte - SVM\n",
    ">>  - <span style=\"color:darkblue\"> Light MGB  - lgbm\n"
   ]
  },
  {
   "cell_type": "code",
   "execution_count": 24,
   "metadata": {},
   "outputs": [],
   "source": [
    "from sklearn.neighbors import KNeighborsClassifier\n",
    "from sklearn.ensemble import RandomForestClassifier\n",
    "from sklearn.svm import SVC\n",
    "import lightgbm as lgb\n",
    "\n",
    "# Pipeline: preprocesado + modelo\n",
    "# ==============================================================================\n",
    "# Identificación de columnas numéricas y catégoricas\n",
    "numeric_cols = X_train.select_dtypes(include=['float64', 'int']).columns.to_list()\n",
    "cat_cols = X_train.select_dtypes(include=['object', 'category']).columns.to_list()\n",
    "\n",
    "preprocessor = ColumnTransformer(\n",
    "                   [('scale', StandardScaler(), numeric_cols),\n",
    "                    ('onehot', OneHotEncoder(handle_unknown='ignore'), cat_cols)],\n",
    "                remainder='passthrough')\n",
    "\n",
    "#Zona de modelos\n",
    "knn = Pipeline([('preprocessing', preprocessor),\n",
    "                 ('modelo', KNeighborsClassifier())])\n",
    "rf = Pipeline([('preprocessing', preprocessor),\n",
    "                     ('modelo', RandomForestClassifier(n_estimators = 10))])\n",
    "svc_m = Pipeline([('preprocessing', preprocessor),\n",
    "                ('modelo', SVC(gamma=\"auto\"))])\n",
    "lgg = Pipeline([('preprocessing', preprocessor),\n",
    "                ('modelo', lgb.LGBMClassifier())])\n",
    "\n",
    "# Zona de parametros \n",
    "pd_knn = {\n",
    "    'modelo__n_neighbors': range(1, 50, 2),\n",
    "    'modelo__weights': ['uniform', 'distance'],\n",
    "    'modelo__metric'   : ['euclidean', 'manhattan', 'minkowski'],\n",
    "}\n",
    "pd_rf = {\n",
    "    'modelo__n_estimators': [10, 100, 1000,10000],\n",
    "    'modelo__max_features': ['auto', 'sqrt', 'log2'],\n",
    "    'modelo__max_depth'   : [None, 3, 5, 10, 30, 100, 500]\n",
    "}\n",
    "\n",
    "pd_svc_m = {\n",
    "    'modelo__C': [50, 10, 1.0, 0.1, 0.01],\n",
    "    'modelo__kernel': ['poly', 'rbf', 'sigmoid'],\n",
    "    'modelo__gamma' : ['scale', 'auto'],\n",
    "}\n",
    "pd_lgg = {\n",
    "    'modelo__class_weight': [None,'balanced'],\n",
    "    'modelo__boosting_type': ['gbdt', 'goss', 'dart'],\n",
    "    'modelo__num_leaves' : [30,50,100,150],\n",
    "    'modelo__learning_rate' : list(np.logspace(np.log(0.005), np.log(0.2), base = np.exp(1), num = 10)),\n",
    "}"
   ]
  },
  {
   "cell_type": "code",
   "execution_count": 25,
   "metadata": {},
   "outputs": [
    {
     "data": {
      "text/plain": [
       "\"def my_refit_criteria(cv_results_):\\n    return np.argmax(\\n        (0.8*cv_results_['mean_test_accuracy'])\\n        + (0.3*cv_results_['mean_test_recall'])\\n    )\""
      ]
     },
     "execution_count": 25,
     "metadata": {},
     "output_type": "execute_result"
    }
   ],
   "source": [
    "\"\"\"def my_refit_criteria(cv_results_):\n",
    "    return np.argmax(\n",
    "        (0.8*cv_results_['mean_test_accuracy'])\n",
    "        + (0.3*cv_results_['mean_test_recall'])\n",
    "    )\"\"\""
   ]
  },
  {
   "cell_type": "markdown",
   "metadata": {},
   "source": [
    "# <span style=\"color:darkred\"> Optimización de Hiperparámetros y Ejecución de Algoritmos \n",
    "<span style=\"color:darkblue\"> \n",
    "\n",
    "Se aplicarán a los argoritmos mencionados las técnicas de optimización  GridSearchCV y RandomSearchCV.\n",
    "\n",
    "GridSearchCV prueba todas las combinaciones posibles de parámetros que se desean probar en el modelo. Cada uno de esos parámetros se prueba en una serie de iteraciones de validación cruzada (Cross Validation), mientras que RandomSearchCV muestrea al azar a partir de una variedad de parámetros con la idea de cubrir el conjunto de parámetros casi óptimo más rápido que utilizando el GridSearch.\n",
    "\n",
    "Ambos métodos se utilizaran teniendo como referencia de optimización la métrica de Especificidad "
   ]
  },
  {
   "attachments": {},
   "cell_type": "markdown",
   "metadata": {},
   "source": [
    "# <span style=\"color:darkred\"> K-Nearest Neighbor (kNN)"
   ]
  },
  {
   "attachments": {},
   "cell_type": "markdown",
   "metadata": {},
   "source": [
    "## <span style=\"color:darkgreen\">  Evaluación Inicial y Búsqueda gridSearchCV </span>"
   ]
  },
  {
   "cell_type": "code",
   "execution_count": 26,
   "metadata": {},
   "outputs": [
    {
     "name": "stderr",
     "output_type": "stream",
     "text": [
      "c:\\ProgramData\\Anaconda3\\lib\\site-packages\\sklearn\\neighbors\\_classification.py:228: FutureWarning: Unlike other reduction functions (e.g. `skew`, `kurtosis`), the default behavior of `mode` typically preserves the axis it acts along. In SciPy 1.11.0, this behavior will change: the default value of `keepdims` will become False, the `axis` over which the statistic is taken will be eliminated, and the value None will no longer be accepted. Set `keepdims` to True or False to avoid this warning.\n",
      "  mode, _ = stats.mode(_y[neigh_ind, k], axis=1)\n"
     ]
    },
    {
     "name": "stderr",
     "output_type": "stream",
     "text": [
      "c:\\ProgramData\\Anaconda3\\lib\\site-packages\\sklearn\\neighbors\\_classification.py:228: FutureWarning: Unlike other reduction functions (e.g. `skew`, `kurtosis`), the default behavior of `mode` typically preserves the axis it acts along. In SciPy 1.11.0, this behavior will change: the default value of `keepdims` will become False, the `axis` over which the statistic is taken will be eliminated, and the value None will no longer be accepted. Set `keepdims` to True or False to avoid this warning.\n",
      "  mode, _ = stats.mode(_y[neigh_ind, k], axis=1)\n"
     ]
    }
   ],
   "source": [
    "#Evaluación Inicial de los modelos\n",
    "models = [knn, rf, svc_m,lgg]\n",
    "\n",
    "cols = ['Técnica','knn', 'rforest',  'SVM', 'lgbm']\n",
    "resul = pd.DataFrame(columns=cols)\n",
    "resul.set_index(\"Técnica\",inplace=True)\n",
    "resul.loc['Standard'] = [0,0,0,0]\n",
    "resul.loc['GridSearch'] = [0,0,0,0]\n",
    "resul.loc['RandomSearch'] = [0,0,0,0]\n",
    "col=0\n",
    "for model in models:\n",
    "    model.fit(X_train,y_train.values.ravel())\n",
    "    resul.iloc[0,col] = model.score(X_test,y_test)\n",
    "    col += 1\n",
    "resul.head()\n",
    "# Resto\n",
    "n_iter_    = 20\n",
    "scoring_   = \"recall\"# ['accuracy', 'f1', 'precision', 'recall']\n",
    "n_jobs_    = multiprocessing.cpu_count() - 1\n",
    "cv_        = RepeatedKFold(n_splits = 5, n_repeats = 3) \n",
    "\n",
    "Grid_Tecn = GridSearchCV(\n",
    "    estimator=knn, param_grid=pd_knn, n_jobs=n_jobs_, \n",
    "    cv=cv_ ,scoring= scoring_, refit=True, error_score=0\n",
    ")\n",
    "_=Grid_Tecn.fit(X = X_train, y = y_train)\n",
    "\n",
    "param0 = Grid_Tecn.best_params_\n",
    "mejor= Grid_Tecn.best_estimator_\n",
    "predicciones = mejor.predict(X = X_test)\n",
    "resul.iloc[1,0] = accuracy_score(y_true  = y_test, y_pred  = predicciones)"
   ]
  },
  {
   "attachments": {},
   "cell_type": "markdown",
   "metadata": {},
   "source": [
    "## <span style=\"color:darkgreen\"> Búsqueda RandomSearchCV </span>"
   ]
  },
  {
   "cell_type": "code",
   "execution_count": 27,
   "metadata": {},
   "outputs": [
    {
     "name": "stderr",
     "output_type": "stream",
     "text": [
      "c:\\ProgramData\\Anaconda3\\lib\\site-packages\\sklearn\\neighbors\\_classification.py:228: FutureWarning: Unlike other reduction functions (e.g. `skew`, `kurtosis`), the default behavior of `mode` typically preserves the axis it acts along. In SciPy 1.11.0, this behavior will change: the default value of `keepdims` will become False, the `axis` over which the statistic is taken will be eliminated, and the value None will no longer be accepted. Set `keepdims` to True or False to avoid this warning.\n",
      "  mode, _ = stats.mode(_y[neigh_ind, k], axis=1)\n"
     ]
    }
   ],
   "source": [
    "Random_Tecn= RandomizedSearchCV(\n",
    "    estimator=knn, param_distributions=pd_knn, n_iter=n_iter_,\n",
    "    scoring=scoring_, n_jobs=n_jobs_, cv=cv_, refit=True, verbose= 0,random_state = 1234,return_train_score = True\n",
    "    )\n",
    "_=Random_Tecn.fit(X = X_train, y = y_train)\n",
    "\n",
    "param1 = Random_Tecn.best_params_\n",
    "mejor1= Random_Tecn.best_estimator_\n",
    "predicciones1 = mejor1.predict(X = X_test)\n",
    "resul.iloc[2,0] = accuracy_score(y_true  = y_test, y_pred  = predicciones1)"
   ]
  },
  {
   "attachments": {},
   "cell_type": "markdown",
   "metadata": {},
   "source": [
    "# <span style=\"color:darkred\">  Random Forest </span>"
   ]
  },
  {
   "attachments": {},
   "cell_type": "markdown",
   "metadata": {},
   "source": [
    "## <span style=\"color:darkgreen\">  Búsqueda GridSearchCV </span>"
   ]
  },
  {
   "cell_type": "code",
   "execution_count": 28,
   "metadata": {},
   "outputs": [],
   "source": [
    "Grid_Tecn = GridSearchCV(\n",
    "    estimator=rf, param_grid=pd_rf, n_jobs=n_jobs_, \n",
    "    cv=cv_ ,scoring=scoring_, refit=True, error_score=0\n",
    ")\n",
    "_=Grid_Tecn.fit(X = X_train, y = y_train)\n",
    "\n",
    "param2 = Grid_Tecn.best_params_\n",
    "mejor2= Grid_Tecn.best_estimator_\n",
    "predicciones2 = mejor2.predict(X = X_test)\n",
    "resul.iloc[1,1] = accuracy_score(y_true  = y_test, y_pred  = predicciones2)"
   ]
  },
  {
   "attachments": {},
   "cell_type": "markdown",
   "metadata": {},
   "source": [
    "## <span style=\"color:darkgreen\">  Búsqueda RandomSearchCV </span>"
   ]
  },
  {
   "cell_type": "code",
   "execution_count": 29,
   "metadata": {},
   "outputs": [],
   "source": [
    "Random_Tecn= RandomizedSearchCV(\n",
    "    estimator=rf, param_distributions=pd_rf, n_iter=n_iter_,\n",
    "    scoring=scoring_, n_jobs=n_jobs_, cv=cv_, refit=True, verbose= 0,random_state = 123,return_train_score = True\n",
    "    )\n",
    "_=Random_Tecn.fit(X = X_train, y = y_train)\n",
    "\n",
    "param3 = Random_Tecn.best_params_\n",
    "mejor3= Random_Tecn.best_estimator_\n",
    "predicciones3 = mejor3.predict(X = X_test)\n",
    "resul.iloc[2,1] = accuracy_score(y_true  = y_test, y_pred  = predicciones3)\n"
   ]
  },
  {
   "attachments": {},
   "cell_type": "markdown",
   "metadata": {},
   "source": [
    "# <span style=\"color:darkred\"> Máquinas Vectores de Soporte </span>"
   ]
  },
  {
   "attachments": {},
   "cell_type": "markdown",
   "metadata": {},
   "source": [
    "## <span style=\"color:darkgreen\">  Búsqueda GridSearchCV </span>"
   ]
  },
  {
   "cell_type": "code",
   "execution_count": 30,
   "metadata": {},
   "outputs": [],
   "source": [
    "Grid_Tecn = GridSearchCV(\n",
    "    estimator=svc_m, param_grid=pd_svc_m, n_jobs=n_jobs_, \n",
    "    cv=cv_ ,scoring=scoring_, refit=True, error_score=0\n",
    ")\n",
    "_=Grid_Tecn.fit(X = X_train, y = y_train)\n",
    "\n",
    "param4 = Grid_Tecn.best_params_\n",
    "mejor4= Grid_Tecn.best_estimator_\n",
    "predicciones4 = mejor4.predict(X = X_test)\n",
    "resul.iloc[1,2] = accuracy_score(y_true  = y_test, y_pred  = predicciones4)"
   ]
  },
  {
   "attachments": {},
   "cell_type": "markdown",
   "metadata": {},
   "source": [
    "## <span style=\"color:darkgreen\">  Búsqueda RandomSearchCV </span>"
   ]
  },
  {
   "cell_type": "code",
   "execution_count": 31,
   "metadata": {},
   "outputs": [],
   "source": [
    "Random_Tecn= RandomizedSearchCV(\n",
    "    estimator=svc_m, param_distributions=pd_svc_m, n_iter=n_iter_,\n",
    "    scoring=scoring_, n_jobs=n_jobs_, cv=cv_, refit=True, verbose= 0,random_state = 123,return_train_score = True\n",
    "    )\n",
    "Random_Tecn.fit(X = X_train, y = y_train)\n",
    "\n",
    "param5 = Random_Tecn.best_params_\n",
    "mejor5 = Random_Tecn.best_estimator_\n",
    "predicciones5 = mejor5.predict(X = X_test)\n",
    "resul.iloc[2,2] = accuracy_score(y_true  = y_test, y_pred  = predicciones5)"
   ]
  },
  {
   "attachments": {},
   "cell_type": "markdown",
   "metadata": {},
   "source": [
    "# <span style=\"color:darkred\"> LGBM </span>"
   ]
  },
  {
   "attachments": {},
   "cell_type": "markdown",
   "metadata": {},
   "source": [
    "## <span style=\"color:darkgreen\"> Búsqueda GridSearchCV </span>"
   ]
  },
  {
   "cell_type": "code",
   "execution_count": 32,
   "metadata": {},
   "outputs": [],
   "source": [
    "Grid_Tecn = GridSearchCV(\n",
    "    estimator=lgg, param_grid=pd_lgg, n_jobs=n_jobs_, \n",
    "    cv=cv_ ,scoring=scoring_, refit=True, error_score=0\n",
    ")\n",
    "_=Grid_Tecn.fit(X = X_train, y = y_train)\n",
    "\n",
    "param6 = Grid_Tecn.best_params_\n",
    "mejor6 = Grid_Tecn.best_estimator_\n",
    "predicciones6 = mejor6.predict(X = X_test)\n",
    "resul.iloc[1,3] = accuracy_score(y_true  = y_test, y_pred  = predicciones6)\n"
   ]
  },
  {
   "attachments": {},
   "cell_type": "markdown",
   "metadata": {},
   "source": [
    "## <span style=\"color:darkgreen\"> Búsqueda RandomSearchCV </span>"
   ]
  },
  {
   "cell_type": "code",
   "execution_count": 33,
   "metadata": {},
   "outputs": [],
   "source": [
    "Random_Tecn= RandomizedSearchCV(\n",
    "    estimator=lgg, param_distributions=pd_lgg, n_iter=n_iter_,\n",
    "    scoring=scoring_, n_jobs=n_jobs_, cv=cv_, refit=True, verbose= 0,random_state = 123,return_train_score = True\n",
    "    )\n",
    "_=Random_Tecn.fit(X = X_train, y = y_train)\n",
    "\n",
    "param7 = Random_Tecn.best_params_\n",
    "mejor7= Random_Tecn.best_estimator_\n",
    "predicciones7= mejor7.predict(X = X_test)\n",
    "resul.iloc[2,3] = accuracy_score(y_true  = y_test, y_pred  = predicciones7)"
   ]
  },
  {
   "cell_type": "markdown",
   "metadata": {},
   "source": [
    "# <span style=\"color:darkred\"> Tablas de Métricas por Algoritmo y método de optimización </span>"
   ]
  },
  {
   "cell_type": "code",
   "execution_count": 34,
   "metadata": {},
   "outputs": [],
   "source": [
    "resul2 = resul.iloc[1:3,:].copy()  \n",
    "resul2.iloc[0,0] = recall_score(y_test,predicciones)\n",
    "resul2.iloc[1,0] = recall_score(y_test,predicciones1)\n",
    "resul2.iloc[0,1] = recall_score(y_test,predicciones2)\n",
    "resul2.iloc[1,1] = recall_score(y_test,predicciones3)\n",
    "resul2.iloc[0,2] = recall_score(y_test,predicciones4)\n",
    "resul2.iloc[1,2] = recall_score(y_test,predicciones5)\n",
    "resul2.iloc[0,3] = recall_score(y_test,predicciones6)\n",
    "resul2.iloc[1,3] = recall_score(y_test,predicciones7)\n",
    "\n",
    "resul3 = resul2.copy()\n",
    "resul3.iloc[0,0] = recall_score(y_test,predicciones, average=None)[0]\n",
    "resul3.iloc[1,0] = recall_score(y_test,predicciones1, average=None)[0]\n",
    "resul3.iloc[0,1] = recall_score(y_test,predicciones2, average=None)[0]\n",
    "resul3.iloc[1,1] = recall_score(y_test,predicciones3, average=None)[0]\n",
    "resul3.iloc[0,2] = recall_score(y_test,predicciones4, average=None)[0]\n",
    "resul3.iloc[1,2] = recall_score(y_test,predicciones5, average=None)[0]\n",
    "resul3.iloc[0,3] = recall_score(y_test,predicciones6, average=None)[0]\n",
    "resul3.iloc[1,3] = recall_score(y_test,predicciones7, average=None)[0]\n",
    "\n",
    "resul2.iloc[0,0] = recall_score(y_test,predicciones)\n",
    "resul2.iloc[1,0] = recall_score(y_test,predicciones1)\n",
    "resul2.iloc[0,1] = recall_score(y_test,predicciones2)\n",
    "resul2.iloc[1,1] = recall_score(y_test,predicciones3)\n",
    "resul2.iloc[0,2] = recall_score(y_test,predicciones4)\n",
    "resul2.iloc[1,2] = recall_score(y_test,predicciones5)\n",
    "resul2.iloc[0,3] = recall_score(y_test,predicciones6)\n",
    "resul2.iloc[1,3] = recall_score(y_test,predicciones7)\n",
    "\n",
    "resul4 = resul3.copy()\n",
    "resul4.iloc[0,0] = precision_score(y_test,predicciones, average=None)[0]\n",
    "resul4.iloc[1,0] = precision_score(y_test,predicciones1, average=None)[0]\n",
    "resul4.iloc[0,1] = precision_score(y_test,predicciones2, average=None)[0]\n",
    "resul4.iloc[1,1] = precision_score(y_test,predicciones3, average=None)[0]\n",
    "resul4.iloc[0,2] = precision_score(y_test,predicciones4, average=None)[0]\n",
    "resul4.iloc[1,2] = precision_score(y_test,predicciones5, average=None)[0]\n",
    "resul4.iloc[0,3] = precision_score(y_test,predicciones6, average=None)[0]\n",
    "resul4.iloc[1,3] = precision_score(y_test,predicciones7, average=None)[0]"
   ]
  },
  {
   "cell_type": "markdown",
   "metadata": {},
   "source": [
    "## <span style=\"color:darkgreen\">Tabla para Accuracy </span>"
   ]
  },
  {
   "cell_type": "code",
   "execution_count": 35,
   "metadata": {},
   "outputs": [
    {
     "data": {
      "text/html": [
       "<div>\n",
       "<style scoped>\n",
       "    .dataframe tbody tr th:only-of-type {\n",
       "        vertical-align: middle;\n",
       "    }\n",
       "\n",
       "    .dataframe tbody tr th {\n",
       "        vertical-align: top;\n",
       "    }\n",
       "\n",
       "    .dataframe thead th {\n",
       "        text-align: right;\n",
       "    }\n",
       "</style>\n",
       "<table border=\"1\" class=\"dataframe\">\n",
       "  <thead>\n",
       "    <tr style=\"text-align: right;\">\n",
       "      <th></th>\n",
       "      <th>knn</th>\n",
       "      <th>rforest</th>\n",
       "      <th>SVM</th>\n",
       "      <th>lgbm</th>\n",
       "    </tr>\n",
       "    <tr>\n",
       "      <th>Técnica</th>\n",
       "      <th></th>\n",
       "      <th></th>\n",
       "      <th></th>\n",
       "      <th></th>\n",
       "    </tr>\n",
       "  </thead>\n",
       "  <tbody>\n",
       "    <tr>\n",
       "      <th>GridSearch</th>\n",
       "      <td>0.667269</td>\n",
       "      <td>0.741410</td>\n",
       "      <td>0.643761</td>\n",
       "      <td>0.707052</td>\n",
       "    </tr>\n",
       "    <tr>\n",
       "      <th>RandomSearch</th>\n",
       "      <td>0.643761</td>\n",
       "      <td>0.750452</td>\n",
       "      <td>0.694394</td>\n",
       "      <td>0.712477</td>\n",
       "    </tr>\n",
       "  </tbody>\n",
       "</table>\n",
       "</div>"
      ],
      "text/plain": [
       "                   knn   rforest       SVM      lgbm\n",
       "Técnica                                             \n",
       "GridSearch    0.667269  0.741410  0.643761  0.707052\n",
       "RandomSearch  0.643761  0.750452  0.694394  0.712477"
      ]
     },
     "execution_count": 35,
     "metadata": {},
     "output_type": "execute_result"
    }
   ],
   "source": [
    "resul.iloc[1:3,:]"
   ]
  },
  {
   "cell_type": "markdown",
   "metadata": {},
   "source": [
    "## <span style=\"color:darkgreen\"> Tabla para Especificidad </span>"
   ]
  },
  {
   "cell_type": "code",
   "execution_count": 36,
   "metadata": {},
   "outputs": [
    {
     "data": {
      "text/html": [
       "<div>\n",
       "<style scoped>\n",
       "    .dataframe tbody tr th:only-of-type {\n",
       "        vertical-align: middle;\n",
       "    }\n",
       "\n",
       "    .dataframe tbody tr th {\n",
       "        vertical-align: top;\n",
       "    }\n",
       "\n",
       "    .dataframe thead th {\n",
       "        text-align: right;\n",
       "    }\n",
       "</style>\n",
       "<table border=\"1\" class=\"dataframe\">\n",
       "  <thead>\n",
       "    <tr style=\"text-align: right;\">\n",
       "      <th></th>\n",
       "      <th>knn</th>\n",
       "      <th>rforest</th>\n",
       "      <th>SVM</th>\n",
       "      <th>lgbm</th>\n",
       "    </tr>\n",
       "    <tr>\n",
       "      <th>Técnica</th>\n",
       "      <th></th>\n",
       "      <th></th>\n",
       "      <th></th>\n",
       "      <th></th>\n",
       "    </tr>\n",
       "  </thead>\n",
       "  <tbody>\n",
       "    <tr>\n",
       "      <th>GridSearch</th>\n",
       "      <td>0.505814</td>\n",
       "      <td>0.325581</td>\n",
       "      <td>0.447674</td>\n",
       "      <td>0.709302</td>\n",
       "    </tr>\n",
       "    <tr>\n",
       "      <th>RandomSearch</th>\n",
       "      <td>0.482558</td>\n",
       "      <td>0.331395</td>\n",
       "      <td>0.389535</td>\n",
       "      <td>0.703488</td>\n",
       "    </tr>\n",
       "  </tbody>\n",
       "</table>\n",
       "</div>"
      ],
      "text/plain": [
       "                   knn   rforest       SVM      lgbm\n",
       "Técnica                                             \n",
       "GridSearch    0.505814  0.325581  0.447674  0.709302\n",
       "RandomSearch  0.482558  0.331395  0.389535  0.703488"
      ]
     },
     "execution_count": 36,
     "metadata": {},
     "output_type": "execute_result"
    }
   ],
   "source": [
    "resul2"
   ]
  },
  {
   "cell_type": "markdown",
   "metadata": {},
   "source": [
    "## <span style=\"color:darkgreen\"> Tabla para Sensibilidad</span>"
   ]
  },
  {
   "cell_type": "code",
   "execution_count": 37,
   "metadata": {},
   "outputs": [
    {
     "data": {
      "text/html": [
       "<div>\n",
       "<style scoped>\n",
       "    .dataframe tbody tr th:only-of-type {\n",
       "        vertical-align: middle;\n",
       "    }\n",
       "\n",
       "    .dataframe tbody tr th {\n",
       "        vertical-align: top;\n",
       "    }\n",
       "\n",
       "    .dataframe thead th {\n",
       "        text-align: right;\n",
       "    }\n",
       "</style>\n",
       "<table border=\"1\" class=\"dataframe\">\n",
       "  <thead>\n",
       "    <tr style=\"text-align: right;\">\n",
       "      <th></th>\n",
       "      <th>knn</th>\n",
       "      <th>rforest</th>\n",
       "      <th>SVM</th>\n",
       "      <th>lgbm</th>\n",
       "    </tr>\n",
       "    <tr>\n",
       "      <th>Técnica</th>\n",
       "      <th></th>\n",
       "      <th></th>\n",
       "      <th></th>\n",
       "      <th></th>\n",
       "    </tr>\n",
       "  </thead>\n",
       "  <tbody>\n",
       "    <tr>\n",
       "      <th>GridSearch</th>\n",
       "      <td>0.740157</td>\n",
       "      <td>0.929134</td>\n",
       "      <td>0.732283</td>\n",
       "      <td>0.706037</td>\n",
       "    </tr>\n",
       "    <tr>\n",
       "      <th>RandomSearch</th>\n",
       "      <td>0.716535</td>\n",
       "      <td>0.939633</td>\n",
       "      <td>0.832021</td>\n",
       "      <td>0.716535</td>\n",
       "    </tr>\n",
       "  </tbody>\n",
       "</table>\n",
       "</div>"
      ],
      "text/plain": [
       "                   knn   rforest       SVM      lgbm\n",
       "Técnica                                             \n",
       "GridSearch    0.740157  0.929134  0.732283  0.706037\n",
       "RandomSearch  0.716535  0.939633  0.832021  0.716535"
      ]
     },
     "execution_count": 37,
     "metadata": {},
     "output_type": "execute_result"
    }
   ],
   "source": [
    "resul3"
   ]
  },
  {
   "cell_type": "markdown",
   "metadata": {},
   "source": [
    "## <span style=\"color:darkgreen\"> Tabla para Precisión </span>"
   ]
  },
  {
   "cell_type": "code",
   "execution_count": 38,
   "metadata": {},
   "outputs": [
    {
     "data": {
      "text/html": [
       "<div>\n",
       "<style scoped>\n",
       "    .dataframe tbody tr th:only-of-type {\n",
       "        vertical-align: middle;\n",
       "    }\n",
       "\n",
       "    .dataframe tbody tr th {\n",
       "        vertical-align: top;\n",
       "    }\n",
       "\n",
       "    .dataframe thead th {\n",
       "        text-align: right;\n",
       "    }\n",
       "</style>\n",
       "<table border=\"1\" class=\"dataframe\">\n",
       "  <thead>\n",
       "    <tr style=\"text-align: right;\">\n",
       "      <th></th>\n",
       "      <th>knn</th>\n",
       "      <th>rforest</th>\n",
       "      <th>SVM</th>\n",
       "      <th>lgbm</th>\n",
       "    </tr>\n",
       "    <tr>\n",
       "      <th>Técnica</th>\n",
       "      <th></th>\n",
       "      <th></th>\n",
       "      <th></th>\n",
       "      <th></th>\n",
       "    </tr>\n",
       "  </thead>\n",
       "  <tbody>\n",
       "    <tr>\n",
       "      <th>GridSearch</th>\n",
       "      <td>0.768392</td>\n",
       "      <td>0.753191</td>\n",
       "      <td>0.745989</td>\n",
       "      <td>0.843260</td>\n",
       "    </tr>\n",
       "    <tr>\n",
       "      <th>RandomSearch</th>\n",
       "      <td>0.754144</td>\n",
       "      <td>0.756871</td>\n",
       "      <td>0.751185</td>\n",
       "      <td>0.842593</td>\n",
       "    </tr>\n",
       "  </tbody>\n",
       "</table>\n",
       "</div>"
      ],
      "text/plain": [
       "                   knn   rforest       SVM      lgbm\n",
       "Técnica                                             \n",
       "GridSearch    0.768392  0.753191  0.745989  0.843260\n",
       "RandomSearch  0.754144  0.756871  0.751185  0.842593"
      ]
     },
     "execution_count": 38,
     "metadata": {},
     "output_type": "execute_result"
    }
   ],
   "source": [
    "resul4"
   ]
  },
  {
   "cell_type": "markdown",
   "metadata": {},
   "source": [
    "## <span style=\"color:darkgreen\"> Resumen de Métricas para Cada Método Escogido\n",
    "\n",
    "<span style=\"color:darkblue\"> Para cada algoritmo se escoge el mejor método de optimización teniendovcomo referencia el valor más alto de especificidad.\n",
    "\n",
    "<span style=\"color:darkblue\">  Por lo tanto se escogen los siguientes algoritmos para ser comparados mediante la herramienta \"classification_report\". De este resumen hay que tener claro que el valor de Sensibilidad corresponde al dato entregado por Recall en la clase 0, El valor de Especificidad es Recall en la clase 1:\n",
    "\n",
    "- <span style=\"color:darkblue\">  knn en GridSearch\n",
    "- <span style=\"color:darkblue\">  random Forest en RandomSearch\n",
    "- <span style=\"color:darkblue\">  Maquinas de Vectores de Soportes en GridSearch\n",
    "- <span style=\"color:darkblue\">  LGBM en RandomSearch"
   ]
  },
  {
   "cell_type": "markdown",
   "metadata": {},
   "source": [
    "### <span style=\"color:darkorange\"> knn"
   ]
  },
  {
   "cell_type": "code",
   "execution_count": 39,
   "metadata": {},
   "outputs": [
    {
     "name": "stdout",
     "output_type": "stream",
     "text": [
      "------------------------------------------------------\n",
      "      Algoritmo con K Nearest Neighbor - knn\n",
      "------------------------------------------------------\n",
      "Valor AUC: 62.3\n",
      "------------------------------------------------------\n",
      "              precision    recall  f1-score   support\n",
      "\n",
      "           0       0.77      0.74      0.75       381\n",
      "           1       0.47      0.51      0.49       172\n",
      "\n",
      "    accuracy                           0.67       553\n",
      "   macro avg       0.62      0.62      0.62       553\n",
      "weighted avg       0.67      0.67      0.67       553\n",
      "\n",
      "------------------------------------------------------\n"
     ]
    }
   ],
   "source": [
    "fpr, tpr, thresholds = roc_curve(y_test,predicciones)\n",
    "AUC_knn= metrics.auc(fpr, tpr)\n",
    "print('------------------------------------------------------')\n",
    "print('      Algoritmo con K Nearest Neighbor - knn')\n",
    "print('------------------------------------------------------')\n",
    "print(\"Valor AUC:\", (AUC_knn*100).round(1))\n",
    "print('------------------------------------------------------')\n",
    "print(classification_report(y_test,  predicciones))\n",
    "print('------------------------------------------------------')"
   ]
  },
  {
   "cell_type": "code",
   "execution_count": 40,
   "metadata": {},
   "outputs": [
    {
     "name": "stdout",
     "output_type": "stream",
     "text": [
      "------------------------------------------------------\n",
      "      Algoritmo con K Nearest Neighbor - knn\n",
      "------------------------------------------------------\n",
      "Valor AUC: 60.0\n",
      "------------------------------------------------------\n",
      "              precision    recall  f1-score   support\n",
      "\n",
      "           0       0.75      0.72      0.73       381\n",
      "           1       0.43      0.48      0.46       172\n",
      "\n",
      "    accuracy                           0.64       553\n",
      "   macro avg       0.59      0.60      0.60       553\n",
      "weighted avg       0.65      0.64      0.65       553\n",
      "\n",
      "------------------------------------------------------\n"
     ]
    }
   ],
   "source": [
    "fpr, tpr, thresholds = roc_curve(y_test,predicciones1)\n",
    "AUC_knn= metrics.auc(fpr, tpr)\n",
    "print('------------------------------------------------------')\n",
    "print('      Algoritmo con K Nearest Neighbor - knn')\n",
    "print('------------------------------------------------------')\n",
    "print(\"Valor AUC:\", (AUC_knn*100).round(1))\n",
    "print('------------------------------------------------------')\n",
    "print(classification_report(y_test,  predicciones1))\n",
    "print('------------------------------------------------------')"
   ]
  },
  {
   "cell_type": "markdown",
   "metadata": {},
   "source": [
    "### <span style=\"color:darkorange\">Random Forest"
   ]
  },
  {
   "cell_type": "code",
   "execution_count": 41,
   "metadata": {},
   "outputs": [
    {
     "name": "stdout",
     "output_type": "stream",
     "text": [
      "------------------------------------------------------\n",
      "            Algoritmo Random Forest - rf\n",
      "------------------------------------------------------\n",
      "Valor AUC: 62.7\n",
      "------------------------------------------------------\n",
      "              precision    recall  f1-score   support\n",
      "\n",
      "           0       0.75      0.93      0.83       381\n",
      "           1       0.67      0.33      0.44       172\n",
      "\n",
      "    accuracy                           0.74       553\n",
      "   macro avg       0.71      0.63      0.64       553\n",
      "weighted avg       0.73      0.74      0.71       553\n",
      "\n",
      "------------------------------------------------------\n"
     ]
    }
   ],
   "source": [
    "fpr, tpr, thresholds = roc_curve(y_test,predicciones2)\n",
    "AUC_rf = metrics.auc(fpr, tpr)\n",
    "print('------------------------------------------------------')\n",
    "print('            Algoritmo Random Forest - rf')\n",
    "print('------------------------------------------------------')\n",
    "print(\"Valor AUC:\", (AUC_rf*100).round(1))\n",
    "print('------------------------------------------------------')\n",
    "print(classification_report(y_test,  predicciones2))\n",
    "print('------------------------------------------------------')"
   ]
  },
  {
   "cell_type": "code",
   "execution_count": 42,
   "metadata": {},
   "outputs": [
    {
     "name": "stdout",
     "output_type": "stream",
     "text": [
      "------------------------------------------------------\n",
      "            Algoritmo Random Forest - rf\n",
      "------------------------------------------------------\n",
      "Valor AUC: 63.6\n",
      "------------------------------------------------------\n",
      "              precision    recall  f1-score   support\n",
      "\n",
      "           0       0.76      0.94      0.84       381\n",
      "           1       0.71      0.33      0.45       172\n",
      "\n",
      "    accuracy                           0.75       553\n",
      "   macro avg       0.73      0.64      0.65       553\n",
      "weighted avg       0.74      0.75      0.72       553\n",
      "\n",
      "------------------------------------------------------\n"
     ]
    }
   ],
   "source": [
    "fpr, tpr, thresholds = roc_curve(y_test,predicciones3)\n",
    "AUC_rf = metrics.auc(fpr, tpr)\n",
    "print('------------------------------------------------------')\n",
    "print('            Algoritmo Random Forest - rf')\n",
    "print('------------------------------------------------------')\n",
    "print(\"Valor AUC:\", (AUC_rf*100).round(1))\n",
    "print('------------------------------------------------------')\n",
    "print(classification_report(y_test,  predicciones3))\n",
    "print('------------------------------------------------------')"
   ]
  },
  {
   "cell_type": "markdown",
   "metadata": {},
   "source": [
    "### <span style=\"color:darkorange\">SVM"
   ]
  },
  {
   "cell_type": "code",
   "execution_count": 43,
   "metadata": {},
   "outputs": [
    {
     "name": "stdout",
     "output_type": "stream",
     "text": [
      "------------------------------------------------------\n",
      "   Algoritmo Máquinas de Vectores de Soporte - SVM\n",
      "------------------------------------------------------\n",
      "Valor AUC: 59.0\n",
      "------------------------------------------------------\n",
      "              precision    recall  f1-score   support\n",
      "\n",
      "           0       0.75      0.73      0.74       381\n",
      "           1       0.43      0.45      0.44       172\n",
      "\n",
      "    accuracy                           0.64       553\n",
      "   macro avg       0.59      0.59      0.59       553\n",
      "weighted avg       0.65      0.64      0.65       553\n",
      "\n",
      "------------------------------------------------------\n"
     ]
    }
   ],
   "source": [
    "fpr, tpr, thresholds = roc_curve(y_test,predicciones4)\n",
    "AUC_SVM = metrics.auc(fpr, tpr)\n",
    "print('------------------------------------------------------')\n",
    "print('   Algoritmo Máquinas de Vectores de Soporte - SVM')\n",
    "print('------------------------------------------------------')\n",
    "print(\"Valor AUC:\", (AUC_SVM*100).round(1))\n",
    "print('------------------------------------------------------')\n",
    "print(classification_report(y_test,  predicciones4))\n",
    "print('------------------------------------------------------')"
   ]
  },
  {
   "cell_type": "code",
   "execution_count": 44,
   "metadata": {},
   "outputs": [
    {
     "name": "stdout",
     "output_type": "stream",
     "text": [
      "------------------------------------------------------\n",
      "   Algoritmo Máquinas de Vectores de Soporte - SVM\n",
      "------------------------------------------------------\n",
      "Valor AUC: 61.1\n",
      "------------------------------------------------------\n",
      "              precision    recall  f1-score   support\n",
      "\n",
      "           0       0.75      0.83      0.79       381\n",
      "           1       0.51      0.39      0.44       172\n",
      "\n",
      "    accuracy                           0.69       553\n",
      "   macro avg       0.63      0.61      0.62       553\n",
      "weighted avg       0.68      0.69      0.68       553\n",
      "\n",
      "------------------------------------------------------\n"
     ]
    }
   ],
   "source": [
    "fpr, tpr, thresholds = roc_curve(y_test,predicciones5)\n",
    "AUC_SVM = metrics.auc(fpr, tpr)\n",
    "print('------------------------------------------------------')\n",
    "print('   Algoritmo Máquinas de Vectores de Soporte - SVM')\n",
    "print('------------------------------------------------------')\n",
    "print(\"Valor AUC:\", (AUC_SVM*100).round(1))\n",
    "print('------------------------------------------------------')\n",
    "print(classification_report(y_test,  predicciones5))\n",
    "print('------------------------------------------------------')"
   ]
  },
  {
   "cell_type": "markdown",
   "metadata": {},
   "source": [
    "### <span style=\"color:darkorange\">LGBM"
   ]
  },
  {
   "cell_type": "code",
   "execution_count": 45,
   "metadata": {},
   "outputs": [
    {
     "name": "stdout",
     "output_type": "stream",
     "text": [
      "------------------------------------------------------\n",
      "            Algoritmo LightBM - lgmb\n",
      "------------------------------------------------------\n",
      "Valor AUC: 70.8\n",
      "              precision    recall  f1-score   support\n",
      "\n",
      "           0       0.84      0.71      0.77       381\n",
      "           1       0.52      0.71      0.60       172\n",
      "\n",
      "    accuracy                           0.71       553\n",
      "   macro avg       0.68      0.71      0.68       553\n",
      "weighted avg       0.74      0.71      0.72       553\n",
      "\n"
     ]
    }
   ],
   "source": [
    "\n",
    "fpr, tpr, thresholds = roc_curve(y_test,predicciones6)\n",
    "AUC_LGBM = metrics.auc(fpr, tpr)\n",
    "print('------------------------------------------------------')\n",
    "print('            Algoritmo LightBM - lgmb')\n",
    "print('------------------------------------------------------')\n",
    "print(\"Valor AUC:\", (AUC_LGBM*100).round(1))\n",
    "print(classification_report(y_test,  predicciones6))"
   ]
  },
  {
   "cell_type": "code",
   "execution_count": 46,
   "metadata": {},
   "outputs": [
    {
     "name": "stdout",
     "output_type": "stream",
     "text": [
      "------------------------------------------------------\n",
      "            Algoritmo LightBM - lgmb\n",
      "------------------------------------------------------\n",
      "Valor AUC: 71.0\n",
      "              precision    recall  f1-score   support\n",
      "\n",
      "           0       0.84      0.72      0.77       381\n",
      "           1       0.53      0.70      0.60       172\n",
      "\n",
      "    accuracy                           0.71       553\n",
      "   macro avg       0.69      0.71      0.69       553\n",
      "weighted avg       0.74      0.71      0.72       553\n",
      "\n"
     ]
    }
   ],
   "source": [
    "fpr, tpr, thresholds = roc_curve(y_test,predicciones7)\n",
    "AUC_LGBM = metrics.auc(fpr, tpr)\n",
    "print('------------------------------------------------------')\n",
    "print('            Algoritmo LightBM - lgmb')\n",
    "print('------------------------------------------------------')\n",
    "print(\"Valor AUC:\", (AUC_LGBM*100).round(1))\n",
    "print(classification_report(y_test,  predicciones7))"
   ]
  },
  {
   "cell_type": "code",
   "execution_count": 47,
   "metadata": {},
   "outputs": [
    {
     "name": "stdout",
     "output_type": "stream",
     "text": [
      "           Hiperparámetros knn\n",
      "------------------------------------------------------------------------------------\n",
      "GridSearchCV\n",
      "{'modelo__metric': 'manhattan', 'modelo__n_neighbors': 1, 'modelo__weights': 'uniform'}\n",
      "------------------------------------------------------------------------------------\n",
      "RandomSearchCV\n",
      "{'modelo__weights': 'uniform', 'modelo__n_neighbors': 1, 'modelo__metric': 'minkowski'}\n"
     ]
    }
   ],
   "source": [
    "print('           Hiperparámetros knn')\n",
    "print('------------------------------------------------------------------------------------')\n",
    "print('GridSearchCV')\n",
    "print(param0)\n",
    "print('------------------------------------------------------------------------------------')\n",
    "print('RandomSearchCV')\n",
    "print(param1)"
   ]
  },
  {
   "cell_type": "code",
   "execution_count": 48,
   "metadata": {},
   "outputs": [
    {
     "name": "stdout",
     "output_type": "stream",
     "text": [
      "           Hiperparámetros rf\n",
      "------------------------------------------------------------------------------------\n",
      "GridSearchCV\n",
      "{'modelo__max_depth': None, 'modelo__max_features': 'auto', 'modelo__n_estimators': 100}\n",
      "------------------------------------------------------------------------------------\n",
      "RandomSearchCV\n",
      "{'modelo__n_estimators': 1000, 'modelo__max_features': 'log2', 'modelo__max_depth': 100}\n"
     ]
    }
   ],
   "source": [
    "print('           Hiperparámetros rf')\n",
    "print('------------------------------------------------------------------------------------')\n",
    "print('GridSearchCV')\n",
    "print(param2)\n",
    "print('------------------------------------------------------------------------------------')\n",
    "print('RandomSearchCV')\n",
    "print(param3)"
   ]
  },
  {
   "cell_type": "code",
   "execution_count": 49,
   "metadata": {},
   "outputs": [
    {
     "name": "stdout",
     "output_type": "stream",
     "text": [
      "           Hiperparámetros SVM\n",
      "------------------------------------------------------------------------------------\n",
      "GridSearchCV\n",
      "{'modelo__C': 50, 'modelo__gamma': 'scale', 'modelo__kernel': 'poly'}\n",
      "------------------------------------------------------------------------------------\n",
      "RandomSearchCV\n",
      "{'modelo__kernel': 'rbf', 'modelo__gamma': 'auto', 'modelo__C': 50}\n"
     ]
    }
   ],
   "source": [
    "print('           Hiperparámetros SVM')\n",
    "print('------------------------------------------------------------------------------------')\n",
    "print('GridSearchCV')\n",
    "print(param4)\n",
    "print('------------------------------------------------------------------------------------')\n",
    "print('RandomSearchCV')\n",
    "print(param5)"
   ]
  },
  {
   "cell_type": "code",
   "execution_count": 50,
   "metadata": {},
   "outputs": [
    {
     "name": "stdout",
     "output_type": "stream",
     "text": [
      "           Hiperparámetros lgbm\n",
      "------------------------------------------------------------------------------------\n",
      "GridSearchCV\n",
      "{'modelo__boosting_type': 'goss', 'modelo__class_weight': 'balanced', 'modelo__learning_rate': 0.03881533447356429, 'modelo__num_leaves': 30}\n",
      "------------------------------------------------------------------------------------\n",
      "RandomSearchCV\n",
      "{'modelo__num_leaves': 50, 'modelo__learning_rate': 0.03881533447356429, 'modelo__class_weight': 'balanced', 'modelo__boosting_type': 'goss'}\n"
     ]
    }
   ],
   "source": [
    "print('           Hiperparámetros lgbm')\n",
    "print('------------------------------------------------------------------------------------')\n",
    "print('GridSearchCV')\n",
    "print(param6)\n",
    "print('------------------------------------------------------------------------------------')\n",
    "print('RandomSearchCV')\n",
    "print(param7)"
   ]
  },
  {
   "attachments": {},
   "cell_type": "markdown",
   "metadata": {},
   "source": [
    "# <span style=\"color:darkred\"> Stacking"
   ]
  },
  {
   "cell_type": "markdown",
   "metadata": {},
   "source": [
    "<span style=\"color:darkblue\"> Se crea un nuevo algoritmo con los hiperparámetros de los algoritmos escogidos"
   ]
  },
  {
   "cell_type": "code",
   "execution_count": 51,
   "metadata": {},
   "outputs": [],
   "source": [
    "from sklearn.ensemble import StackingClassifier\n",
    "\n",
    "# Pipeline: preprocesado + modelos para el stacking\n",
    "# ==============================================================================\n",
    "# Identificación de columnas numéricas y catégoricas\n",
    "numeric_cols = X_train.select_dtypes(include=['float64', 'int']).columns.to_list()\n",
    "cat_cols = X_train.select_dtypes(include=['object', 'category']).columns.to_list()\n",
    "\n",
    "preprocessor = ColumnTransformer(\n",
    "                   [('scale', StandardScaler(), numeric_cols),\n",
    "                    ('onehot', OneHotEncoder(handle_unknown='ignore'), cat_cols)],\n",
    "                remainder='passthrough')\n",
    "\n",
    "# Se combinan los pasos de preprocesado y el modelo en un mismo pipeline.\n",
    "pipe_knn = Pipeline([('preprocessing', preprocessor),\n",
    "                     ('knn', KNeighborsClassifier(\n",
    "                                         metric = 'manhattan',\n",
    "                                         weights = 'uniform',\n",
    "                                         n_neighbors = 1\n",
    "                                        )\n",
    "                     )])\n",
    "pipe_rf = Pipeline([('preprocessing', preprocessor),\n",
    "                     ('random_forest', RandomForestClassifier(\n",
    "                                         n_estimators = 100,\n",
    "                                         max_features = 'sqrt',\n",
    "                                         max_depth    = 500\n",
    "                                        )\n",
    "                     )])\n",
    "pipe_svm = Pipeline([('preprocessing', preprocessor),\n",
    "                     ('svm', SVC(\n",
    "                                         C = 50,                 \n",
    "                                         kernel = 'poly',\n",
    "                                         gamma  = 'scale'\n",
    "                                        )\n",
    "                     )])\n",
    "pipe_lgbm = Pipeline([('preprocessing', preprocessor),\n",
    "                     ('Decision_Tree', lgb.LGBMClassifier(\n",
    "                                         num_leaves = 50,                 \n",
    "                                         learning_rate = 0.03881533447356429,\n",
    "                                         class_weight = 'balanced',\n",
    "                                         boosting_type = 'goss'\n",
    "                                         )\n",
    "                    )])"
   ]
  },
  {
   "cell_type": "code",
   "execution_count": 52,
   "metadata": {},
   "outputs": [],
   "source": [
    "from sklearn.linear_model import LogisticRegression\n",
    "# Definición y entrenamiento del StackingRegressor\n",
    "# ==============================================================================\n",
    "estimators = [('knn', pipe_knn),\n",
    "              ('random_forest', pipe_rf),\n",
    "              ('DLGBM', pipe_lgbm),\n",
    "              ('svm', pipe_svm)]\n",
    "\n",
    "stacking_cla= StackingClassifier(estimators=estimators,\n",
    "                                       final_estimator=LogisticRegression())\n",
    "# Se asigna el resultado a _ para que no se imprima por pantalla\n",
    "_ = stacking_cla.fit(X = X_train, y = y_train)"
   ]
  },
  {
   "cell_type": "code",
   "execution_count": 53,
   "metadata": {},
   "outputs": [],
   "source": [
    "stacking_model = stacking_cla\n",
    "predicciones16 = stacking_model.predict(X = X_test)\n",
    "Accuracy_stacking= accuracy_score(y_true  = y_test, y_pred  = predicciones16)\n"
   ]
  },
  {
   "cell_type": "code",
   "execution_count": 54,
   "metadata": {},
   "outputs": [
    {
     "name": "stdout",
     "output_type": "stream",
     "text": [
      "AUC: 64.9\n",
      "              precision    recall  f1-score   support\n",
      "\n",
      "           0       0.76      0.97      0.85       381\n",
      "           1       0.81      0.33      0.47       172\n",
      "\n",
      "    accuracy                           0.77       553\n",
      "   macro avg       0.79      0.65      0.66       553\n",
      "weighted avg       0.78      0.77      0.73       553\n",
      "\n"
     ]
    }
   ],
   "source": [
    "fpr, tpr, thresholds = roc_curve(y_test,predicciones16)\n",
    "AUC_STAKING = metrics.auc(fpr, tpr)\n",
    "print(\"AUC:\", (AUC_STAKING*100).round(1))\n",
    "print(classification_report(y_test,  predicciones16))"
   ]
  },
  {
   "cell_type": "markdown",
   "metadata": {},
   "source": [
    "# <span style=\"color:darkred\"> Gráfica Comparativa de Modelos por Métricas "
   ]
  },
  {
   "cell_type": "code",
   "execution_count": 55,
   "metadata": {},
   "outputs": [
    {
     "data": {
      "image/png": "[encoded data removed]",
      "text/plain": [
       "<Figure size 3000x600 with 2 Axes>"
      ]
     },
     "metadata": {},
     "output_type": "display_data"
    }
   ],
   "source": [
    "error_modelos = pd.DataFrame({'modelo': ['knn', 'random forest', 'SVM','lgbm','stacking'],\n",
    "                              'Accuracy': [resul.iloc[1,0], resul.iloc[2,1], resul.iloc[1,2], resul.iloc[2,3], Accuracy_stacking]})\n",
    "error_modelos = error_modelos.sort_values('Accuracy', ascending=False)\n",
    "\n",
    "error_modelos1 = pd.DataFrame({'modelo': ['knn', 'random forest', 'SVM','lgbm','stacking'],\n",
    "                              'Especificidad': [resul2.iloc[0,0], resul2.iloc[1,1], resul2.iloc[0,2], resul2.iloc[1,3], recall_score(y_test,predicciones16)]})\n",
    "error_modelos1 = error_modelos1.sort_values('Especificidad', ascending=False)\n",
    "\n",
    "plt.figure(figsize=(30, 6))\n",
    "plt.subplot(131)\n",
    "plt.hlines(error_modelos.modelo, xmin=0, xmax=error_modelos.Accuracy)\n",
    "plt.plot(error_modelos.Accuracy, error_modelos.modelo, \"o\", color='black')\n",
    "plt.tick_params(axis='y', which='major', labelsize=12)\n",
    "plt.title('Comparación Accuracy')\n",
    "plt.xlabel('Test accuracy')\n",
    "\n",
    "plt.subplot(132)\n",
    "plt.hlines(error_modelos1.modelo, xmin=0, xmax=error_modelos1.Especificidad)\n",
    "plt.plot(error_modelos1.Especificidad, error_modelos1.modelo, \"o\", color='black')\n",
    "plt.tick_params(axis='y', which='major', labelsize=12)\n",
    "plt.title('Comparación Especificidad')\n",
    "plt.xlabel('Test Especificidad')\n",
    "plt.show()\n",
    "\n"
   ]
  },
  {
   "cell_type": "code",
   "execution_count": 57,
   "metadata": {},
   "outputs": [
    {
     "data": {
      "image/png": "[encoded data removed]",
      "text/plain": [
       "<Figure size 3000x600 with 2 Axes>"
      ]
     },
     "metadata": {},
     "output_type": "display_data"
    }
   ],
   "source": [
    "error_modelos2 = pd.DataFrame({'modelo': ['knn', 'random forest', 'SVM','lgbm','stacking'],\n",
    "                              'Sensibilidad': [resul3.iloc[0,0], resul3.iloc[1,1], resul3.iloc[0,2], resul3.iloc[1,3], recall_score(y_test,predicciones16,average=None)[0]]})\n",
    "error_modelos2 = error_modelos2.sort_values('Sensibilidad', ascending=False)\n",
    "\n",
    "error_modelos3 = pd.DataFrame({'modelo': ['knn', 'random forest', 'SVM','lgbm','stacking'],\n",
    "                              'Precisión': [resul4.iloc[0,0], resul4.iloc[1,1], resul4.iloc[0,2], resul4.iloc[1,3], precision_score(y_test,predicciones16,average=None)[0]]})\n",
    "error_modelos3 = error_modelos3.sort_values('Precisión', ascending=False)\n",
    "\n",
    "plt.figure(figsize=(30, 6))\n",
    "plt.subplot(131)\n",
    "plt.hlines(error_modelos2.modelo, xmin=0, xmax=error_modelos2.Sensibilidad)\n",
    "plt.plot(error_modelos2.Sensibilidad, error_modelos2.modelo, \"o\", color='black')\n",
    "plt.tick_params(axis='y', which='major', labelsize=12)\n",
    "plt.title('Comparación Sensibilidad')\n",
    "plt.xlabel('Test Sensibilidad')\n",
    "\n",
    "plt.subplot(132)\n",
    "plt.hlines(error_modelos3.modelo, xmin=0, xmax=error_modelos3.Precisión)\n",
    "plt.plot(error_modelos3.Precisión, error_modelos3.modelo, \"o\", color='black')\n",
    "plt.tick_params(axis='y', which='major', labelsize=12)\n",
    "plt.title('Comparación Precisión')\n",
    "plt.xlabel('Test Precisión')\n",
    "plt.show()\n"
   ]
  },
  {
   "cell_type": "code",
   "execution_count": 58,
   "metadata": {},
   "outputs": [
    {
     "data": {
      "text/plain": [
       "Text(0.5, 0, 'Test AUC')"
      ]
     },
     "execution_count": 58,
     "metadata": {},
     "output_type": "execute_result"
    },
    {
     "data": {
      "image/png": "[encoded data removed]",
      "text/plain": [
       "<Figure size 3000x600 with 1 Axes>"
      ]
     },
     "metadata": {},
     "output_type": "display_data"
    }
   ],
   "source": [
    "error_modelos = pd.DataFrame({'modelo': ['knn', 'random forest', 'SVM','lgbm','stacking'],\n",
    "                              'AUC': [AUC_knn, AUC_rf, AUC_SVM, AUC_LGBM, AUC_STAKING]})\n",
    "error_modelos = error_modelos.sort_values('AUC', ascending=False)\n",
    "\n",
    "plt.figure(figsize=(30, 6))\n",
    "plt.subplot(131)\n",
    "plt.hlines(error_modelos.modelo, xmin=0, xmax=error_modelos.AUC)\n",
    "plt.plot(error_modelos.AUC, error_modelos.modelo, \"o\", color='black')\n",
    "plt.tick_params(axis='y', which='major', labelsize=12)\n",
    "plt.title('Comparación AUC')\n",
    "plt.xlabel('Test AUC')"
   ]
  },
  {
   "cell_type": "markdown",
   "metadata": {},
   "source": [
    "<span style=\"color:darkblue\"> De las 5 métricas a las cuales fueron sometidos los algoritmos el LGBM gana en 3, que son; Especificidad, precisión y AUC. En las otras dos métricas, Precisión y Accuracy el algoritmo ganador es el Stacking."
   ]
  },
  {
   "attachments": {},
   "cell_type": "markdown",
   "metadata": {},
   "source": [
    "# <span style=\"color:darkred\"> LGBM"
   ]
  },
  {
   "cell_type": "markdown",
   "metadata": {},
   "source": [
    "## <span style=\"color:darkgreen\"> Matriz de Confusión"
   ]
  },
  {
   "cell_type": "code",
   "execution_count": 59,
   "metadata": {},
   "outputs": [
    {
     "data": {
      "text/plain": [
       "<AxesSubplot:>"
      ]
     },
     "execution_count": 59,
     "metadata": {},
     "output_type": "execute_result"
    },
    {
     "data": {
      "image/png": "[encoded data removed]",
      "text/plain": [
       "<Figure size 800x500 with 2 Axes>"
      ]
     },
     "metadata": {},
     "output_type": "display_data"
    }
   ],
   "source": [
    "import seaborn as sns\n",
    "from sklearn.metrics import confusion_matrix\n",
    "cm=confusion_matrix(y_test,predicciones7)\n",
    "conf_matrix=pd.DataFrame(data=cm,columns=['Predicted:0','Predicted:1'],index=['Actual:0','Actual:1'])\n",
    "plt.figure(figsize = (8,5))\n",
    "sns.heatmap(conf_matrix, annot=True,fmt='d',cmap=\"YlGnBu\")"
   ]
  },
  {
   "attachments": {},
   "cell_type": "markdown",
   "metadata": {},
   "source": [
    "## <span style=\"color:darkgreen\"> Importancia de predictores\n",
    "Importancia por permutación"
   ]
  },
  {
   "cell_type": "code",
   "execution_count": 60,
   "metadata": {},
   "outputs": [
    {
     "data": {
      "text/html": [
       "<div>\n",
       "<style scoped>\n",
       "    .dataframe tbody tr th:only-of-type {\n",
       "        vertical-align: middle;\n",
       "    }\n",
       "\n",
       "    .dataframe tbody tr th {\n",
       "        vertical-align: top;\n",
       "    }\n",
       "\n",
       "    .dataframe thead th {\n",
       "        text-align: right;\n",
       "    }\n",
       "</style>\n",
       "<table border=\"1\" class=\"dataframe\">\n",
       "  <thead>\n",
       "    <tr style=\"text-align: right;\">\n",
       "      <th></th>\n",
       "      <th>importances_mean</th>\n",
       "      <th>importances_std</th>\n",
       "      <th>feature</th>\n",
       "    </tr>\n",
       "  </thead>\n",
       "  <tbody>\n",
       "    <tr>\n",
       "      <th>7</th>\n",
       "      <td>0.272019</td>\n",
       "      <td>0.007119</td>\n",
       "      <td>Ti2</td>\n",
       "    </tr>\n",
       "    <tr>\n",
       "      <th>10</th>\n",
       "      <td>0.074453</td>\n",
       "      <td>0.012558</td>\n",
       "      <td>PPPCF</td>\n",
       "    </tr>\n",
       "    <tr>\n",
       "      <th>1</th>\n",
       "      <td>0.065207</td>\n",
       "      <td>0.010594</td>\n",
       "      <td>Temp1</td>\n",
       "    </tr>\n",
       "    <tr>\n",
       "      <th>12</th>\n",
       "      <td>0.064720</td>\n",
       "      <td>0.012368</td>\n",
       "      <td>Tamin</td>\n",
       "    </tr>\n",
       "    <tr>\n",
       "      <th>3</th>\n",
       "      <td>0.056934</td>\n",
       "      <td>0.006813</td>\n",
       "      <td>Temp2</td>\n",
       "    </tr>\n",
       "    <tr>\n",
       "      <th>5</th>\n",
       "      <td>0.054988</td>\n",
       "      <td>0.007936</td>\n",
       "      <td>Ti1</td>\n",
       "    </tr>\n",
       "    <tr>\n",
       "      <th>11</th>\n",
       "      <td>0.049148</td>\n",
       "      <td>0.006950</td>\n",
       "      <td>pH_Requisito</td>\n",
       "    </tr>\n",
       "    <tr>\n",
       "      <th>6</th>\n",
       "      <td>0.035523</td>\n",
       "      <td>0.003300</td>\n",
       "      <td>Temp3</td>\n",
       "    </tr>\n",
       "    <tr>\n",
       "      <th>2</th>\n",
       "      <td>0.033090</td>\n",
       "      <td>0.003953</td>\n",
       "      <td>Franja1</td>\n",
       "    </tr>\n",
       "    <tr>\n",
       "      <th>13</th>\n",
       "      <td>0.030657</td>\n",
       "      <td>0.010044</td>\n",
       "      <td>Taamax</td>\n",
       "    </tr>\n",
       "    <tr>\n",
       "      <th>4</th>\n",
       "      <td>0.025304</td>\n",
       "      <td>0.004768</td>\n",
       "      <td>Franja2</td>\n",
       "    </tr>\n",
       "    <tr>\n",
       "      <th>9</th>\n",
       "      <td>0.021411</td>\n",
       "      <td>0.006601</td>\n",
       "      <td>Canales</td>\n",
       "    </tr>\n",
       "    <tr>\n",
       "      <th>0</th>\n",
       "      <td>0.016545</td>\n",
       "      <td>0.005633</td>\n",
       "      <td>Dia_Semana</td>\n",
       "    </tr>\n",
       "    <tr>\n",
       "      <th>14</th>\n",
       "      <td>0.005353</td>\n",
       "      <td>0.003893</td>\n",
       "      <td>TIPO_CAP_CF</td>\n",
       "    </tr>\n",
       "    <tr>\n",
       "      <th>8</th>\n",
       "      <td>0.004380</td>\n",
       "      <td>0.002837</td>\n",
       "      <td>Refrigeracion</td>\n",
       "    </tr>\n",
       "  </tbody>\n",
       "</table>\n",
       "</div>"
      ],
      "text/plain": [
       "    importances_mean  importances_std        feature\n",
       "7           0.272019         0.007119            Ti2\n",
       "10          0.074453         0.012558          PPPCF\n",
       "1           0.065207         0.010594          Temp1\n",
       "12          0.064720         0.012368          Tamin\n",
       "3           0.056934         0.006813          Temp2\n",
       "5           0.054988         0.007936            Ti1\n",
       "11          0.049148         0.006950   pH_Requisito\n",
       "6           0.035523         0.003300          Temp3\n",
       "2           0.033090         0.003953        Franja1\n",
       "13          0.030657         0.010044         Taamax\n",
       "4           0.025304         0.004768        Franja2\n",
       "9           0.021411         0.006601        Canales\n",
       "0           0.016545         0.005633     Dia_Semana\n",
       "14          0.005353         0.003893    TIPO_CAP_CF\n",
       "8           0.004380         0.002837  Refrigeracion"
      ]
     },
     "execution_count": 60,
     "metadata": {},
     "output_type": "execute_result"
    }
   ],
   "source": [
    "from sklearn.inspection import permutation_importance\n",
    "importancia = permutation_importance(\n",
    "                estimator    = mejor7,\n",
    "                X            = X_train,\n",
    "                y            = y_train,\n",
    "                n_repeats    = 5,\n",
    "                scoring      = 'recall',\n",
    "                n_jobs       = multiprocessing.cpu_count() - 1,\n",
    "                random_state = 123\n",
    "             )\n",
    "\n",
    "# Se almacenan los resultados (media y desviación) en un dataframe\n",
    "df_importancia = pd.DataFrame(\n",
    "                    {k: importancia[k] for k in ['importances_mean', 'importances_std']}\n",
    "                 )\n",
    "df_importancia['feature'] = X_train.columns\n",
    "df_importancia.sort_values('importances_mean', ascending=False)\n",
    "df_importancia['feature'] = X_train.columns\n",
    "df_importancia.sort_values('importances_mean', ascending=False)"
   ]
  },
  {
   "cell_type": "code",
   "execution_count": 61,
   "metadata": {},
   "outputs": [
    {
     "data": {
      "image/png": "[encoded data removed]",
      "text/plain": [
       "<Figure size 500x600 with 1 Axes>"
      ]
     },
     "metadata": {},
     "output_type": "display_data"
    }
   ],
   "source": [
    "# Gráfico\n",
    "fig, ax = plt.subplots(figsize=(5, 6))\n",
    "df_importancia = df_importancia.sort_values('importances_mean', ascending=True)\n",
    "ax.barh(\n",
    "    df_importancia['feature'],\n",
    "    df_importancia['importances_mean'],\n",
    "    xerr=df_importancia['importances_std'],\n",
    "    align='center',\n",
    "    alpha=0\n",
    ")\n",
    "ax.plot(\n",
    "    df_importancia['importances_mean'],\n",
    "    df_importancia['feature'],\n",
    "    marker=\"D\",\n",
    "    linestyle=\"\",\n",
    "    alpha=0.8,\n",
    "    color=\"r\"\n",
    ")\n",
    "ax.set_title('Importancia de los predictores (train)')\n",
    "ax.set_xlabel('Incremento del error tras la permutación');"
   ]
  },
  {
   "attachments": {},
   "cell_type": "markdown",
   "metadata": {},
   "source": [
    "# <span style=\"color:darkred\"> Stacking\n"
   ]
  },
  {
   "cell_type": "markdown",
   "metadata": {},
   "source": [
    "## <span style=\"color:darkgreen\"> Matriz de Confusión "
   ]
  },
  {
   "cell_type": "code",
   "execution_count": 62,
   "metadata": {},
   "outputs": [
    {
     "data": {
      "text/plain": [
       "<AxesSubplot:>"
      ]
     },
     "execution_count": 62,
     "metadata": {},
     "output_type": "execute_result"
    },
    {
     "data": {
      "image/png": "[encoded data removed]",
      "text/plain": [
       "<Figure size 800x500 with 2 Axes>"
      ]
     },
     "metadata": {},
     "output_type": "display_data"
    }
   ],
   "source": [
    "cm=confusion_matrix(y_test,predicciones16)\n",
    "conf_matrix=pd.DataFrame(data=cm,columns=['Predicted:0','Predicted:1'],index=['Actual:0','Actual:1'])\n",
    "plt.figure(figsize = (8,5))\n",
    "sns.heatmap(conf_matrix, annot=True,fmt='d',cmap=\"YlGnBu\")"
   ]
  },
  {
   "attachments": {},
   "cell_type": "markdown",
   "metadata": {},
   "source": [
    "## <span style=\"color:darkgreen\"> Importancia de predictores\n",
    "<span style=\"color:darkblue\"> Importancia por permutación"
   ]
  },
  {
   "cell_type": "code",
   "execution_count": 63,
   "metadata": {},
   "outputs": [
    {
     "data": {
      "text/html": [
       "<div>\n",
       "<style scoped>\n",
       "    .dataframe tbody tr th:only-of-type {\n",
       "        vertical-align: middle;\n",
       "    }\n",
       "\n",
       "    .dataframe tbody tr th {\n",
       "        vertical-align: top;\n",
       "    }\n",
       "\n",
       "    .dataframe thead th {\n",
       "        text-align: right;\n",
       "    }\n",
       "</style>\n",
       "<table border=\"1\" class=\"dataframe\">\n",
       "  <thead>\n",
       "    <tr style=\"text-align: right;\">\n",
       "      <th></th>\n",
       "      <th>importances_mean</th>\n",
       "      <th>importances_std</th>\n",
       "      <th>feature</th>\n",
       "    </tr>\n",
       "  </thead>\n",
       "  <tbody>\n",
       "    <tr>\n",
       "      <th>7</th>\n",
       "      <td>0.379562</td>\n",
       "      <td>0.010550</td>\n",
       "      <td>Ti2</td>\n",
       "    </tr>\n",
       "    <tr>\n",
       "      <th>12</th>\n",
       "      <td>0.174209</td>\n",
       "      <td>0.013021</td>\n",
       "      <td>Tamin</td>\n",
       "    </tr>\n",
       "    <tr>\n",
       "      <th>6</th>\n",
       "      <td>0.168856</td>\n",
       "      <td>0.013468</td>\n",
       "      <td>Temp3</td>\n",
       "    </tr>\n",
       "    <tr>\n",
       "      <th>10</th>\n",
       "      <td>0.164964</td>\n",
       "      <td>0.019306</td>\n",
       "      <td>PPPCF</td>\n",
       "    </tr>\n",
       "    <tr>\n",
       "      <th>1</th>\n",
       "      <td>0.150365</td>\n",
       "      <td>0.016955</td>\n",
       "      <td>Temp1</td>\n",
       "    </tr>\n",
       "    <tr>\n",
       "      <th>3</th>\n",
       "      <td>0.131873</td>\n",
       "      <td>0.009411</td>\n",
       "      <td>Temp2</td>\n",
       "    </tr>\n",
       "    <tr>\n",
       "      <th>5</th>\n",
       "      <td>0.126034</td>\n",
       "      <td>0.007755</td>\n",
       "      <td>Ti1</td>\n",
       "    </tr>\n",
       "    <tr>\n",
       "      <th>11</th>\n",
       "      <td>0.125547</td>\n",
       "      <td>0.009561</td>\n",
       "      <td>pH_Requisito</td>\n",
       "    </tr>\n",
       "    <tr>\n",
       "      <th>4</th>\n",
       "      <td>0.109976</td>\n",
       "      <td>0.014053</td>\n",
       "      <td>Franja2</td>\n",
       "    </tr>\n",
       "    <tr>\n",
       "      <th>0</th>\n",
       "      <td>0.101703</td>\n",
       "      <td>0.008344</td>\n",
       "      <td>Dia_Semana</td>\n",
       "    </tr>\n",
       "    <tr>\n",
       "      <th>13</th>\n",
       "      <td>0.099757</td>\n",
       "      <td>0.008287</td>\n",
       "      <td>Taamax</td>\n",
       "    </tr>\n",
       "    <tr>\n",
       "      <th>2</th>\n",
       "      <td>0.099270</td>\n",
       "      <td>0.008055</td>\n",
       "      <td>Franja1</td>\n",
       "    </tr>\n",
       "    <tr>\n",
       "      <th>9</th>\n",
       "      <td>0.068613</td>\n",
       "      <td>0.007444</td>\n",
       "      <td>Canales</td>\n",
       "    </tr>\n",
       "    <tr>\n",
       "      <th>8</th>\n",
       "      <td>0.049635</td>\n",
       "      <td>0.003300</td>\n",
       "      <td>Refrigeracion</td>\n",
       "    </tr>\n",
       "    <tr>\n",
       "      <th>14</th>\n",
       "      <td>0.021898</td>\n",
       "      <td>0.005104</td>\n",
       "      <td>TIPO_CAP_CF</td>\n",
       "    </tr>\n",
       "  </tbody>\n",
       "</table>\n",
       "</div>"
      ],
      "text/plain": [
       "    importances_mean  importances_std        feature\n",
       "7           0.379562         0.010550            Ti2\n",
       "12          0.174209         0.013021          Tamin\n",
       "6           0.168856         0.013468          Temp3\n",
       "10          0.164964         0.019306          PPPCF\n",
       "1           0.150365         0.016955          Temp1\n",
       "3           0.131873         0.009411          Temp2\n",
       "5           0.126034         0.007755            Ti1\n",
       "11          0.125547         0.009561   pH_Requisito\n",
       "4           0.109976         0.014053        Franja2\n",
       "0           0.101703         0.008344     Dia_Semana\n",
       "13          0.099757         0.008287         Taamax\n",
       "2           0.099270         0.008055        Franja1\n",
       "9           0.068613         0.007444        Canales\n",
       "8           0.049635         0.003300  Refrigeracion\n",
       "14          0.021898         0.005104    TIPO_CAP_CF"
      ]
     },
     "execution_count": 63,
     "metadata": {},
     "output_type": "execute_result"
    }
   ],
   "source": [
    "from sklearn.inspection import permutation_importance\n",
    "importancia = permutation_importance(\n",
    "                estimator    = stacking_cla,\n",
    "                X            = X_train,\n",
    "                y            = y_train,\n",
    "                n_repeats    = 5,\n",
    "                scoring      = 'recall',\n",
    "                n_jobs       = multiprocessing.cpu_count() - 1,\n",
    "                random_state = 123\n",
    "             )\n",
    "\n",
    "# Se almacenan los resultados (media y desviación) en un dataframe\n",
    "df_importancia = pd.DataFrame(\n",
    "                    {k: importancia[k] for k in ['importances_mean', 'importances_std']}\n",
    "                 )\n",
    "df_importancia['feature'] = X_train.columns\n",
    "df_importancia.sort_values('importances_mean', ascending=False)\n",
    "df_importancia['feature'] = X_train.columns\n",
    "df_importancia.sort_values('importances_mean', ascending=False)"
   ]
  },
  {
   "cell_type": "code",
   "execution_count": 64,
   "metadata": {},
   "outputs": [
    {
     "data": {
      "image/png": "[encoded data removed]",
      "text/plain": [
       "<Figure size 500x600 with 1 Axes>"
      ]
     },
     "metadata": {},
     "output_type": "display_data"
    }
   ],
   "source": [
    "# Gráfico\n",
    "fig, ax = plt.subplots(figsize=(5, 6))\n",
    "df_importancia = df_importancia.sort_values('importances_mean', ascending=True)\n",
    "ax.barh(\n",
    "    df_importancia['feature'],\n",
    "    df_importancia['importances_mean'],\n",
    "    xerr=df_importancia['importances_std'],\n",
    "    align='center',\n",
    "    alpha=0\n",
    ")\n",
    "ax.plot(\n",
    "    df_importancia['importances_mean'],\n",
    "    df_importancia['feature'],\n",
    "    marker=\"D\",\n",
    "    linestyle=\"\",\n",
    "    alpha=0.8,\n",
    "    color=\"r\"\n",
    ")\n",
    "ax.set_title('Importancia de los predictores (train)')\n",
    "ax.set_xlabel('Incremento del error tras la permutación');"
   ]
  }
 ],
 "metadata": {
  "kernelspec": {
   "display_name": "Python 3 (ipykernel)",
   "language": "python",
   "name": "python3"
  },
  "language_info": {
   "codemirror_mode": {
    "name": "ipython",
    "version": 3
   },
   "file_extension": ".py",
   "mimetype": "text/x-python",
   "name": "python",
   "nbconvert_exporter": "python",
   "pygments_lexer": "ipython3",
   "version": "3.9.13"
  }
 },
 "nbformat": 4,
 "nbformat_minor": 2
}
