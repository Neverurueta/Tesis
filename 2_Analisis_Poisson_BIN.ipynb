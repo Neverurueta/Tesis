{
 "cells": [
  {
   "cell_type": "code",
   "execution_count": 3,
   "metadata": {},
   "outputs": [],
   "source": [
    "#Tratamieto de datos\n",
    "import pandas as pd \n",
    "import numpy as np  \n",
    "# ==============================================================================================================================================================\n",
    "\n",
    "#   Gráficos \n",
    "import matplotlib.pyplot as plt\n",
    "from matplotlib import style\n",
    "import seaborn as sns\n",
    "# ==============================================================================================================================================================\n",
    "\n",
    "#Procesado y Modelado\n",
    "from sklearn.model_selection import train_test_split\n",
    "from sklearn.metrics import accuracy_score\n",
    "from sklearn import metrics\n",
    "from sklearn.metrics import (confusion_matrix, accuracy_score)\n",
    "from sklearn.preprocessing import binarize\n",
    "from sklearn.metrics import roc_curve\n",
    "\n",
    "import statsmodels.api as sm\n",
    "import statsmodels.formula.api as smf\n",
    "from statsmodels.stats.weightstats import ttest_ind\n",
    "from statsmodels.stats.outliers_influence import variance_inflation_factor\n",
    "# ==============================================================================================================================================================\n",
    "\n",
    "# Configuración matplotlib\n",
    "plt.rcParams['image.cmap'] = \"bwr\"\n",
    "#plt.rcParams['figure.dpi'] = \"100\"\n",
    "plt.rcParams['savefig.bbox'] = \"tight\"\n",
    "style.use('ggplot') or plt.style.use('ggplot')\n",
    "# Configuración warnings\n",
    "# ==============================================================================================================================================================\n",
    "\n",
    "#Configuración warnings\n",
    "import warnings\n",
    "warnings.filterwarnings('ignore')"
   ]
  },
  {
   "cell_type": "code",
   "execution_count": 4,
   "metadata": {},
   "outputs": [],
   "source": [
    "data=pd.read_excel(r\"D:\\Never Urueta\\2023\\Algoritmos Tesis\\Data.xlsx\") "
   ]
  },
  {
   "cell_type": "code",
   "execution_count": 5,
   "metadata": {},
   "outputs": [],
   "source": [
    "data1 = data.drop([\"PBA\", \"VT1\", \"VT2\", \"DESTINO\", \"CAPACIDAD DEL CUARTO FRIO  \"], axis=1)\n"
   ]
  },
  {
   "cell_type": "code",
   "execution_count": 6,
   "metadata": {},
   "outputs": [],
   "source": [
    "data1[\"Franja1\"] = data1[\"Franja1\"].replace({\"MADRUGADA\": 1, \"MAÑANA\": 2, \"MEDIO_DIA\": 3, \"TARDE\": 4, \"NOCHE\": 5})\n",
    "data1[\"Franja2\"] = data1[\"Franja2\"].replace({\"MADRUGADA\": 1, \"MAÑANA\": 2, \"MEDIO_DIA\": 3, \"TARDE\": 4, \"NOCHE\": 5})\n",
    "data1[\"Refrigeracion\"] = data1[\"Refrigeracion\"].replace({\"AMONIACO\": 1, \"GLICOL\": 2})\n",
    "data1[\"pH_Requisito\"] = data1[\"pH_Requisito\"].replace({\"Mi_5.8\": 1, \"Mi_6\": 2})\n",
    "data1[\"Dia_Semana\"] = data1[\"Dia_Semana\"].replace({\"lunes\": 1, \"martes\": 2, \"miércoles\": 3, \"jueves\": 4, \"viernes\": 5, \"sábado\": 6})\n",
    "data1[\"CF\"] = data1[\"CF\"].replace({\"1PBA1\": 1, \"2PBA1\": 2, \"3PBA1\": 3, \"4PBA1\": 4, \"5PBA1\": 5, \"6PBA1\": 6, \"7PBA1\": 7, \"8PBA1\": 8, \"9PBA1\": 9, \"10PBA1\": 10, \"11PBA1\": 11, \"PBA2\": 12})\n",
    "data1[\"TIPO_CAP_CF\"] = data1[\"TIPO_CAP_CF\"].replace({\"C1\": 1, \"C2\": 2, \"C3\": 3, \"PBA2\": 4})"
   ]
  },
  {
   "cell_type": "code",
   "execution_count": 7,
   "metadata": {},
   "outputs": [],
   "source": [
    "Conteo = data1.groupby('Rechazados').agg(cuantos=(\"Rechazados\",\"count\"))"
   ]
  },
  {
   "cell_type": "code",
   "execution_count": 8,
   "metadata": {},
   "outputs": [
    {
     "data": {
      "image/png": "[encoded data removed]",
      "text/plain": [
       "<Figure size 800x600 with 1 Axes>"
      ]
     },
     "metadata": {},
     "output_type": "display_data"
    }
   ],
   "source": [
    "#data1.loc[data1[\"Rechazados\"] > 2, \"Rechazados\"] = 3\n",
    "Conteo = data1.groupby('Rechazados').agg(cuantos=(\"Rechazados\",\"count\"))\n",
    "\n",
    "plt.figure(figsize=(8,6))\n",
    "plt.bar(Conteo.index,Conteo[\"cuantos\"],color=\"c\")\n",
    "plt.xlabel(\"No de Canales Rechazados por Cuarto Frío\")\n",
    "plt.ylabel(\"Frecuencia\")\n",
    "plt.show()\n"
   ]
  },
  {
   "attachments": {},
   "cell_type": "markdown",
   "metadata": {},
   "source": [
    "Gráficamente se adapta a una distribución Poisson con parámetro λ < 1\n"
   ]
  },
  {
   "attachments": {},
   "cell_type": "markdown",
   "metadata": {},
   "source": [
    "Lo anterior indica que hay una sobredispersión inclumpliendo la hipotesis de varianza = media"
   ]
  },
  {
   "cell_type": "code",
   "execution_count": 12,
   "metadata": {},
   "outputs": [
    {
     "data": {
      "text/plain": [
       "Dia_Semana        0\n",
       "Temp1             0\n",
       "Franja1           0\n",
       "Temp2             0\n",
       "Franja2           0\n",
       "Ti1               0\n",
       "Temp3             0\n",
       "Ti2               0\n",
       "CF                0\n",
       "Refrigeracion     0\n",
       "Canales           0\n",
       "PPPCF             0\n",
       "Ocupacion         0\n",
       "Indicador         0\n",
       "pH_Requisito      0\n",
       "Tamin            29\n",
       "Taamax           29\n",
       "TIPO_CAP_CF       0\n",
       "Rechazados        0\n",
       "dtype: int64"
      ]
     },
     "execution_count": 12,
     "metadata": {},
     "output_type": "execute_result"
    }
   ],
   "source": [
    "data1.isnull().sum() #Datos faltantes"
   ]
  },
  {
   "cell_type": "code",
   "execution_count": 13,
   "metadata": {},
   "outputs": [
    {
     "name": "stdout",
     "output_type": "stream",
     "text": [
      "valores perdidos en Tamin: 0\n",
      "valores perdidos en Taamax: 0\n"
     ]
    }
   ],
   "source": [
    "data1['Tamin'].fillna(data1['Tamin'].median(), inplace=True)\n",
    "print(\"valores perdidos en Tamin: \" + \n",
    "      str(data1['Tamin'].isnull().sum()))\n",
    "data1['Taamax'].fillna(data1['Taamax'].median(), inplace=True)\n",
    "print(\"valores perdidos en Taamax: \" + \n",
    "      str(data1['Taamax'].isnull().sum()))"
   ]
  },
  {
   "cell_type": "code",
   "execution_count": 14,
   "metadata": {},
   "outputs": [],
   "source": [
    "data0 = data1.copy()"
   ]
  },
  {
   "cell_type": "code",
   "execution_count": 15,
   "metadata": {},
   "outputs": [
    {
     "data": {
      "text/plain": [
       "Dia_Semana         5.903262\n",
       "Temp1              5.799112\n",
       "Franja1           26.942187\n",
       "Temp2             16.871067\n",
       "Franja2           34.981340\n",
       "Ti1                5.586215\n",
       "Temp3              4.337079\n",
       "Ti2                7.781030\n",
       "CF                27.538732\n",
       "Refrigeracion     54.326660\n",
       "Canales          232.757280\n",
       "PPPCF              8.692439\n",
       "Ocupacion        277.725163\n",
       "Indicador         15.875460\n",
       "pH_Requisito      10.269060\n",
       "Tamin            412.347168\n",
       "Taamax           340.439991\n",
       "TIPO_CAP_CF      130.551353\n",
       "dtype: float64"
      ]
     },
     "execution_count": 15,
     "metadata": {},
     "output_type": "execute_result"
    }
   ],
   "source": [
    "#Multicolinealidad - VIFs\n",
    "pd.Series([variance_inflation_factor(data1.drop([\"Rechazados\"],axis=1), i) \n",
    "               for i in range(data1.drop([\"Rechazados\"],axis=1).shape[1])], \n",
    "              index=data1.drop([\"Rechazados\"],axis=1).columns)   "
   ]
  },
  {
   "cell_type": "code",
   "execution_count": 16,
   "metadata": {},
   "outputs": [],
   "source": [
    "data1 = data1.drop([\"Tamin\", \"Franja1\",\"Canales\", \"Ocupacion\", \"Temp2\", \"Taamax\", \"TIPO_CAP_CF\", \"Refrigeracion\", \"Franja2\"], axis=1)"
   ]
  },
  {
   "cell_type": "code",
   "execution_count": 17,
   "metadata": {},
   "outputs": [
    {
     "data": {
      "text/plain": [
       "Dia_Semana      5.664880\n",
       "Temp1           4.468902\n",
       "Ti1             4.233742\n",
       "Temp3           3.594656\n",
       "Ti2             6.811613\n",
       "CF              5.285960\n",
       "PPPCF           5.131455\n",
       "Indicador       5.289338\n",
       "pH_Requisito    9.303766\n",
       "dtype: float64"
      ]
     },
     "execution_count": 17,
     "metadata": {},
     "output_type": "execute_result"
    }
   ],
   "source": [
    "#Multicolinealidad - VIFs\n",
    "pd.Series([variance_inflation_factor(data1.drop([\"Rechazados\"],axis=1), i) \n",
    "               for i in range(data1.drop([\"Rechazados\"],axis=1).shape[1])], \n",
    "              index=data1.drop([\"Rechazados\"],axis=1).columns)   "
   ]
  },
  {
   "cell_type": "code",
   "execution_count": 18,
   "metadata": {},
   "outputs": [],
   "source": [
    "expr = \"\"\"Rechazados ~ Dia_Semana  + Temp1 + Ti1 + Temp3 + CF + Ti2 + PPPCF + Indicador + pH_Requisito\"\"\""
   ]
  },
  {
   "cell_type": "code",
   "execution_count": 20,
   "metadata": {},
   "outputs": [],
   "source": [
    "from patsy import dmatrices\n",
    "y, X = dmatrices(expr, data1, return_type=\"dataframe\")"
   ]
  },
  {
   "attachments": {},
   "cell_type": "markdown",
   "metadata": {},
   "source": [
    "# Modelo Poisson "
   ]
  },
  {
   "cell_type": "code",
   "execution_count": 21,
   "metadata": {},
   "outputs": [
    {
     "name": "stdout",
     "output_type": "stream",
     "text": [
      "                 Generalized Linear Model Regression Results                  \n",
      "==============================================================================\n",
      "Dep. Variable:             Rechazados   No. Observations:                 1914\n",
      "Model:                            GLM   Df Residuals:                     1904\n",
      "Model Family:                 Poisson   Df Model:                            9\n",
      "Link Function:                    Log   Scale:                          1.0000\n",
      "Method:                          IRLS   Log-Likelihood:                -1975.1\n",
      "Date:                Tue, 06 Jun 2023   Deviance:                       2517.4\n",
      "Time:                        23:01:23   Pearson chi2:                 2.85e+03\n",
      "No. Iterations:                     5   Pseudo R-squ. (CS):            0.08390\n",
      "Covariance Type:            nonrobust                                         \n",
      "================================================================================\n",
      "                   coef    std err          z      P>|z|      [0.025      0.975]\n",
      "--------------------------------------------------------------------------------\n",
      "Intercept        0.8060      0.243      3.319      0.001       0.330       1.282\n",
      "Dia_Semana      -0.0866      0.019     -4.475      0.000      -0.124      -0.049\n",
      "Temp1            0.0144      0.019      0.756      0.450      -0.023       0.052\n",
      "Ti1             -0.0150      0.031     -0.493      0.622      -0.075       0.045\n",
      "Temp3           -0.0787      0.017     -4.656      0.000      -0.112      -0.046\n",
      "CF               0.0118      0.010      1.182      0.237      -0.008       0.031\n",
      "Ti2              0.0137      0.002      7.192      0.000       0.010       0.017\n",
      "PPPCF           -0.0170      0.004     -4.610      0.000      -0.024      -0.010\n",
      "Indicador       -0.0683      0.013     -5.398      0.000      -0.093      -0.044\n",
      "pH_Requisito    -0.4525      0.081     -5.604      0.000      -0.611      -0.294\n",
      "================================================================================\n"
     ]
    }
   ],
   "source": [
    "Poisson_Clasico = sm.GLM(y, X, family=sm.families.Poisson()).fit()\n",
    "print(Poisson_Clasico.summary())"
   ]
  },
  {
   "cell_type": "code",
   "execution_count": 22,
   "metadata": {},
   "outputs": [],
   "source": [
    "X_train, X_test, y_train, y_test = train_test_split(X, y, train_size=0.8, random_state=1234)"
   ]
  },
  {
   "cell_type": "code",
   "execution_count": 23,
   "metadata": {},
   "outputs": [
    {
     "name": "stdout",
     "output_type": "stream",
     "text": [
      "                 Generalized Linear Model Regression Results                  \n",
      "==============================================================================\n",
      "Dep. Variable:             Rechazados   No. Observations:                 1531\n",
      "Model:                            GLM   Df Residuals:                     1521\n",
      "Model Family:                 Poisson   Df Model:                            9\n",
      "Link Function:                    Log   Scale:                          1.0000\n",
      "Method:                          IRLS   Log-Likelihood:                -1607.4\n",
      "Date:                Tue, 06 Jun 2023   Deviance:                       2042.9\n",
      "Time:                        23:01:30   Pearson chi2:                 2.29e+03\n",
      "No. Iterations:                     5   Pseudo R-squ. (CS):            0.08550\n",
      "Covariance Type:            nonrobust                                         \n",
      "================================================================================\n",
      "                   coef    std err          z      P>|z|      [0.025      0.975]\n",
      "--------------------------------------------------------------------------------\n",
      "Intercept        0.9794      0.274      3.573      0.000       0.442       1.517\n",
      "Dia_Semana      -0.0972      0.022     -4.486      0.000      -0.140      -0.055\n",
      "Temp1            0.0095      0.020      0.469      0.639      -0.030       0.049\n",
      "Ti1             -0.0342      0.037     -0.937      0.349      -0.106       0.037\n",
      "Temp3           -0.0589      0.019     -3.122      0.002      -0.096      -0.022\n",
      "CF              -0.0009      0.011     -0.080      0.936      -0.022       0.020\n",
      "Ti2              0.0140      0.002      6.584      0.000       0.010       0.018\n",
      "PPPCF           -0.0144      0.004     -3.454      0.001      -0.022      -0.006\n",
      "Indicador       -0.0743      0.014     -5.202      0.000      -0.102      -0.046\n",
      "pH_Requisito    -0.4878      0.089     -5.454      0.000      -0.663      -0.312\n",
      "================================================================================\n"
     ]
    }
   ],
   "source": [
    "Poisson_Clasico_Train = sm.GLM(y_train, X_train, family=sm.families.Poisson()).fit()\n",
    "print(Poisson_Clasico_Train.summary())"
   ]
  },
  {
   "cell_type": "code",
   "execution_count": 24,
   "metadata": {},
   "outputs": [
    {
     "data": {
      "text/plain": [
       "count    383.000000\n",
       "mean       0.544175\n",
       "std        0.235056\n",
       "min        0.089957\n",
       "25%        0.420622\n",
       "50%        0.507348\n",
       "75%        0.639357\n",
       "max        2.277630\n",
       "dtype: float64"
      ]
     },
     "execution_count": 24,
     "metadata": {},
     "output_type": "execute_result"
    }
   ],
   "source": [
    "predictions= Poisson_Clasico.predict(X_test)\n",
    "#summary_frame() returns a pandas DataFrame\n",
    "predictions.describe()"
   ]
  },
  {
   "cell_type": "code",
   "execution_count": 25,
   "metadata": {},
   "outputs": [
    {
     "name": "stdout",
     "output_type": "stream",
     "text": [
      "MSE 0.7234411593874792\n",
      "MAE 0.6804887761775253\n",
      "mean Poisson deviance: 1.2277943778723546\n"
     ]
    }
   ],
   "source": [
    "from sklearn.metrics import mean_squared_error\n",
    "from sklearn.metrics import mean_absolute_error\n",
    "from sklearn.metrics import mean_poisson_deviance\n",
    "print(\"MSE\", mean_squared_error(y_test,predictions))\n",
    "print(\"MAE\", mean_absolute_error(y_test,predictions))\n",
    "print(\"mean Poisson deviance:\", mean_poisson_deviance(y_test,predictions))\n"
   ]
  },
  {
   "attachments": {},
   "cell_type": "markdown",
   "metadata": {},
   "source": [
    "# Cumplimiento de supuesto\n",
    "\n"
   ]
  },
  {
   "cell_type": "code",
   "execution_count": 26,
   "metadata": {},
   "outputs": [
    {
     "name": "stdout",
     "output_type": "stream",
     "text": [
      "Relación Desviación de varianza sobre media: 0.10153203973666718\n"
     ]
    }
   ],
   "source": [
    "print(\"Relación Desviación de varianza sobre media:\", predictions.var()/predictions.mean())"
   ]
  },
  {
   "attachments": {},
   "cell_type": "markdown",
   "metadata": {},
   "source": [
    "No se cumple el supuesto de varianza = media"
   ]
  },
  {
   "attachments": {},
   "cell_type": "markdown",
   "metadata": {},
   "source": [
    "## Probemos con la variable en frecuencia - Primero Rechazados sobre tiempo de maduración por cuarto frío en días"
   ]
  },
  {
   "cell_type": "code",
   "execution_count": 27,
   "metadata": {},
   "outputs": [],
   "source": [
    "data2 = data1.copy()\n",
    "data3 = data1.copy()\n",
    "data2[\"Ti2\"] = data2[\"Ti2\"]/24\n",
    "data2[\"Rechazados\"] = data2[\"Rechazados\"] / (data2[\"Ti2\"])\n",
    "data2 = data2.rename(columns={\"Rechazados\": \"Rechazados_Frecuencia\"})"
   ]
  },
  {
   "cell_type": "code",
   "execution_count": 28,
   "metadata": {},
   "outputs": [],
   "source": [
    "expr2 = \"\"\"Rechazados_Frecuencia ~ Dia_Semana  + Temp1 + Ti1 + Temp3 + CF + Ti2 + PPPCF + Indicador + pH_Requisito\"\"\""
   ]
  },
  {
   "cell_type": "code",
   "execution_count": 29,
   "metadata": {},
   "outputs": [],
   "source": [
    "y_i, X_i = dmatrices(expr2, data2, return_type=\"dataframe\")\n",
    "X_train_F, X_test_F, y_train_F, y_test_F = train_test_split(X_i, y_i, train_size=0.8, random_state=1234)\n"
   ]
  },
  {
   "cell_type": "code",
   "execution_count": 30,
   "metadata": {},
   "outputs": [
    {
     "name": "stdout",
     "output_type": "stream",
     "text": [
      "                   Generalized Linear Model Regression Results                   \n",
      "=================================================================================\n",
      "Dep. Variable:     Rechazados_Frecuencia   No. Observations:                 1531\n",
      "Model:                               GLM   Df Residuals:                     1521\n",
      "Model Family:                    Poisson   Df Model:                            9\n",
      "Link Function:                       Log   Scale:                          1.0000\n",
      "Method:                             IRLS   Log-Likelihood:                -1303.8\n",
      "Date:                   Tue, 06 Jun 2023   Deviance:                       1576.6\n",
      "Time:                           23:02:46   Pearson chi2:                 1.83e+03\n",
      "No. Iterations:                        5   Pseudo R-squ. (CS):            0.05354\n",
      "Covariance Type:               nonrobust                                         \n",
      "================================================================================\n",
      "                   coef    std err          z      P>|z|      [0.025      0.975]\n",
      "--------------------------------------------------------------------------------\n",
      "Intercept        1.3939      0.330      4.226      0.000       0.747       2.040\n",
      "Dia_Semana      -0.1094      0.025     -4.350      0.000      -0.159      -0.060\n",
      "Temp1            0.0157      0.024      0.646      0.518      -0.032       0.063\n",
      "Ti1             -0.0428      0.042     -1.012      0.312      -0.126       0.040\n",
      "Temp3           -0.0659      0.022     -3.038      0.002      -0.108      -0.023\n",
      "CF              -0.0054      0.013     -0.427      0.669      -0.030       0.019\n",
      "Ti2             -0.0701      0.078     -0.905      0.365      -0.222       0.082\n",
      "PPPCF           -0.0172      0.005     -3.330      0.001      -0.027      -0.007\n",
      "Indicador       -0.0806      0.017     -4.790      0.000      -0.114      -0.048\n",
      "pH_Requisito    -0.4371      0.104     -4.183      0.000      -0.642      -0.232\n",
      "================================================================================\n"
     ]
    }
   ],
   "source": [
    "Poisson_Frecuencia1 = sm.GLM(y_train_F, X_train_F, alpha=0.1, sample_weigh = X_train_F[\"Ti2\"], family=sm.families.Poisson()).fit()\n",
    "print(Poisson_Frecuencia1.summary())\n"
   ]
  },
  {
   "cell_type": "code",
   "execution_count": 31,
   "metadata": {},
   "outputs": [
    {
     "name": "stdout",
     "output_type": "stream",
     "text": [
      "count    383.000000\n",
      "mean       0.416446\n",
      "std        0.152448\n",
      "min        0.045828\n",
      "25%        0.317055\n",
      "50%        0.406797\n",
      "75%        0.510340\n",
      "max        1.065342\n",
      "dtype: float64\n"
     ]
    }
   ],
   "source": [
    "predictions_F = Poisson_Frecuencia1.predict(X_test_F)\n",
    "print(predictions_F.describe())"
   ]
  },
  {
   "cell_type": "code",
   "execution_count": 32,
   "metadata": {},
   "outputs": [
    {
     "name": "stdout",
     "output_type": "stream",
     "text": [
      "MSE 0.4701755117088528\n",
      "MAE 0.531726733248668\n",
      "mean Poisson deviance: 0.9892704403747102\n"
     ]
    }
   ],
   "source": [
    "print(\"MSE\", mean_squared_error(y_test_F,predictions_F))\n",
    "print(\"MAE\", mean_absolute_error(y_test_F,predictions_F))\n",
    "print(\"mean Poisson deviance:\", mean_poisson_deviance(y_test_F,predictions_F))\n"
   ]
  },
  {
   "cell_type": "code",
   "execution_count": 33,
   "metadata": {},
   "outputs": [
    {
     "name": "stdout",
     "output_type": "stream",
     "text": [
      "Relación Desviación de varianza sobre media: 0.05580665646170805\n"
     ]
    }
   ],
   "source": [
    "print(\"Relación Desviación de varianza sobre media:\", predictions_F.var()/predictions_F.mean())"
   ]
  },
  {
   "attachments": {},
   "cell_type": "markdown",
   "metadata": {},
   "source": [
    "No se cumple el supuesto de varianza = media"
   ]
  },
  {
   "attachments": {},
   "cell_type": "markdown",
   "metadata": {},
   "source": [
    "## Ahora Rechazados sobre tiempo de almacenamiento por cuarto frío en horas"
   ]
  },
  {
   "cell_type": "code",
   "execution_count": 34,
   "metadata": {},
   "outputs": [],
   "source": [
    "data3[\"Rechazados\"] = data3[\"Rechazados\"] / (data3[\"Ti1\"])\n",
    "data3 = data3.rename(columns={\"Rechazados\": \"Rechazados_Frecuencia\"})"
   ]
  },
  {
   "cell_type": "code",
   "execution_count": 35,
   "metadata": {},
   "outputs": [],
   "source": [
    "y_i2, X_i2 = dmatrices(expr2, data3, return_type=\"dataframe\")\n",
    "X_train_F2, X_test_F2, y_train_F2, y_test_F2 = train_test_split(X_i2, y_i2, train_size=0.8, random_state=1234)\n"
   ]
  },
  {
   "cell_type": "code",
   "execution_count": 36,
   "metadata": {},
   "outputs": [
    {
     "name": "stdout",
     "output_type": "stream",
     "text": [
      "                   Generalized Linear Model Regression Results                   \n",
      "=================================================================================\n",
      "Dep. Variable:     Rechazados_Frecuencia   No. Observations:                 1531\n",
      "Model:                               GLM   Df Residuals:                     1521\n",
      "Model Family:                    Poisson   Df Model:                            9\n",
      "Link Function:                       Log   Scale:                          1.0000\n",
      "Method:                             IRLS   Log-Likelihood:                -1057.1\n",
      "Date:                   Tue, 06 Jun 2023   Deviance:                       1204.4\n",
      "Time:                           23:03:37   Pearson chi2:                 1.45e+03\n",
      "No. Iterations:                        6   Pseudo R-squ. (CS):             0.1015\n",
      "Covariance Type:               nonrobust                                         \n",
      "================================================================================\n",
      "                   coef    std err          z      P>|z|      [0.025      0.975]\n",
      "--------------------------------------------------------------------------------\n",
      "Intercept        1.0990      0.366      3.007      0.003       0.383       1.815\n",
      "Dia_Semana      -0.1194      0.029     -4.172      0.000      -0.175      -0.063\n",
      "Temp1            0.0053      0.026      0.202      0.840      -0.046       0.056\n",
      "Ti1             -0.5844      0.076     -7.690      0.000      -0.733      -0.435\n",
      "Temp3           -0.0704      0.024     -2.911      0.004      -0.118      -0.023\n",
      "CF               0.0064      0.015      0.431      0.667      -0.023       0.035\n",
      "Ti2              0.0153      0.003      5.491      0.000       0.010       0.021\n",
      "PPPCF           -0.0093      0.005     -1.768      0.077      -0.020       0.001\n",
      "Indicador       -0.0389      0.015     -2.535      0.011      -0.069      -0.009\n",
      "pH_Requisito    -0.4876      0.118     -4.125      0.000      -0.719      -0.256\n",
      "================================================================================\n"
     ]
    }
   ],
   "source": [
    "Poisson_Frecuencia2 = sm.GLM(y_train_F2, X_train_F2, alpha=0.1, sample_weigh = X_train_F2[\"Ti1\"], family=sm.families.Poisson()).fit()\n",
    "print(Poisson_Frecuencia2.summary())\n"
   ]
  },
  {
   "cell_type": "code",
   "execution_count": 37,
   "metadata": {},
   "outputs": [
    {
     "name": "stdout",
     "output_type": "stream",
     "text": [
      "count    383.000000\n",
      "mean       0.324018\n",
      "std        0.220122\n",
      "min        0.000069\n",
      "25%        0.195329\n",
      "50%        0.292859\n",
      "75%        0.392507\n",
      "max        1.706241\n",
      "dtype: float64\n"
     ]
    }
   ],
   "source": [
    "predictions_F2 = Poisson_Frecuencia2.predict(X_test_F2)\n",
    "print(predictions_F2.describe())"
   ]
  },
  {
   "cell_type": "code",
   "execution_count": 38,
   "metadata": {},
   "outputs": [
    {
     "name": "stdout",
     "output_type": "stream",
     "text": [
      "MSE 0.25855532206217074\n",
      "MAE 0.3901860064708212\n",
      "mean Poisson deviance: 0.7046905918607042\n"
     ]
    }
   ],
   "source": [
    "print(\"MSE\", mean_squared_error(y_test_F2,predictions_F2))\n",
    "print(\"MAE\", mean_absolute_error(y_test_F2,predictions_F2))\n",
    "print(\"mean Poisson deviance:\", mean_poisson_deviance(y_test_F2,predictions_F2))\n"
   ]
  },
  {
   "cell_type": "code",
   "execution_count": 39,
   "metadata": {},
   "outputs": [
    {
     "name": "stdout",
     "output_type": "stream",
     "text": [
      "Relación Desviación de varianza sobre media: 0.149540877397466\n"
     ]
    }
   ],
   "source": [
    "print(\"Relación Desviación de varianza sobre media:\", predictions_F2.var()/predictions_F2.mean())"
   ]
  },
  {
   "attachments": {},
   "cell_type": "markdown",
   "metadata": {},
   "source": [
    "Como el Modelo Poisson no cumple el supuesto de media = a varianza priobaremos con el modelo de  regresión Binomial Negativa"
   ]
  },
  {
   "attachments": {},
   "cell_type": "markdown",
   "metadata": {},
   "source": [
    "# Modelo de regresión Binomial Negativa BN"
   ]
  },
  {
   "attachments": {},
   "cell_type": "markdown",
   "metadata": {},
   "source": [
    "Nuestro verdadero interés radica en el vector de tasas ajustadas λ "
   ]
  },
  {
   "cell_type": "code",
   "execution_count": 40,
   "metadata": {},
   "outputs": [
    {
     "name": "stdout",
     "output_type": "stream",
     "text": [
      "[0.2060188  0.59135122 0.36407204 ... 0.92097496 0.54350278 0.21875757]\n",
      "1914\n"
     ]
    }
   ],
   "source": [
    "print(Poisson_Clasico.mu)\n",
    "print(len(Poisson_Clasico.mu))"
   ]
  },
  {
   "attachments": {},
   "cell_type": "markdown",
   "metadata": {},
   "source": [
    "Ahora ajustaremos el modelo de regresión OLS auxiliar en el conjunto de datos y usaremos el modelo ajustado para obtener el valor de α. Para ello Agregaremos el vector λ como una nueva columna llamada 'R_LAMBDA' "
   ]
  },
  {
   "cell_type": "code",
   "execution_count": 41,
   "metadata": {},
   "outputs": [],
   "source": [
    "import statsmodels.formula.api as smf"
   ]
  },
  {
   "cell_type": "code",
   "execution_count": 42,
   "metadata": {},
   "outputs": [],
   "source": [
    "data1['R_LAMBDA'] = Poisson_Clasico.mu"
   ]
  },
  {
   "attachments": {},
   "cell_type": "markdown",
   "metadata": {},
   "source": [
    "A continuación, agreguemos una columna derivada llamada 'AUX_OLS_DEP'. Esta nueva columna almacenará los valores de la variable dependiente de la regresión OLS"
   ]
  },
  {
   "cell_type": "code",
   "execution_count": 43,
   "metadata": {},
   "outputs": [],
   "source": [
    "data1['AUX_OLS_DEP'] = data1.apply(lambda x: ((x['Rechazados'] - x['R_LAMBDA'])**2 - x['R_LAMBDA']) / x['R_LAMBDA'], axis=1)"
   ]
  },
  {
   "cell_type": "code",
   "execution_count": 44,
   "metadata": {},
   "outputs": [],
   "source": [
    "ols_expr = \"\"\"AUX_OLS_DEP ~ R_LAMBDA - 1\"\"\""
   ]
  },
  {
   "cell_type": "code",
   "execution_count": 45,
   "metadata": {},
   "outputs": [
    {
     "name": "stdout",
     "output_type": "stream",
     "text": [
      "R_LAMBDA    0.773104\n",
      "dtype: float64\n"
     ]
    }
   ],
   "source": [
    "aux_olsr_results = smf.ols(ols_expr, data1).fit()\n",
    "print(aux_olsr_results.params)"
   ]
  },
  {
   "attachments": {},
   "cell_type": "markdown",
   "metadata": {},
   "source": [
    "### ¿Es α estadísticamente significativo?"
   ]
  },
  {
   "cell_type": "code",
   "execution_count": 46,
   "metadata": {},
   "outputs": [
    {
     "data": {
      "text/plain": [
       "R_LAMBDA    6.992936\n",
       "dtype: float64"
      ]
     },
     "execution_count": 46,
     "metadata": {},
     "output_type": "execute_result"
    }
   ],
   "source": [
    "aux_olsr_results.tvalues"
   ]
  },
  {
   "attachments": {},
   "cell_type": "markdown",
   "metadata": {},
   "source": [
    "A partir de encontrar el valor t , podemos ver que el valor t crítico con un nivel de confianza del 99 % (cola derecha) y grados de libertad=(1914 observaciones)  (1 parámetro de dispersión α) = 1913 es 2,328299. Esto es cómodamente menor que la estadística t de α que fue  6.992936. Concluimos que α= 0.773104 es estadísticamente significativo."
   ]
  },
  {
   "attachments": {},
   "cell_type": "markdown",
   "metadata": {},
   "source": [
    "Ahora, Suministramos el valor de alfa encontrado  y encontramos  el modelo NB2 en el conjunto de datos de entrenamiento.statsmodels.genmod.families.family.NegativeBinomial"
   ]
  },
  {
   "cell_type": "code",
   "execution_count": 47,
   "metadata": {},
   "outputs": [
    {
     "name": "stdout",
     "output_type": "stream",
     "text": [
      "                 Generalized Linear Model Regression Results                  \n",
      "==============================================================================\n",
      "Dep. Variable:             Rechazados   No. Observations:                 1914\n",
      "Model:                            GLM   Df Residuals:                     1904\n",
      "Model Family:        NegativeBinomial   Df Model:                            9\n",
      "Link Function:                    Log   Scale:                          1.0000\n",
      "Method:                          IRLS   Log-Likelihood:                -1882.2\n",
      "Date:                Tue, 06 Jun 2023   Deviance:                       1795.7\n",
      "Time:                        23:04:59   Pearson chi2:                 2.03e+03\n",
      "No. Iterations:                     6   Pseudo R-squ. (CS):            0.06399\n",
      "Covariance Type:            nonrobust                                         \n",
      "================================================================================\n",
      "                   coef    std err          z      P>|z|      [0.025      0.975]\n",
      "--------------------------------------------------------------------------------\n",
      "Intercept        0.8362      0.295      2.839      0.005       0.259       1.414\n",
      "Dia_Semana      -0.0999      0.023     -4.253      0.000      -0.146      -0.054\n",
      "Temp1            0.0211      0.024      0.892      0.372      -0.025       0.067\n",
      "Ti1             -0.0136      0.036     -0.376      0.707      -0.085       0.058\n",
      "Temp3           -0.0823      0.021     -3.837      0.000      -0.124      -0.040\n",
      "CF               0.0137      0.012      1.125      0.261      -0.010       0.038\n",
      "Ti2              0.0166      0.002      6.712      0.000       0.012       0.021\n",
      "PPPCF           -0.0201      0.004     -4.559      0.000      -0.029      -0.011\n",
      "Indicador       -0.0736      0.015     -4.950      0.000      -0.103      -0.044\n",
      "pH_Requisito    -0.4542      0.095     -4.795      0.000      -0.640      -0.269\n",
      "================================================================================\n"
     ]
    }
   ],
   "source": [
    "NB2 = sm.GLM(y, X, family=sm.families.NegativeBinomial(alpha=aux_olsr_results.params[0])).fit()\n",
    "print(NB2.summary())"
   ]
  },
  {
   "cell_type": "code",
   "execution_count": 49,
   "metadata": {},
   "outputs": [
    {
     "name": "stdout",
     "output_type": "stream",
     "text": [
      "                 Generalized Linear Model Regression Results                  \n",
      "==============================================================================\n",
      "Dep. Variable:             Rechazados   No. Observations:                 1531\n",
      "Model:                            GLM   Df Residuals:                     1521\n",
      "Model Family:        NegativeBinomial   Df Model:                            9\n",
      "Link Function:                    Log   Scale:                          1.0000\n",
      "Method:                          IRLS   Log-Likelihood:                -1531.4\n",
      "Date:                Tue, 06 Jun 2023   Deviance:                       1451.2\n",
      "Time:                        23:05:41   Pearson chi2:                 1.62e+03\n",
      "No. Iterations:                     7   Pseudo R-squ. (CS):            0.06446\n",
      "Covariance Type:            nonrobust                                         \n",
      "================================================================================\n",
      "                   coef    std err          z      P>|z|      [0.025      0.975]\n",
      "--------------------------------------------------------------------------------\n",
      "Intercept        1.0072      0.334      3.018      0.003       0.353       1.661\n",
      "Dia_Semana      -0.1081      0.026     -4.107      0.000      -0.160      -0.056\n",
      "Temp1            0.0181      0.025      0.720      0.472      -0.031       0.068\n",
      "Ti1             -0.0346      0.044     -0.792      0.428      -0.120       0.051\n",
      "Temp3           -0.0612      0.024     -2.565      0.010      -0.108      -0.014\n",
      "CF               0.0009      0.013      0.064      0.949      -0.025       0.027\n",
      "Ti2              0.0166      0.003      6.033      0.000       0.011       0.022\n",
      "PPPCF           -0.0177      0.005     -3.522      0.000      -0.028      -0.008\n",
      "Indicador       -0.0795      0.017     -4.729      0.000      -0.112      -0.047\n",
      "pH_Requisito    -0.4881      0.105     -4.637      0.000      -0.694      -0.282\n",
      "================================================================================\n"
     ]
    }
   ],
   "source": [
    "NB2_TRAIN = sm.GLM(y_train, X_train, family=sm.families.NegativeBinomial(alpha=aux_olsr_results.params[0])).fit()\n",
    "print(NB2_TRAIN.summary())"
   ]
  },
  {
   "cell_type": "code",
   "execution_count": 51,
   "metadata": {},
   "outputs": [
    {
     "name": "stdout",
     "output_type": "stream",
     "text": [
      "count    383.000000\n",
      "mean       0.560993\n",
      "std        0.272166\n",
      "min        0.067139\n",
      "25%        0.417963\n",
      "50%        0.511164\n",
      "75%        0.654378\n",
      "max        2.783560\n",
      "dtype: float64\n"
     ]
    }
   ],
   "source": [
    "predictionsNB = NB2_TRAIN.predict(X_test)\n",
    "print(predictionsNB.describe())"
   ]
  },
  {
   "cell_type": "code",
   "execution_count": 52,
   "metadata": {},
   "outputs": [
    {
     "data": {
      "text/plain": [
       "1618.2197868904077"
      ]
     },
     "execution_count": 52,
     "metadata": {},
     "output_type": "execute_result"
    }
   ],
   "source": [
    "NB2_TRAIN.pearson_chi2"
   ]
  },
  {
   "attachments": {},
   "cell_type": "markdown",
   "metadata": {},
   "source": [
    "Para hacer una determinación cuantitativa de la bondad de ajuste en algún nivel de confianza, digamos 95% (p=0.05), buscamos el valor en la tabla χ2 para p=0.05 y Grados de libertad de los residuos=1521. (Residuos DF = No. Observaciones menos modelo DF]). Comparamos este valor de chi-cuadrado con la estadística observada, en este caso, la desviación o el valor de chi-cuadrado de Pearson informado en GLMResults. Encontramos que en p=0.05 y DF Residuos = 1521, el valor de chi-cuadrado de una tabla estándar de Chi-cuadradoes 1652.24, que es por muy poco menor que la estadística informada de 1618.22 pero mayor que el valor de desviance = 1451. "
   ]
  },
  {
   "cell_type": "code",
   "execution_count": 53,
   "metadata": {},
   "outputs": [
    {
     "name": "stdout",
     "output_type": "stream",
     "text": [
      "MSE 0.7480918860495328\n",
      "MAE 0.689460886476281\n",
      "mean Poisson deviance: 1.251884865109223\n"
     ]
    }
   ],
   "source": [
    "print(\"MSE\", mean_squared_error(y_test,predictionsNB))\n",
    "print(\"MAE\", mean_absolute_error(y_test,predictionsNB))\n",
    "print(\"mean Poisson deviance:\", mean_poisson_deviance(y_test,predictionsNB))\n"
   ]
  },
  {
   "attachments": {},
   "cell_type": "markdown",
   "metadata": {},
   "source": [
    "El modelo no se ajusta por poco a los datos de entrenamientos"
   ]
  },
  {
   "attachments": {},
   "cell_type": "markdown",
   "metadata": {},
   "source": [
    "### Probemos La Variable de Respuesta en frecuencia - Caso 1 canales rechazados por cuarto frío  sobre el tiempo de maduración en días"
   ]
  },
  {
   "cell_type": "code",
   "execution_count": 54,
   "metadata": {},
   "outputs": [
    {
     "data": {
      "text/plain": [
       "1531"
      ]
     },
     "execution_count": 54,
     "metadata": {},
     "output_type": "execute_result"
    }
   ],
   "source": [
    "len(Poisson_Frecuencia1.mu)"
   ]
  },
  {
   "cell_type": "code",
   "execution_count": 55,
   "metadata": {},
   "outputs": [
    {
     "name": "stdout",
     "output_type": "stream",
     "text": [
      "R_LAMBDA2    0.469946\n",
      "dtype: float64\n"
     ]
    }
   ],
   "source": [
    "X_train_F['R_LAMBDA2'] = Poisson_Frecuencia1.mu\n",
    "X_train_F[\"Rechazados_Frecuencia\"] = y_train_F\n",
    "X_train_F['AUX_OLS_DEP2'] = X_train_F.apply(lambda x: ((x['Rechazados_Frecuencia'] - x['R_LAMBDA2'])**2 - x['R_LAMBDA2']) / x['R_LAMBDA2'], axis=1)\n",
    "ols_expr2 = \"\"\"AUX_OLS_DEP2 ~ R_LAMBDA2 - 1\"\"\"\n",
    "aux_olsr_results2 = smf.ols(ols_expr2, X_train_F).fit()\n",
    "print(aux_olsr_results2.params)"
   ]
  },
  {
   "cell_type": "code",
   "execution_count": 56,
   "metadata": {},
   "outputs": [
    {
     "data": {
      "text/plain": [
       "R_LAMBDA2    3.22479\n",
       "dtype: float64"
      ]
     },
     "execution_count": 56,
     "metadata": {},
     "output_type": "execute_result"
    }
   ],
   "source": [
    "aux_olsr_results2.tvalues"
   ]
  },
  {
   "attachments": {},
   "cell_type": "markdown",
   "metadata": {},
   "source": [
    "A partir de encontrar el valor t , podemos ver que el valor t crítico con un nivel de confianza del 99 % (cola derecha) y grados de libertad=(1531 observaciones)  (1 parámetro de dispersión α) = 1530 es 2,328788. Esto es menor que la estadística t de α que fue  3.22479. Concluimos que α= 0.469946 es estadísticamente significativo."
   ]
  },
  {
   "cell_type": "code",
   "execution_count": 57,
   "metadata": {},
   "outputs": [
    {
     "name": "stdout",
     "output_type": "stream",
     "text": [
      "                   Generalized Linear Model Regression Results                   \n",
      "=================================================================================\n",
      "Dep. Variable:     Rechazados_Frecuencia   No. Observations:                 1531\n",
      "Model:                               GLM   Df Residuals:                     1521\n",
      "Model Family:           NegativeBinomial   Df Model:                            9\n",
      "Link Function:                       Log   Scale:                          1.0000\n",
      "Method:                             IRLS   Log-Likelihood:                -1287.8\n",
      "Date:                   Tue, 06 Jun 2023   Deviance:                       1305.2\n",
      "Time:                           23:07:31   Pearson chi2:                 1.53e+03\n",
      "No. Iterations:                        5   Pseudo R-squ. (CS):            0.04591\n",
      "Covariance Type:               nonrobust                                         \n",
      "================================================================================\n",
      "                   coef    std err          z      P>|z|      [0.025      0.975]\n",
      "--------------------------------------------------------------------------------\n",
      "Intercept        1.4335      0.363      3.952      0.000       0.723       2.145\n",
      "Dia_Semana      -0.1126      0.028     -4.069      0.000      -0.167      -0.058\n",
      "Temp1            0.0163      0.027      0.602      0.547      -0.037       0.069\n",
      "Ti1             -0.0433      0.046     -0.937      0.349      -0.134       0.047\n",
      "Temp3           -0.0653      0.025     -2.656      0.008      -0.113      -0.017\n",
      "CF              -0.0041      0.014     -0.294      0.769      -0.032       0.023\n",
      "Ti2             -0.0653      0.084     -0.774      0.439      -0.231       0.100\n",
      "PPPCF           -0.0184      0.006     -3.280      0.001      -0.029      -0.007\n",
      "Indicador       -0.0824      0.018     -4.527      0.000      -0.118      -0.047\n",
      "pH_Requisito    -0.4424      0.113     -3.910      0.000      -0.664      -0.221\n",
      "================================================================================\n"
     ]
    }
   ],
   "source": [
    "NB2_TRAIN_F1 = sm.GLM(y_train_F, X_train_F.drop([\"Rechazados_Frecuencia\",\"R_LAMBDA2\", \"AUX_OLS_DEP2\"],axis=1), family=sm.families.NegativeBinomial(alpha=aux_olsr_results2.params[0])).fit()\n",
    "print(NB2_TRAIN_F1.summary())"
   ]
  },
  {
   "cell_type": "code",
   "execution_count": 58,
   "metadata": {},
   "outputs": [
    {
     "name": "stdout",
     "output_type": "stream",
     "text": [
      "count    383.000000\n",
      "mean       0.416761\n",
      "std        0.155610\n",
      "min        0.044162\n",
      "25%        0.315408\n",
      "50%        0.405455\n",
      "75%        0.511940\n",
      "max        1.071745\n",
      "dtype: float64\n"
     ]
    }
   ],
   "source": [
    "predictionsNB_F1 = NB2_TRAIN_F1.predict(X_test_F)\n",
    "print(predictionsNB_F1.describe())\n"
   ]
  },
  {
   "cell_type": "code",
   "execution_count": 59,
   "metadata": {},
   "outputs": [
    {
     "name": "stdout",
     "output_type": "stream",
     "text": [
      "MSE 0.47048587395630515\n",
      "MAE 0.5315474000326236\n",
      "mean Poisson deviance: 0.9892551204483352\n"
     ]
    }
   ],
   "source": [
    "print(\"MSE\", mean_squared_error(y_test_F,predictionsNB_F1))\n",
    "print(\"MAE\", mean_absolute_error(y_test_F,predictionsNB_F1))\n",
    "print(\"mean Poisson deviance:\", mean_poisson_deviance(y_test_F,predictionsNB_F1))\n"
   ]
  },
  {
   "cell_type": "code",
   "execution_count": 60,
   "metadata": {},
   "outputs": [
    {
     "name": "stdout",
     "output_type": "stream",
     "text": [
      "Pearson chi2: 1530.5467334317657\n",
      "Pearson Deviance: 1305.2157860606949\n"
     ]
    }
   ],
   "source": [
    "print(\"Pearson chi2:\", NB2_TRAIN_F1.pearson_chi2)\n",
    "print(\"Pearson Deviance:\", NB2_TRAIN_F1.deviance)"
   ]
  },
  {
   "attachments": {},
   "cell_type": "markdown",
   "metadata": {},
   "source": [
    "Para hacer una determinación cuantitativa de la bondad de ajuste en algún nivel de confianza, digamos 95% (p=0.05), buscamos el valor en la tabla χ2 para p=0.05 y Grados de libertad de los residuos=1521. (Residuos DF = No. Observaciones menos modelo). Comparamos este valor de chi-cuadrado con la estadística observada, en este caso, la desviación o el valor de chi-cuadrado de Pearson informado en GLMResults. Encontramos que en p=0.05 y DF Residuos = 1521, el valor de chi-cuadrado de una tabla estándar de Chi-cuadradoes 1652.24, que está  encima de la estadística informada de 1530.54 y 1305.2 por lo tanto el modelo se ajusta muy bien a los datos de entrenamiento. "
   ]
  },
  {
   "attachments": {},
   "cell_type": "markdown",
   "metadata": {},
   "source": [
    "### Caso 2 canales rechazados sobre el tiempo almacenamento en cada cuarto frío medido en horas"
   ]
  },
  {
   "cell_type": "code",
   "execution_count": 61,
   "metadata": {},
   "outputs": [
    {
     "data": {
      "text/plain": [
       "1531"
      ]
     },
     "execution_count": 61,
     "metadata": {},
     "output_type": "execute_result"
    }
   ],
   "source": [
    "len(Poisson_Frecuencia2.mu)"
   ]
  },
  {
   "cell_type": "code",
   "execution_count": 62,
   "metadata": {},
   "outputs": [
    {
     "name": "stdout",
     "output_type": "stream",
     "text": [
      "R_LAMBDA3    0.571835\n",
      "dtype: float64\n"
     ]
    }
   ],
   "source": [
    "X_train_F2['R_LAMBDA3'] = Poisson_Frecuencia2.mu\n",
    "X_train_F2[\"Rechazados_Frecuencia\"] = y_train_F2\n",
    "X_train_F2['AUX_OLS_DEP3'] = X_train_F2.apply(lambda x: ((x['Rechazados_Frecuencia'] - x['R_LAMBDA3'])**2 - x['R_LAMBDA3']) / x['R_LAMBDA3'], axis=1)\n",
    "ols_expr3 = \"\"\"AUX_OLS_DEP3 ~ R_LAMBDA3 - 1\"\"\"\n",
    "aux_olsr_results3 = smf.ols(ols_expr3, X_train_F2).fit()\n",
    "print(aux_olsr_results3.params)"
   ]
  },
  {
   "cell_type": "code",
   "execution_count": 63,
   "metadata": {},
   "outputs": [
    {
     "data": {
      "text/plain": [
       "R_LAMBDA3    2.286237\n",
       "dtype: float64"
      ]
     },
     "execution_count": 63,
     "metadata": {},
     "output_type": "execute_result"
    }
   ],
   "source": [
    "aux_olsr_results3.tvalues"
   ]
  },
  {
   "attachments": {},
   "cell_type": "markdown",
   "metadata": {},
   "source": [
    "A partir de encontrar el valor t , podemos ver que el valor t crítico con un nivel de confianza del 99 % (cola derecha) y grados de libertad=(1531 observaciones)  (1 parámetro de dispersión α) = 1530 es 2,3. Este es migual que la estadística t de α que fue  2.3. Concluimos que α= 0.571835 es estadísticamente significativo."
   ]
  },
  {
   "cell_type": "code",
   "execution_count": 64,
   "metadata": {},
   "outputs": [
    {
     "name": "stdout",
     "output_type": "stream",
     "text": [
      "                   Generalized Linear Model Regression Results                   \n",
      "=================================================================================\n",
      "Dep. Variable:     Rechazados_Frecuencia   No. Observations:                 1531\n",
      "Model:                               GLM   Df Residuals:                     1521\n",
      "Model Family:           NegativeBinomial   Df Model:                            9\n",
      "Link Function:                       Log   Scale:                          1.0000\n",
      "Method:                             IRLS   Log-Likelihood:                -1057.6\n",
      "Date:                   Tue, 06 Jun 2023   Deviance:                       979.63\n",
      "Time:                           23:08:23   Pearson chi2:                 1.19e+03\n",
      "No. Iterations:                        7   Pseudo R-squ. (CS):            0.08522\n",
      "Covariance Type:               nonrobust                                         \n",
      "================================================================================\n",
      "                   coef    std err          z      P>|z|      [0.025      0.975]\n",
      "--------------------------------------------------------------------------------\n",
      "Intercept        1.0749      0.409      2.630      0.009       0.274       1.876\n",
      "Dia_Semana      -0.1214      0.032     -3.815      0.000      -0.184      -0.059\n",
      "Temp1            0.0116      0.029      0.395      0.693      -0.046       0.069\n",
      "Ti1             -0.5462      0.081     -6.749      0.000      -0.705      -0.388\n",
      "Temp3           -0.0737      0.028     -2.668      0.008      -0.128      -0.020\n",
      "CF               0.0059      0.016      0.358      0.720      -0.026       0.038\n",
      "Ti2              0.0166      0.003      5.143      0.000       0.010       0.023\n",
      "PPPCF           -0.0115      0.006     -1.948      0.051      -0.023    6.95e-05\n",
      "Indicador       -0.0433      0.017     -2.491      0.013      -0.077      -0.009\n",
      "pH_Requisito    -0.4955      0.129     -3.846      0.000      -0.748      -0.243\n",
      "================================================================================\n"
     ]
    }
   ],
   "source": [
    "NB2_TRAIN_F2 = sm.GLM(y_train_F2, X_train_F2.drop([\"Rechazados_Frecuencia\",\"R_LAMBDA3\", \"AUX_OLS_DEP3\"],axis=1), family=sm.families.NegativeBinomial(alpha=aux_olsr_results3.params[0])).fit()\n",
    "print(NB2_TRAIN_F2.summary())"
   ]
  },
  {
   "cell_type": "code",
   "execution_count": 65,
   "metadata": {},
   "outputs": [
    {
     "name": "stdout",
     "output_type": "stream",
     "text": [
      "count    383.000000\n",
      "mean       0.323113\n",
      "std        0.221674\n",
      "min        0.000118\n",
      "25%        0.189243\n",
      "50%        0.292864\n",
      "75%        0.386922\n",
      "max        1.731632\n",
      "dtype: float64\n"
     ]
    }
   ],
   "source": [
    "predictionsNB_F2 = NB2_TRAIN_F2.predict(X_test_F2)\n",
    "print(predictionsNB_F2.describe())"
   ]
  },
  {
   "cell_type": "code",
   "execution_count": 66,
   "metadata": {},
   "outputs": [
    {
     "name": "stdout",
     "output_type": "stream",
     "text": [
      "MSE 0.2586258728888057\n",
      "MAE 0.38835217676359707\n",
      "mean Poisson deviance: 0.7017514167261705\n"
     ]
    }
   ],
   "source": [
    "print(\"MSE\", mean_squared_error(y_test_F2,predictionsNB_F2))\n",
    "print(\"MAE\", mean_absolute_error(y_test_F2,predictionsNB_F2))\n",
    "print(\"mean Poisson deviance:\", mean_poisson_deviance(y_test_F2,predictionsNB_F2))\n"
   ]
  },
  {
   "cell_type": "code",
   "execution_count": 67,
   "metadata": {},
   "outputs": [
    {
     "name": "stdout",
     "output_type": "stream",
     "text": [
      "Pearson chi: 1185.9192054561777\n",
      "Pearson Deviance: 979.63438157224\n"
     ]
    }
   ],
   "source": [
    "print(\"Pearson chi:\", NB2_TRAIN_F2.pearson_chi2)\n",
    "print(\"Pearson Deviance:\", NB2_TRAIN_F2.deviance)"
   ]
  },
  {
   "attachments": {},
   "cell_type": "markdown",
   "metadata": {},
   "source": [
    "Para hacer una determinación cuantitativa de la bondad de ajuste en algún nivel de confianza, digamos 95% (p=0.05), buscamos el valor en la tabla χ2 para p=0.05 y Grados de libertad de los residuos=1521. (Residuos DF = No. Observaciones menos modelo). Comparamos este valor de chi-cuadrado con la estadística observada, en este caso, la desviación o el valor de chi-cuadrado de Pearson informado en GLMResults. Encontramos que en p=0.05 y DF Residuos = 1521, el valor de chi-cuadrado de una tabla estándar de Chi-cuadradoes 1652.24, que está por encima de la estadística informada de 1185.92 y 979.63 por lo tanto el modelo se ajusta muy bien a los datos de entrenamiento. "
   ]
  },
  {
   "attachments": {},
   "cell_type": "markdown",
   "metadata": {},
   "source": [
    "# Modelo de regresión de Poisson inflado a cero ZIP"
   ]
  },
  {
   "cell_type": "code",
   "execution_count": 68,
   "metadata": {},
   "outputs": [],
   "source": [
    "X2 = data0[[\"Temp1\", \"Ti1\", \"Temp3\", \"Ti2\", \"Canales\",\"PPPCF\", \"pH_Requisito\", \"Tamin\"]] #\"Dia_Semana\",\n",
    "X_train_0, X_test_0, y_train_0, y_test_0 = train_test_split(X2, y, train_size=0.8, random_state=1234)\n"
   ]
  },
  {
   "cell_type": "code",
   "execution_count": 69,
   "metadata": {},
   "outputs": [
    {
     "name": "stdout",
     "output_type": "stream",
     "text": [
      "Warning: Maximum number of iterations has been exceeded.\n",
      "         Current function value: 0.945619\n",
      "         Iterations: 35\n",
      "         Function evaluations: 45\n",
      "         Gradient evaluations: 45\n"
     ]
    }
   ],
   "source": [
    "zip__results = sm.ZeroInflatedPoisson(y_train_0, X_train_0, exog_infl=X_train_0, inflation='logit').fit()"
   ]
  },
  {
   "cell_type": "code",
   "execution_count": 70,
   "metadata": {},
   "outputs": [
    {
     "name": "stdout",
     "output_type": "stream",
     "text": [
      "                     ZeroInflatedPoisson Regression Results                    \n",
      "===============================================================================\n",
      "Dep. Variable:              Rechazados   No. Observations:                 1531\n",
      "Model:             ZeroInflatedPoisson   Df Residuals:                     1523\n",
      "Method:                            MLE   Df Model:                            7\n",
      "Date:                 Tue, 06 Jun 2023   Pseudo R-squ.:                 0.03539\n",
      "Time:                         23:08:59   Log-Likelihood:                -1447.7\n",
      "converged:                       False   LL-Null:                       -1500.9\n",
      "Covariance Type:             nonrobust   LLR p-value:                 5.511e-20\n",
      "========================================================================================\n",
      "                           coef    std err          z      P>|z|      [0.025      0.975]\n",
      "----------------------------------------------------------------------------------------\n",
      "inflate_Temp1           -0.0758      0.051     -1.481      0.139      -0.176       0.025\n",
      "inflate_Ti1              0.0408      0.076      0.536      0.592      -0.109       0.190\n",
      "inflate_Temp3            0.1452      0.047      3.085      0.002       0.053       0.237\n",
      "inflate_Ti2             -0.0873      0.018     -4.761      0.000      -0.123      -0.051\n",
      "inflate_Canales         -0.0105      0.003     -3.292      0.001      -0.017      -0.004\n",
      "inflate_PPPCF            0.0392      0.008      4.750      0.000       0.023       0.055\n",
      "inflate_pH_Requisito     0.3763      0.194      1.942      0.052      -0.003       0.756\n",
      "inflate_Tamin            0.1165      0.030      3.906      0.000       0.058       0.175\n",
      "Temp1                   -0.0161      0.025     -0.651      0.515      -0.064       0.032\n",
      "Ti1                     -0.0113      0.046     -0.249      0.803      -0.101       0.078\n",
      "Temp3                    0.0122      0.022      0.564      0.573      -0.030       0.054\n",
      "Ti2                     -0.0084      0.002     -3.537      0.000      -0.013      -0.004\n",
      "Canales                  0.0036      0.002      1.963      0.050     5.5e-06       0.007\n",
      "PPPCF                    0.0173      0.005      3.644      0.000       0.008       0.027\n",
      "pH_Requisito            -0.2763      0.098     -2.809      0.005      -0.469      -0.084\n",
      "Tamin                    0.0005      0.012      0.041      0.967      -0.023       0.024\n",
      "========================================================================================\n"
     ]
    }
   ],
   "source": [
    "print(zip__results.summary())"
   ]
  },
  {
   "cell_type": "code",
   "execution_count": 71,
   "metadata": {},
   "outputs": [
    {
     "name": "stdout",
     "output_type": "stream",
     "text": [
      "ZIP RMSE=16.97056274847714\n"
     ]
    }
   ],
   "source": [
    "zip_predictions = zip__results.predict(X_test_0,exog_infl=X_test_0)\n",
    "predicted_counts=np.round(zip_predictions)\n",
    "actual_counts = y_test_0[\"Rechazados\"]\n",
    "print('ZIP RMSE='+str(np.sqrt(np.sum(np.power(np.subtract(predicted_counts,actual_counts),2)))))\n"
   ]
  },
  {
   "cell_type": "code",
   "execution_count": 72,
   "metadata": {},
   "outputs": [
    {
     "data": {
      "text/plain": [
       "1730    0.436889\n",
       "1831    1.094511\n",
       "362     0.338312\n",
       "1402    0.606799\n",
       "78      0.512618\n",
       "          ...   \n",
       "1792    0.498191\n",
       "1614    0.541344\n",
       "35      0.452762\n",
       "956     0.102175\n",
       "1577    1.011863\n",
       "Length: 383, dtype: float64"
      ]
     },
     "execution_count": 72,
     "metadata": {},
     "output_type": "execute_result"
    }
   ],
   "source": [
    "zip_predictions "
   ]
  },
  {
   "cell_type": "code",
   "execution_count": 73,
   "metadata": {},
   "outputs": [
    {
     "name": "stdout",
     "output_type": "stream",
     "text": [
      "MSE 0.7110204815763748\n",
      "MAE 0.6698978622961271\n",
      "mean Poisson deviance: 1.21790117984598\n"
     ]
    }
   ],
   "source": [
    "print(\"MSE\", mean_squared_error(y_test_0,zip_predictions))\n",
    "print(\"MAE\", mean_absolute_error(y_test_0,zip_predictions))\n",
    "print(\"mean Poisson deviance:\", mean_poisson_deviance(y_test_0,zip_predictions))"
   ]
  },
  {
   "attachments": {},
   "cell_type": "markdown",
   "metadata": {},
   "source": [
    "### Inflado a Cero en terminos de frecuencias - Rechazados por cuarto frío / Tiempo de maduración en días"
   ]
  },
  {
   "cell_type": "code",
   "execution_count": 74,
   "metadata": {},
   "outputs": [
    {
     "name": "stdout",
     "output_type": "stream",
     "text": [
      "Warning: Maximum number of iterations has been exceeded.\n",
      "         Current function value: 0.801587\n",
      "         Iterations: 35\n",
      "         Function evaluations: 42\n",
      "         Gradient evaluations: 42\n"
     ]
    }
   ],
   "source": [
    "zip__results_F = sm.ZeroInflatedPoisson(y_train_F, X_train_F.drop([\"R_LAMBDA2\", \"Rechazados_Frecuencia\", \"AUX_OLS_DEP2\"],axis=1), exog_infl=X_train_F.drop([\"R_LAMBDA2\", \"Rechazados_Frecuencia\", \"AUX_OLS_DEP2\"],axis=1), inflation='logit').fit()"
   ]
  },
  {
   "cell_type": "code",
   "execution_count": 72,
   "metadata": {},
   "outputs": [
    {
     "name": "stdout",
     "output_type": "stream",
     "text": [
      "                      ZeroInflatedPoisson Regression Results                     \n",
      "=================================================================================\n",
      "Dep. Variable:     Rechazados_Frecuencia   No. Observations:                 1531\n",
      "Model:               ZeroInflatedPoisson   Df Residuals:                     1521\n",
      "Method:                              MLE   Df Model:                            9\n",
      "Date:                   Thu, 18 May 2023   Pseudo R-squ.:                 0.07616\n",
      "Time:                           21:01:09   Log-Likelihood:                -1227.2\n",
      "converged:                         False   LL-Null:                       -1328.4\n",
      "Covariance Type:               nonrobust   LLR p-value:                 1.062e-38\n",
      "========================================================================================\n",
      "                           coef    std err          z      P>|z|      [0.025      0.975]\n",
      "----------------------------------------------------------------------------------------\n",
      "inflate_Intercept       -0.4824      0.978     -0.493      0.622      -2.399       1.434\n",
      "inflate_Dia_Semana       0.2377      0.064      3.736      0.000       0.113       0.362\n",
      "inflate_Temp1           -0.1194      0.073     -1.643      0.100      -0.262       0.023\n",
      "inflate_Ti1              0.0211      0.099      0.213      0.831      -0.173       0.215\n",
      "inflate_Temp3            0.3007      0.076      3.943      0.000       0.151       0.450\n",
      "inflate_CF               0.0242      0.032      0.747      0.455      -0.039       0.088\n",
      "inflate_Ti2             -3.2470      0.524     -6.193      0.000      -4.275      -2.219\n",
      "inflate_PPPCF            0.0763      0.012      6.295      0.000       0.053       0.100\n",
      "inflate_Indicador        0.1525      0.038      4.011      0.000       0.078       0.227\n",
      "inflate_pH_Requisito    -0.1721      0.289     -0.594      0.552      -0.739       0.395\n",
      "Intercept                1.1875      0.395      3.006      0.003       0.413       1.962\n",
      "Dia_Semana              -0.0117      0.029     -0.403      0.687      -0.068       0.045\n",
      "Temp1                   -0.0413      0.029     -1.437      0.151      -0.098       0.015\n",
      "Ti1                     -0.0381      0.051     -0.751      0.452      -0.137       0.061\n",
      "Temp3                    0.0290      0.025      1.167      0.243      -0.020       0.078\n",
      "CF                      -0.0033      0.014     -0.232      0.816      -0.031       0.025\n",
      "Ti2                     -0.7582      0.101     -7.519      0.000      -0.956      -0.561\n",
      "PPPCF                    0.0186      0.008      2.323      0.020       0.003       0.034\n",
      "Indicador               -0.0072      0.020     -0.362      0.718      -0.046       0.032\n",
      "pH_Requisito            -0.4510      0.111     -4.079      0.000      -0.668      -0.234\n",
      "========================================================================================\n"
     ]
    }
   ],
   "source": [
    "print(zip__results_F.summary())"
   ]
  },
  {
   "cell_type": "code",
   "execution_count": 75,
   "metadata": {},
   "outputs": [],
   "source": [
    "zip_predictions_F = zip__results_F.predict(X_test_F,exog_infl=X_test_F)"
   ]
  },
  {
   "cell_type": "code",
   "execution_count": 76,
   "metadata": {},
   "outputs": [
    {
     "name": "stdout",
     "output_type": "stream",
     "text": [
      "MSE 0.4663919377327615\n",
      "MAE 0.5279891229581817\n",
      "mean Poisson deviance: 0.9880629865141641\n"
     ]
    }
   ],
   "source": [
    "print(\"MSE\", mean_squared_error(y_test_F,zip_predictions_F))\n",
    "print(\"MAE\", mean_absolute_error(y_test_F,zip_predictions_F))\n",
    "print(\"mean Poisson deviance:\", mean_poisson_deviance(y_test_F,zip_predictions_F))"
   ]
  },
  {
   "attachments": {},
   "cell_type": "markdown",
   "metadata": {},
   "source": [
    "### Inflado a Cero - Rechazados por cuarto frío / Tiempo de almacenamiento en horas"
   ]
  },
  {
   "cell_type": "code",
   "execution_count": 77,
   "metadata": {},
   "outputs": [
    {
     "name": "stdout",
     "output_type": "stream",
     "text": [
      "Warning: Maximum number of iterations has been exceeded.\n",
      "         Current function value: 0.667366\n",
      "         Iterations: 35\n",
      "         Function evaluations: 42\n",
      "         Gradient evaluations: 42\n"
     ]
    }
   ],
   "source": [
    "zip__results_F2 = sm.ZeroInflatedPoisson(y_train_F2, X_train_F2.drop([\"R_LAMBDA3\", \"Rechazados_Frecuencia\", \"AUX_OLS_DEP3\"],axis=1), exog_infl=X_train_F2.drop([\"R_LAMBDA3\", \"Rechazados_Frecuencia\", \"AUX_OLS_DEP3\"],axis=1), inflation='logit').fit()"
   ]
  },
  {
   "cell_type": "code",
   "execution_count": 78,
   "metadata": {},
   "outputs": [
    {
     "name": "stdout",
     "output_type": "stream",
     "text": [
      "                      ZeroInflatedPoisson Regression Results                     \n",
      "=================================================================================\n",
      "Dep. Variable:     Rechazados_Frecuencia   No. Observations:                 1531\n",
      "Model:               ZeroInflatedPoisson   Df Residuals:                     1521\n",
      "Method:                              MLE   Df Model:                            9\n",
      "Date:                   Tue, 06 Jun 2023   Pseudo R-squ.:                  0.1030\n",
      "Time:                           23:09:49   Log-Likelihood:                -1021.7\n",
      "converged:                         False   LL-Null:                       -1139.0\n",
      "Covariance Type:               nonrobust   LLR p-value:                 1.807e-45\n",
      "========================================================================================\n",
      "                           coef    std err          z      P>|z|      [0.025      0.975]\n",
      "----------------------------------------------------------------------------------------\n",
      "inflate_Intercept        0.0219      2.001      0.011      0.991      -3.900       3.944\n",
      "inflate_Dia_Semana      -0.0401      0.141     -0.285      0.776      -0.316       0.236\n",
      "inflate_Temp1            0.3058      0.111      2.759      0.006       0.089       0.523\n",
      "inflate_Ti1             -1.7676      0.474     -3.727      0.000      -2.697      -0.838\n",
      "inflate_Temp3            0.6927      0.174      3.973      0.000       0.351       1.034\n",
      "inflate_CF               0.0080      0.082      0.097      0.922      -0.152       0.168\n",
      "inflate_Ti2              0.0350      0.015      2.369      0.018       0.006       0.064\n",
      "inflate_PPPCF           -0.1722      0.068     -2.548      0.011      -0.305      -0.040\n",
      "inflate_Indicador        0.0288      0.068      0.427      0.669      -0.104       0.161\n",
      "inflate_pH_Requisito    -0.3452      0.513     -0.673      0.501      -1.351       0.660\n",
      "Intercept                0.6844      0.403      1.696      0.090      -0.106       1.475\n",
      "Dia_Semana              -0.1287      0.030     -4.324      0.000      -0.187      -0.070\n",
      "Temp1                    0.0558      0.027      2.062      0.039       0.003       0.109\n",
      "Ti1                     -0.7659      0.082     -9.300      0.000      -0.927      -0.604\n",
      "Temp3                   -0.0116      0.026     -0.444      0.657      -0.063       0.040\n",
      "CF                       0.0089      0.015      0.583      0.560      -0.021       0.039\n",
      "Ti2                      0.0197      0.003      6.303      0.000       0.014       0.026\n",
      "PPPCF                   -0.0070      0.006     -1.191      0.234      -0.019       0.005\n",
      "Indicador                0.0248      0.017      1.431      0.153      -0.009       0.059\n",
      "pH_Requisito            -0.5285      0.120     -4.409      0.000      -0.763      -0.294\n",
      "========================================================================================\n"
     ]
    }
   ],
   "source": [
    "print(zip__results_F2.summary())"
   ]
  },
  {
   "cell_type": "code",
   "execution_count": 79,
   "metadata": {},
   "outputs": [],
   "source": [
    "zip_predictions_F2 = zip__results_F2.predict(X_test_F2,exog_infl=X_test_F2)"
   ]
  },
  {
   "cell_type": "code",
   "execution_count": 80,
   "metadata": {},
   "outputs": [
    {
     "name": "stdout",
     "output_type": "stream",
     "text": [
      "MSE 0.2603952016880389\n",
      "MAE 0.3838552382118695\n",
      "mean Poisson deviance: 0.7116482031654401\n"
     ]
    }
   ],
   "source": [
    "print(\"MSE\", mean_squared_error(y_test_F2,zip_predictions_F2))\n",
    "print(\"MAE\", mean_absolute_error(y_test_F2,zip_predictions_F2))\n",
    "print(\"mean Poisson deviance:\", mean_poisson_deviance(y_test_F2,zip_predictions_F2))"
   ]
  }
 ],
 "metadata": {
  "kernelspec": {
   "display_name": "Python 3 (ipykernel)",
   "language": "python",
   "name": "python3"
  },
  "language_info": {
   "codemirror_mode": {
    "name": "ipython",
    "version": 3
   },
   "file_extension": ".py",
   "mimetype": "text/x-python",
   "name": "python",
   "nbconvert_exporter": "python",
   "pygments_lexer": "ipython3",
   "version": "3.9.13"
  }
 },
 "nbformat": 4,
 "nbformat_minor": 2
}
