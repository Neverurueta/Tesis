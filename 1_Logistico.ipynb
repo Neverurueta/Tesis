{
 "cells": [
  {
   "cell_type": "code",
   "execution_count": 2,
   "metadata": {},
   "outputs": [],
   "source": [
    "#Tratamieto de datos\n",
    "import pandas as pd #\n",
    "import numpy as np  #\n",
    "# ==============================================================================================================================================================\n",
    "\n",
    "#   Gráficos \n",
    "import matplotlib.pyplot as plt\n",
    "from matplotlib import style\n",
    "import seaborn as sns\n",
    "# ==============================================================================================================================================================\n",
    "\n",
    "#Procesado y Modelado\n",
    "from sklearn.linear_model import LogisticRegression\n",
    "from sklearn.model_selection import train_test_split\n",
    "from sklearn.metrics import accuracy_score\n",
    "from sklearn import metrics\n",
    "from sklearn.metrics import (confusion_matrix, accuracy_score)\n",
    "from sklearn.preprocessing import binarize\n",
    "from sklearn.metrics import roc_curve\n",
    "\n",
    "import statsmodels.api as sm\n",
    "import statsmodels.formula.api as smf\n",
    "from statsmodels.stats.weightstats import ttest_ind\n",
    "from statsmodels.stats.outliers_influence import variance_inflation_factor\n",
    "# ==============================================================================================================================================================\n",
    "\n",
    "# Configuración matplotlib\n",
    "plt.rcParams['image.cmap'] = \"bwr\"\n",
    "#plt.rcParams['figure.dpi'] = \"100\"\n",
    "plt.rcParams['savefig.bbox'] = \"tight\"\n",
    "style.use('ggplot') or plt.style.use('ggplot')\n",
    "# Configuración warnings\n",
    "# ==============================================================================================================================================================\n",
    "\n",
    "#Configuración warnings\n",
    "import warnings\n",
    "warnings.filterwarnings('ignore')"
   ]
  },
  {
   "cell_type": "code",
   "execution_count": 3,
   "metadata": {},
   "outputs": [],
   "source": [
    "data=pd.read_excel(r\"D:\\Never Urueta\\2023\\Algoritmos Tesis\\Data.xlsx\") "
   ]
  },
  {
   "cell_type": "code",
   "execution_count": 4,
   "metadata": {},
   "outputs": [],
   "source": [
    "data1 = data.drop([\"PBA\", \"CF\", \"Indicador\", \"DESTINO\", \"CAPACIDAD DEL CUARTO FRIO  \"], axis=1)"
   ]
  },
  {
   "cell_type": "code",
   "execution_count": 5,
   "metadata": {},
   "outputs": [
    {
     "name": "stdout",
     "output_type": "stream",
     "text": [
      "0    1329\n",
      "1     585\n",
      "Name: Rechazados_Binario, dtype: int64\n"
     ]
    }
   ],
   "source": [
    "data1[\"Rechazados_Binario\"] = data1[\"Rechazados\"] \n",
    "data1.loc[data1[\"Rechazados_Binario\"] > 0, \"Rechazados_Binario\"] = 1\n",
    "print(data1.Rechazados_Binario.value_counts().sort_index())\n"
   ]
  },
  {
   "attachments": {},
   "cell_type": "markdown",
   "metadata": {},
   "source": [
    "# Umbral de Clasificación Esperado\n",
    "En el 69.4% de las maduraciones No se rechazan canales y en el 30.6% sí se rechazan. Un modelo de clasificación que sea útil debe de ser capaz de predecir correctamente un porcentaje de observaciones por encima del porcentaje de la clase mayoritaria. En este caso, el umbral de referencia que se tiene que superar es del 69.4%."
   ]
  },
  {
   "cell_type": "code",
   "execution_count": 6,
   "metadata": {},
   "outputs": [
    {
     "name": "stdout",
     "output_type": "stream",
     "text": [
      "Factores Categoricos: \n",
      " ['Refrigeracion', 'Franja2', 'Dia_Semana', 'TIPO_CAP_CF', 'pH_Requisito', 'Franja1']\n",
      "Factores Numéricos: \n",
      " ['Ti2', 'PPPCF', 'Ocupacion', 'VT1', 'Temp1', 'Tamin', 'Rechazados', 'Taamax', 'Temp3', 'Canales', 'Temp2', 'Ti1', 'VT2', 'Rechazados_Binario']\n"
     ]
    }
   ],
   "source": [
    "###VARIABLES CATEGORICAS Y NUMERICAS\n",
    "features = list(set(data1.columns.values) - set(['ID', 'TARGET']))\n",
    "cat_features = [feat for feat in features if data1[feat].dtype.name in ['category', 'object']]\n",
    "num_features = list(set(features) - set(cat_features))\n",
    "\n",
    "print(f\"Factores Categoricos: \\n {cat_features}\")\n",
    "print(f\"Factores Numéricos: \\n {num_features}\")"
   ]
  },
  {
   "cell_type": "code",
   "execution_count": 7,
   "metadata": {},
   "outputs": [
    {
     "data": {
      "text/plain": [
       "Dia_Semana             0\n",
       "Temp1                  0\n",
       "Franja1                0\n",
       "Temp2                  0\n",
       "Franja2                0\n",
       "VT1                    0\n",
       "Ti1                    0\n",
       "Temp3                  0\n",
       "Ti2                    0\n",
       "VT2                    0\n",
       "Refrigeracion          0\n",
       "Canales                0\n",
       "PPPCF                  0\n",
       "Ocupacion              0\n",
       "pH_Requisito           0\n",
       "Tamin                 29\n",
       "Taamax                29\n",
       "TIPO_CAP_CF            0\n",
       "Rechazados             0\n",
       "Rechazados_Binario     0\n",
       "dtype: int64"
      ]
     },
     "execution_count": 7,
     "metadata": {},
     "output_type": "execute_result"
    }
   ],
   "source": [
    "data1.isnull().sum() #Datos faltantes"
   ]
  },
  {
   "cell_type": "code",
   "execution_count": 8,
   "metadata": {},
   "outputs": [
    {
     "name": "stdout",
     "output_type": "stream",
     "text": [
      "valores perdidos en Tamin: 0\n",
      "valores perdidos en Taamax: 0\n"
     ]
    }
   ],
   "source": [
    "data1['Tamin'].fillna(data1['Tamin'].median(), inplace=True)\n",
    "print(\"valores perdidos en Tamin: \" + \n",
    "      str(data1['Tamin'].isnull().sum()))\n",
    "data1['Taamax'].fillna(data1['Taamax'].median(), inplace=True)\n",
    "print(\"valores perdidos en Taamax: \" + \n",
    "      str(data1['Taamax'].isnull().sum()))"
   ]
  },
  {
   "cell_type": "code",
   "execution_count": 9,
   "metadata": {},
   "outputs": [
    {
     "data": {
      "text/html": [
       "<div>\n",
       "<style scoped>\n",
       "    .dataframe tbody tr th:only-of-type {\n",
       "        vertical-align: middle;\n",
       "    }\n",
       "\n",
       "    .dataframe tbody tr th {\n",
       "        vertical-align: top;\n",
       "    }\n",
       "\n",
       "    .dataframe thead th {\n",
       "        text-align: right;\n",
       "    }\n",
       "</style>\n",
       "<table border=\"1\" class=\"dataframe\">\n",
       "  <thead>\n",
       "    <tr style=\"text-align: right;\">\n",
       "      <th></th>\n",
       "      <th>Temp1</th>\n",
       "      <th>Temp2</th>\n",
       "      <th>VT1</th>\n",
       "      <th>Ti1</th>\n",
       "      <th>Temp3</th>\n",
       "      <th>Ti2</th>\n",
       "      <th>VT2</th>\n",
       "      <th>Canales</th>\n",
       "      <th>PPPCF</th>\n",
       "      <th>Ocupacion</th>\n",
       "      <th>Tamin</th>\n",
       "      <th>Taamax</th>\n",
       "      <th>Rechazados</th>\n",
       "      <th>Rechazados_Binario</th>\n",
       "    </tr>\n",
       "  </thead>\n",
       "  <tbody>\n",
       "    <tr>\n",
       "      <th>count</th>\n",
       "      <td>1914.000000</td>\n",
       "      <td>1914.000000</td>\n",
       "      <td>1914.000000</td>\n",
       "      <td>1914.000000</td>\n",
       "      <td>1914.000000</td>\n",
       "      <td>1914.000000</td>\n",
       "      <td>1914.000000</td>\n",
       "      <td>1914.000000</td>\n",
       "      <td>1914.000000</td>\n",
       "      <td>1914.000000</td>\n",
       "      <td>1914.000000</td>\n",
       "      <td>1914.000000</td>\n",
       "      <td>1914.000000</td>\n",
       "      <td>1914.000000</td>\n",
       "    </tr>\n",
       "    <tr>\n",
       "      <th>mean</th>\n",
       "      <td>3.080371</td>\n",
       "      <td>11.733454</td>\n",
       "      <td>8.653083</td>\n",
       "      <td>2.129855</td>\n",
       "      <td>2.766437</td>\n",
       "      <td>33.368273</td>\n",
       "      <td>-8.955836</td>\n",
       "      <td>136.827586</td>\n",
       "      <td>22.518286</td>\n",
       "      <td>93.083697</td>\n",
       "      <td>23.857913</td>\n",
       "      <td>32.530543</td>\n",
       "      <td>0.552247</td>\n",
       "      <td>0.305643</td>\n",
       "    </tr>\n",
       "    <tr>\n",
       "      <th>std</th>\n",
       "      <td>1.614204</td>\n",
       "      <td>3.365969</td>\n",
       "      <td>3.251896</td>\n",
       "      <td>1.135182</td>\n",
       "      <td>1.774718</td>\n",
       "      <td>14.483894</td>\n",
       "      <td>3.597810</td>\n",
       "      <td>30.208935</td>\n",
       "      <td>15.420267</td>\n",
       "      <td>11.038884</td>\n",
       "      <td>0.960839</td>\n",
       "      <td>1.664524</td>\n",
       "      <td>0.930765</td>\n",
       "      <td>0.460799</td>\n",
       "    </tr>\n",
       "    <tr>\n",
       "      <th>min</th>\n",
       "      <td>-4.700000</td>\n",
       "      <td>1.400000</td>\n",
       "      <td>-3.200000</td>\n",
       "      <td>0.166667</td>\n",
       "      <td>-5.600000</td>\n",
       "      <td>24.000000</td>\n",
       "      <td>-35.200000</td>\n",
       "      <td>27.000000</td>\n",
       "      <td>3.991370</td>\n",
       "      <td>19.354839</td>\n",
       "      <td>20.400000</td>\n",
       "      <td>27.200000</td>\n",
       "      <td>0.000000</td>\n",
       "      <td>0.000000</td>\n",
       "    </tr>\n",
       "    <tr>\n",
       "      <th>25%</th>\n",
       "      <td>2.100000</td>\n",
       "      <td>10.000000</td>\n",
       "      <td>6.800000</td>\n",
       "      <td>1.583333</td>\n",
       "      <td>2.000000</td>\n",
       "      <td>24.250000</td>\n",
       "      <td>-10.900000</td>\n",
       "      <td>140.000000</td>\n",
       "      <td>17.022934</td>\n",
       "      <td>91.888046</td>\n",
       "      <td>23.300000</td>\n",
       "      <td>31.600000</td>\n",
       "      <td>0.000000</td>\n",
       "      <td>0.000000</td>\n",
       "    </tr>\n",
       "    <tr>\n",
       "      <th>50%</th>\n",
       "      <td>2.900000</td>\n",
       "      <td>11.500000</td>\n",
       "      <td>8.500000</td>\n",
       "      <td>1.883333</td>\n",
       "      <td>3.000000</td>\n",
       "      <td>25.250000</td>\n",
       "      <td>-9.000000</td>\n",
       "      <td>150.000000</td>\n",
       "      <td>19.326683</td>\n",
       "      <td>96.774194</td>\n",
       "      <td>24.000000</td>\n",
       "      <td>32.600000</td>\n",
       "      <td>0.000000</td>\n",
       "      <td>0.000000</td>\n",
       "    </tr>\n",
       "    <tr>\n",
       "      <th>75%</th>\n",
       "      <td>3.900000</td>\n",
       "      <td>13.800000</td>\n",
       "      <td>10.500000</td>\n",
       "      <td>2.483333</td>\n",
       "      <td>3.800000</td>\n",
       "      <td>37.757500</td>\n",
       "      <td>-7.000000</td>\n",
       "      <td>155.000000</td>\n",
       "      <td>23.219814</td>\n",
       "      <td>100.000000</td>\n",
       "      <td>24.500000</td>\n",
       "      <td>33.600000</td>\n",
       "      <td>1.000000</td>\n",
       "      <td>1.000000</td>\n",
       "    </tr>\n",
       "    <tr>\n",
       "      <th>max</th>\n",
       "      <td>18.200000</td>\n",
       "      <td>39.400000</td>\n",
       "      <td>36.800000</td>\n",
       "      <td>16.183333</td>\n",
       "      <td>7.300000</td>\n",
       "      <td>110.200000</td>\n",
       "      <td>4.200000</td>\n",
       "      <td>239.000000</td>\n",
       "      <td>100.000000</td>\n",
       "      <td>104.761905</td>\n",
       "      <td>26.000000</td>\n",
       "      <td>36.300000</td>\n",
       "      <td>5.000000</td>\n",
       "      <td>1.000000</td>\n",
       "    </tr>\n",
       "  </tbody>\n",
       "</table>\n",
       "</div>"
      ],
      "text/plain": [
       "             Temp1        Temp2          VT1          Ti1        Temp3  \\\n",
       "count  1914.000000  1914.000000  1914.000000  1914.000000  1914.000000   \n",
       "mean      3.080371    11.733454     8.653083     2.129855     2.766437   \n",
       "std       1.614204     3.365969     3.251896     1.135182     1.774718   \n",
       "min      -4.700000     1.400000    -3.200000     0.166667    -5.600000   \n",
       "25%       2.100000    10.000000     6.800000     1.583333     2.000000   \n",
       "50%       2.900000    11.500000     8.500000     1.883333     3.000000   \n",
       "75%       3.900000    13.800000    10.500000     2.483333     3.800000   \n",
       "max      18.200000    39.400000    36.800000    16.183333     7.300000   \n",
       "\n",
       "               Ti2          VT2      Canales        PPPCF    Ocupacion  \\\n",
       "count  1914.000000  1914.000000  1914.000000  1914.000000  1914.000000   \n",
       "mean     33.368273    -8.955836   136.827586    22.518286    93.083697   \n",
       "std      14.483894     3.597810    30.208935    15.420267    11.038884   \n",
       "min      24.000000   -35.200000    27.000000     3.991370    19.354839   \n",
       "25%      24.250000   -10.900000   140.000000    17.022934    91.888046   \n",
       "50%      25.250000    -9.000000   150.000000    19.326683    96.774194   \n",
       "75%      37.757500    -7.000000   155.000000    23.219814   100.000000   \n",
       "max     110.200000     4.200000   239.000000   100.000000   104.761905   \n",
       "\n",
       "             Tamin       Taamax   Rechazados  Rechazados_Binario  \n",
       "count  1914.000000  1914.000000  1914.000000         1914.000000  \n",
       "mean     23.857913    32.530543     0.552247            0.305643  \n",
       "std       0.960839     1.664524     0.930765            0.460799  \n",
       "min      20.400000    27.200000     0.000000            0.000000  \n",
       "25%      23.300000    31.600000     0.000000            0.000000  \n",
       "50%      24.000000    32.600000     0.000000            0.000000  \n",
       "75%      24.500000    33.600000     1.000000            1.000000  \n",
       "max      26.000000    36.300000     5.000000            1.000000  "
      ]
     },
     "execution_count": 9,
     "metadata": {},
     "output_type": "execute_result"
    }
   ],
   "source": [
    "data1.describe()"
   ]
  },
  {
   "cell_type": "code",
   "execution_count": 10,
   "metadata": {},
   "outputs": [
    {
     "data": {
      "text/plain": [
       "<bound method Series.unique of 0       4.0\n",
       "1       4.0\n",
       "2       4.4\n",
       "3       4.3\n",
       "4       5.4\n",
       "       ... \n",
       "1909    3.0\n",
       "1910    1.3\n",
       "1911    1.8\n",
       "1912    0.9\n",
       "1913   -1.4\n",
       "Name: Temp3, Length: 1914, dtype: float64>"
      ]
     },
     "execution_count": 10,
     "metadata": {},
     "output_type": "execute_result"
    }
   ],
   "source": [
    "data1.Temp3.unique"
   ]
  },
  {
   "cell_type": "code",
   "execution_count": 11,
   "metadata": {},
   "outputs": [
    {
     "data": {
      "image/png": "[encoded data removed]",
      "text/plain": [
       "<Figure size 2000x1000 with 2 Axes>"
      ]
     },
     "metadata": {},
     "output_type": "display_data"
    }
   ],
   "source": [
    "plt.figure(figsize=(20,10))\n",
    "mask = np.triu(np.ones_like(data1.corr(), dtype=np.bool))\n",
    "heatmap = sns.heatmap(data1.corr(), mask=mask, vmin=-1, vmax=1, annot=True, cmap='BrBG')\n",
    "heatmap.set_title('Triangle Correlation Heatmap', fontdict={'fontsize':18}, pad=16);\n",
    "plt.show()"
   ]
  },
  {
   "cell_type": "code",
   "execution_count": 12,
   "metadata": {},
   "outputs": [],
   "source": [
    "data1 = data1.drop([\"VT1\", \"VT2\", \"Rechazados\", \"Canales\"], axis=1)"
   ]
  },
  {
   "cell_type": "code",
   "execution_count": 13,
   "metadata": {},
   "outputs": [],
   "source": [
    "data1 = pd.get_dummies(data1, drop_first = True, columns = [\"Franja1\", \"Franja2\", \"Dia_Semana\"]) # el parámetro drop first la primera categoría, para evitar problemas de multicolinealidad\n",
    "data1 = pd.get_dummies(data1, columns = [\"Refrigeracion\", \"pH_Requisito\", \"TIPO_CAP_CF\"]) "
   ]
  },
  {
   "cell_type": "code",
   "execution_count": 14,
   "metadata": {},
   "outputs": [
    {
     "data": {
      "text/plain": [
       "Index(['Temp1', 'Temp2', 'Ti1', 'Temp3', 'Ti2', 'PPPCF', 'Ocupacion', 'Tamin',\n",
       "       'Taamax', 'Rechazados_Binario', 'Franja1_MAÑANA', 'Franja1_MEDIO_DIA',\n",
       "       'Franja1_NOCHE', 'Franja1_TARDE', 'Franja2_MAÑANA', 'Franja2_MEDIO_DIA',\n",
       "       'Franja2_NOCHE', 'Franja2_TARDE', 'Dia_Semana_lunes',\n",
       "       'Dia_Semana_martes', 'Dia_Semana_miércoles', 'Dia_Semana_sábado',\n",
       "       'Dia_Semana_viernes', 'Refrigeracion_AMONIACO', 'Refrigeracion_GLICOL',\n",
       "       'pH_Requisito_Mi_5.8', 'pH_Requisito_Mi_6', 'TIPO_CAP_CF_C1',\n",
       "       'TIPO_CAP_CF_C2', 'TIPO_CAP_CF_C3', 'TIPO_CAP_CF_PBA2'],\n",
       "      dtype='object')"
      ]
     },
     "execution_count": 14,
     "metadata": {},
     "output_type": "execute_result"
    }
   ],
   "source": [
    "data1.columns"
   ]
  },
  {
   "cell_type": "code",
   "execution_count": 15,
   "metadata": {},
   "outputs": [
    {
     "name": "stdout",
     "output_type": "stream",
     "text": [
      "Capacidad Tipo 1: 187 \n",
      " Capacidad Tipo 2: 124 \n",
      " Capacidad Tipo 3: 1531 \n",
      " Capacidad Frigosinú: 72\n"
     ]
    }
   ],
   "source": [
    "print(\"Capacidad Tipo 1:\", data1.TIPO_CAP_CF_C1.sum(),'\\n',\n",
    "      \"Capacidad Tipo 2:\", data1.TIPO_CAP_CF_C2.sum(),'\\n',\n",
    "      \"Capacidad Tipo 3:\", data1.TIPO_CAP_CF_C3.sum(),'\\n',\n",
    "      \"Capacidad Frigosinú:\", data1.TIPO_CAP_CF_PBA2.sum())"
   ]
  },
  {
   "cell_type": "code",
   "execution_count": 16,
   "metadata": {},
   "outputs": [],
   "source": [
    "data1 = data1.drop([\"Refrigeracion_GLICOL\", \"pH_Requisito_Mi_6\", \"TIPO_CAP_CF_PBA2\"], axis=1)"
   ]
  },
  {
   "cell_type": "code",
   "execution_count": 17,
   "metadata": {},
   "outputs": [
    {
     "name": "stdout",
     "output_type": "stream",
     "text": [
      "Optimization terminated successfully.\n",
      "         Current function value: 0.562399\n",
      "         Iterations 8\n"
     ]
    },
    {
     "data": {
      "text/html": [
       "<table class=\"simpletable\">\n",
       "<caption>Logit Regression Results</caption>\n",
       "<tr>\n",
       "  <th>Dep. Variable:</th>   <td>Rechazados_Binario</td> <th>  No. Observations:  </th>  <td>  1914</td>  \n",
       "</tr>\n",
       "<tr>\n",
       "  <th>Model:</th>                  <td>Logit</td>       <th>  Df Residuals:      </th>  <td>  1886</td>  \n",
       "</tr>\n",
       "<tr>\n",
       "  <th>Method:</th>                  <td>MLE</td>        <th>  Df Model:          </th>  <td>    27</td>  \n",
       "</tr>\n",
       "<tr>\n",
       "  <th>Date:</th>             <td>Tue, 13 Jun 2023</td>  <th>  Pseudo R-squ.:     </th>  <td>0.08638</td> \n",
       "</tr>\n",
       "<tr>\n",
       "  <th>Time:</th>                 <td>20:59:27</td>      <th>  Log-Likelihood:    </th> <td> -1076.4</td> \n",
       "</tr>\n",
       "<tr>\n",
       "  <th>converged:</th>              <td>True</td>        <th>  LL-Null:           </th> <td> -1178.2</td> \n",
       "</tr>\n",
       "<tr>\n",
       "  <th>Covariance Type:</th>      <td>nonrobust</td>     <th>  LLR p-value:       </th> <td>5.260e-29</td>\n",
       "</tr>\n",
       "</table>\n",
       "<table class=\"simpletable\">\n",
       "<tr>\n",
       "             <td></td>               <th>coef</th>     <th>std err</th>      <th>z</th>      <th>P>|z|</th>  <th>[0.025</th>    <th>0.975]</th>  \n",
       "</tr>\n",
       "<tr>\n",
       "  <th>const</th>                  <td>   -0.0517</td> <td>    2.175</td> <td>   -0.024</td> <td> 0.981</td> <td>   -4.315</td> <td>    4.212</td>\n",
       "</tr>\n",
       "<tr>\n",
       "  <th>Temp1</th>                  <td>   -0.0371</td> <td>    0.039</td> <td>   -0.956</td> <td> 0.339</td> <td>   -0.113</td> <td>    0.039</td>\n",
       "</tr>\n",
       "<tr>\n",
       "  <th>Temp2</th>                  <td>   -0.0034</td> <td>    0.018</td> <td>   -0.192</td> <td> 0.847</td> <td>   -0.039</td> <td>    0.032</td>\n",
       "</tr>\n",
       "<tr>\n",
       "  <th>Ti1</th>                    <td>   -0.0290</td> <td>    0.060</td> <td>   -0.485</td> <td> 0.628</td> <td>   -0.146</td> <td>    0.088</td>\n",
       "</tr>\n",
       "<tr>\n",
       "  <th>Temp3</th>                  <td>   -0.1462</td> <td>    0.033</td> <td>   -4.433</td> <td> 0.000</td> <td>   -0.211</td> <td>   -0.082</td>\n",
       "</tr>\n",
       "<tr>\n",
       "  <th>Ti2</th>                    <td>    0.0240</td> <td>    0.004</td> <td>    5.854</td> <td> 0.000</td> <td>    0.016</td> <td>    0.032</td>\n",
       "</tr>\n",
       "<tr>\n",
       "  <th>PPPCF</th>                  <td>    0.0143</td> <td>    0.009</td> <td>    1.618</td> <td> 0.106</td> <td>   -0.003</td> <td>    0.032</td>\n",
       "</tr>\n",
       "<tr>\n",
       "  <th>Ocupacion</th>              <td>    0.0074</td> <td>    0.007</td> <td>    1.041</td> <td> 0.298</td> <td>   -0.007</td> <td>    0.021</td>\n",
       "</tr>\n",
       "<tr>\n",
       "  <th>Tamin</th>                  <td>   -0.3094</td> <td>    0.056</td> <td>   -5.539</td> <td> 0.000</td> <td>   -0.419</td> <td>   -0.200</td>\n",
       "</tr>\n",
       "<tr>\n",
       "  <th>Taamax</th>                 <td>    0.0663</td> <td>    0.033</td> <td>    2.010</td> <td> 0.044</td> <td>    0.002</td> <td>    0.131</td>\n",
       "</tr>\n",
       "<tr>\n",
       "  <th>Franja1_MAÑANA</th>         <td>   -0.6371</td> <td>    0.906</td> <td>   -0.703</td> <td> 0.482</td> <td>   -2.414</td> <td>    1.140</td>\n",
       "</tr>\n",
       "<tr>\n",
       "  <th>Franja1_MEDIO_DIA</th>      <td>   -0.4849</td> <td>    0.888</td> <td>   -0.546</td> <td> 0.585</td> <td>   -2.225</td> <td>    1.256</td>\n",
       "</tr>\n",
       "<tr>\n",
       "  <th>Franja1_NOCHE</th>          <td>   -0.6869</td> <td>    0.865</td> <td>   -0.794</td> <td> 0.427</td> <td>   -2.383</td> <td>    1.009</td>\n",
       "</tr>\n",
       "<tr>\n",
       "  <th>Franja1_TARDE</th>          <td>   -0.6660</td> <td>    0.878</td> <td>   -0.759</td> <td> 0.448</td> <td>   -2.386</td> <td>    1.054</td>\n",
       "</tr>\n",
       "<tr>\n",
       "  <th>Franja2_MAÑANA</th>         <td>   -0.8757</td> <td>    0.589</td> <td>   -1.486</td> <td> 0.137</td> <td>   -2.031</td> <td>    0.279</td>\n",
       "</tr>\n",
       "<tr>\n",
       "  <th>Franja2_MEDIO_DIA</th>      <td>   -0.7412</td> <td>    0.563</td> <td>   -1.316</td> <td> 0.188</td> <td>   -1.845</td> <td>    0.363</td>\n",
       "</tr>\n",
       "<tr>\n",
       "  <th>Franja2_NOCHE</th>          <td>   -0.6829</td> <td>    0.462</td> <td>   -1.478</td> <td> 0.139</td> <td>   -1.588</td> <td>    0.223</td>\n",
       "</tr>\n",
       "<tr>\n",
       "  <th>Franja2_TARDE</th>          <td>   -0.4796</td> <td>    0.486</td> <td>   -0.986</td> <td> 0.324</td> <td>   -1.433</td> <td>    0.474</td>\n",
       "</tr>\n",
       "<tr>\n",
       "  <th>Dia_Semana_lunes</th>       <td>    0.2873</td> <td>    0.186</td> <td>    1.547</td> <td> 0.122</td> <td>   -0.077</td> <td>    0.651</td>\n",
       "</tr>\n",
       "<tr>\n",
       "  <th>Dia_Semana_martes</th>      <td>    0.2574</td> <td>    0.178</td> <td>    1.447</td> <td> 0.148</td> <td>   -0.091</td> <td>    0.606</td>\n",
       "</tr>\n",
       "<tr>\n",
       "  <th>Dia_Semana_miércoles</th>   <td>    0.2270</td> <td>    0.178</td> <td>    1.275</td> <td> 0.202</td> <td>   -0.122</td> <td>    0.576</td>\n",
       "</tr>\n",
       "<tr>\n",
       "  <th>Dia_Semana_sábado</th>      <td>   -0.2258</td> <td>    0.189</td> <td>   -1.198</td> <td> 0.231</td> <td>   -0.595</td> <td>    0.144</td>\n",
       "</tr>\n",
       "<tr>\n",
       "  <th>Dia_Semana_viernes</th>     <td>   -0.4310</td> <td>    0.196</td> <td>   -2.201</td> <td> 0.028</td> <td>   -0.815</td> <td>   -0.047</td>\n",
       "</tr>\n",
       "<tr>\n",
       "  <th>Refrigeracion_AMONIACO</th> <td>    0.1251</td> <td>    0.128</td> <td>    0.978</td> <td> 0.328</td> <td>   -0.126</td> <td>    0.376</td>\n",
       "</tr>\n",
       "<tr>\n",
       "  <th>pH_Requisito_Mi_5.8</th>    <td>    0.4420</td> <td>    0.130</td> <td>    3.400</td> <td> 0.001</td> <td>    0.187</td> <td>    0.697</td>\n",
       "</tr>\n",
       "<tr>\n",
       "  <th>TIPO_CAP_CF_C1</th>         <td>    3.8949</td> <td>    1.071</td> <td>    3.635</td> <td> 0.000</td> <td>    1.795</td> <td>    5.995</td>\n",
       "</tr>\n",
       "<tr>\n",
       "  <th>TIPO_CAP_CF_C2</th>         <td>    4.0832</td> <td>    1.049</td> <td>    3.894</td> <td> 0.000</td> <td>    2.028</td> <td>    6.138</td>\n",
       "</tr>\n",
       "<tr>\n",
       "  <th>TIPO_CAP_CF_C3</th>         <td>    4.1397</td> <td>    0.978</td> <td>    4.233</td> <td> 0.000</td> <td>    2.223</td> <td>    6.057</td>\n",
       "</tr>\n",
       "</table>"
      ],
      "text/plain": [
       "<class 'statsmodels.iolib.summary.Summary'>\n",
       "\"\"\"\n",
       "                           Logit Regression Results                           \n",
       "==============================================================================\n",
       "Dep. Variable:     Rechazados_Binario   No. Observations:                 1914\n",
       "Model:                          Logit   Df Residuals:                     1886\n",
       "Method:                           MLE   Df Model:                           27\n",
       "Date:                Tue, 13 Jun 2023   Pseudo R-squ.:                 0.08638\n",
       "Time:                        20:59:27   Log-Likelihood:                -1076.4\n",
       "converged:                       True   LL-Null:                       -1178.2\n",
       "Covariance Type:            nonrobust   LLR p-value:                 5.260e-29\n",
       "==========================================================================================\n",
       "                             coef    std err          z      P>|z|      [0.025      0.975]\n",
       "------------------------------------------------------------------------------------------\n",
       "const                     -0.0517      2.175     -0.024      0.981      -4.315       4.212\n",
       "Temp1                     -0.0371      0.039     -0.956      0.339      -0.113       0.039\n",
       "Temp2                     -0.0034      0.018     -0.192      0.847      -0.039       0.032\n",
       "Ti1                       -0.0290      0.060     -0.485      0.628      -0.146       0.088\n",
       "Temp3                     -0.1462      0.033     -4.433      0.000      -0.211      -0.082\n",
       "Ti2                        0.0240      0.004      5.854      0.000       0.016       0.032\n",
       "PPPCF                      0.0143      0.009      1.618      0.106      -0.003       0.032\n",
       "Ocupacion                  0.0074      0.007      1.041      0.298      -0.007       0.021\n",
       "Tamin                     -0.3094      0.056     -5.539      0.000      -0.419      -0.200\n",
       "Taamax                     0.0663      0.033      2.010      0.044       0.002       0.131\n",
       "Franja1_MAÑANA            -0.6371      0.906     -0.703      0.482      -2.414       1.140\n",
       "Franja1_MEDIO_DIA         -0.4849      0.888     -0.546      0.585      -2.225       1.256\n",
       "Franja1_NOCHE             -0.6869      0.865     -0.794      0.427      -2.383       1.009\n",
       "Franja1_TARDE             -0.6660      0.878     -0.759      0.448      -2.386       1.054\n",
       "Franja2_MAÑANA            -0.8757      0.589     -1.486      0.137      -2.031       0.279\n",
       "Franja2_MEDIO_DIA         -0.7412      0.563     -1.316      0.188      -1.845       0.363\n",
       "Franja2_NOCHE             -0.6829      0.462     -1.478      0.139      -1.588       0.223\n",
       "Franja2_TARDE             -0.4796      0.486     -0.986      0.324      -1.433       0.474\n",
       "Dia_Semana_lunes           0.2873      0.186      1.547      0.122      -0.077       0.651\n",
       "Dia_Semana_martes          0.2574      0.178      1.447      0.148      -0.091       0.606\n",
       "Dia_Semana_miércoles       0.2270      0.178      1.275      0.202      -0.122       0.576\n",
       "Dia_Semana_sábado         -0.2258      0.189     -1.198      0.231      -0.595       0.144\n",
       "Dia_Semana_viernes        -0.4310      0.196     -2.201      0.028      -0.815      -0.047\n",
       "Refrigeracion_AMONIACO     0.1251      0.128      0.978      0.328      -0.126       0.376\n",
       "pH_Requisito_Mi_5.8        0.4420      0.130      3.400      0.001       0.187       0.697\n",
       "TIPO_CAP_CF_C1             3.8949      1.071      3.635      0.000       1.795       5.995\n",
       "TIPO_CAP_CF_C2             4.0832      1.049      3.894      0.000       2.028       6.138\n",
       "TIPO_CAP_CF_C3             4.1397      0.978      4.233      0.000       2.223       6.057\n",
       "==========================================================================================\n",
       "\"\"\""
      ]
     },
     "execution_count": 17,
     "metadata": {},
     "output_type": "execute_result"
    }
   ],
   "source": [
    "data1 = sm.add_constant(data1)\n",
    "modelo=sm.Logit(data1[\"Rechazados_Binario\"],data1.drop([\"Rechazados_Binario\"], axis=1))\n",
    "modelo=modelo.fit()\n",
    "modelo.summary()"
   ]
  },
  {
   "cell_type": "code",
   "execution_count": 18,
   "metadata": {},
   "outputs": [
    {
     "data": {
      "text/plain": [
       "const                     1514.556230\n",
       "Temp1                        1.259138\n",
       "Temp2                        1.285794\n",
       "Ti1                          1.505831\n",
       "Temp3                        1.286710\n",
       "Ti2                          1.310146\n",
       "PPPCF                        4.670672\n",
       "Ocupacion                    1.843314\n",
       "Tamin                        1.069315\n",
       "Taamax                       1.090818\n",
       "Franja1_MAÑANA              61.402552\n",
       "Franja1_MEDIO_DIA           43.562592\n",
       "Franja1_NOCHE               31.775524\n",
       "Franja1_TARDE               69.290192\n",
       "Franja2_MAÑANA               9.951593\n",
       "Franja2_MEDIO_DIA           16.074786\n",
       "Franja2_NOCHE               14.950315\n",
       "Franja2_TARDE               20.890377\n",
       "Dia_Semana_lunes             1.698144\n",
       "Dia_Semana_martes            1.711234\n",
       "Dia_Semana_miércoles         1.716613\n",
       "Dia_Semana_sábado            1.794395\n",
       "Dia_Semana_viernes           1.754715\n",
       "Refrigeracion_AMONIACO       1.535153\n",
       "pH_Requisito_Mi_5.8          1.167913\n",
       "TIPO_CAP_CF_C1              15.188822\n",
       "TIPO_CAP_CF_C2              10.014788\n",
       "TIPO_CAP_CF_C3              19.871820\n",
       "dtype: float64"
      ]
     },
     "execution_count": 18,
     "metadata": {},
     "output_type": "execute_result"
    }
   ],
   "source": [
    "#Multicolinealidad - VIFs\n",
    "pd.Series([variance_inflation_factor(data1.drop([\"Rechazados_Binario\"], axis=1), i) \n",
    "               for i in range(data1.drop([\"Rechazados_Binario\"], axis=1).shape[1])], \n",
    "              index=data1.drop([\"Rechazados_Binario\"], axis=1).columns)              "
   ]
  },
  {
   "cell_type": "code",
   "execution_count": 19,
   "metadata": {},
   "outputs": [],
   "source": [
    "#Eliminando la Multicolinealidad\n",
    "data1 = data1.drop([ \"Franja1_MAÑANA\", \"Franja1_MEDIO_DIA\",\"Franja1_NOCHE\", \"Franja1_TARDE\", \"Franja2_TARDE\", \"TIPO_CAP_CF_C3\"], axis=1)"
   ]
  },
  {
   "cell_type": "code",
   "execution_count": 20,
   "metadata": {},
   "outputs": [
    {
     "data": {
      "text/plain": [
       "const                     1148.411297\n",
       "Temp1                        1.215052\n",
       "Temp2                        1.240060\n",
       "Ti1                          1.227530\n",
       "Temp3                        1.249140\n",
       "Ti2                          1.243720\n",
       "PPPCF                        1.502551\n",
       "Ocupacion                    1.777782\n",
       "Tamin                        1.062404\n",
       "Taamax                       1.077592\n",
       "Franja2_MAÑANA               1.167011\n",
       "Franja2_MEDIO_DIA            1.217225\n",
       "Franja2_NOCHE                1.221952\n",
       "Dia_Semana_lunes             1.692941\n",
       "Dia_Semana_martes            1.702729\n",
       "Dia_Semana_miércoles         1.711361\n",
       "Dia_Semana_sábado            1.759828\n",
       "Dia_Semana_viernes           1.745446\n",
       "Refrigeracion_AMONIACO       1.525699\n",
       "pH_Requisito_Mi_5.8          1.136335\n",
       "TIPO_CAP_CF_C1               2.063130\n",
       "TIPO_CAP_CF_C2               1.242790\n",
       "dtype: float64"
      ]
     },
     "execution_count": 20,
     "metadata": {},
     "output_type": "execute_result"
    }
   ],
   "source": [
    "pd.Series([variance_inflation_factor(data1.drop([\"Rechazados_Binario\"], axis=1), i) \n",
    "               for i in range(data1.drop([\"Rechazados_Binario\"], axis=1).shape[1])], \n",
    "              index=data1.drop([\"Rechazados_Binario\"], axis=1).columns)        "
   ]
  },
  {
   "cell_type": "code",
   "execution_count": 21,
   "metadata": {},
   "outputs": [
    {
     "name": "stdout",
     "output_type": "stream",
     "text": [
      "Optimization terminated successfully.\n",
      "         Current function value: 0.570467\n",
      "         Iterations 6\n"
     ]
    },
    {
     "data": {
      "text/html": [
       "<table class=\"simpletable\">\n",
       "<caption>Logit Regression Results</caption>\n",
       "<tr>\n",
       "  <th>Dep. Variable:</th>   <td>Rechazados_Binario</td> <th>  No. Observations:  </th>  <td>  1914</td>  \n",
       "</tr>\n",
       "<tr>\n",
       "  <th>Model:</th>                  <td>Logit</td>       <th>  Df Residuals:      </th>  <td>  1892</td>  \n",
       "</tr>\n",
       "<tr>\n",
       "  <th>Method:</th>                  <td>MLE</td>        <th>  Df Model:          </th>  <td>    21</td>  \n",
       "</tr>\n",
       "<tr>\n",
       "  <th>Date:</th>             <td>Tue, 13 Jun 2023</td>  <th>  Pseudo R-squ.:     </th>  <td>0.07327</td> \n",
       "</tr>\n",
       "<tr>\n",
       "  <th>Time:</th>                 <td>20:59:27</td>      <th>  Log-Likelihood:    </th> <td> -1091.9</td> \n",
       "</tr>\n",
       "<tr>\n",
       "  <th>converged:</th>              <td>True</td>        <th>  LL-Null:           </th> <td> -1178.2</td> \n",
       "</tr>\n",
       "<tr>\n",
       "  <th>Covariance Type:</th>      <td>nonrobust</td>     <th>  LLR p-value:       </th> <td>7.904e-26</td>\n",
       "</tr>\n",
       "</table>\n",
       "<table class=\"simpletable\">\n",
       "<tr>\n",
       "             <td></td>               <th>coef</th>     <th>std err</th>      <th>z</th>      <th>P>|z|</th>  <th>[0.025</th>    <th>0.975]</th>  \n",
       "</tr>\n",
       "<tr>\n",
       "  <th>const</th>                  <td>    2.8311</td> <td>    1.781</td> <td>    1.590</td> <td> 0.112</td> <td>   -0.660</td> <td>    6.322</td>\n",
       "</tr>\n",
       "<tr>\n",
       "  <th>Temp1</th>                  <td>   -0.0029</td> <td>    0.036</td> <td>   -0.078</td> <td> 0.938</td> <td>   -0.074</td> <td>    0.069</td>\n",
       "</tr>\n",
       "<tr>\n",
       "  <th>Temp2</th>                  <td>   -0.0100</td> <td>    0.017</td> <td>   -0.577</td> <td> 0.564</td> <td>   -0.044</td> <td>    0.024</td>\n",
       "</tr>\n",
       "<tr>\n",
       "  <th>Ti1</th>                    <td>   -0.0330</td> <td>    0.053</td> <td>   -0.618</td> <td> 0.537</td> <td>   -0.138</td> <td>    0.072</td>\n",
       "</tr>\n",
       "<tr>\n",
       "  <th>Temp3</th>                  <td>   -0.1252</td> <td>    0.032</td> <td>   -3.898</td> <td> 0.000</td> <td>   -0.188</td> <td>   -0.062</td>\n",
       "</tr>\n",
       "<tr>\n",
       "  <th>Ti2</th>                    <td>    0.0284</td> <td>    0.004</td> <td>    7.091</td> <td> 0.000</td> <td>    0.021</td> <td>    0.036</td>\n",
       "</tr>\n",
       "<tr>\n",
       "  <th>PPPCF</th>                  <td>   -0.0187</td> <td>    0.005</td> <td>   -3.594</td> <td> 0.000</td> <td>   -0.029</td> <td>   -0.008</td>\n",
       "</tr>\n",
       "<tr>\n",
       "  <th>Ocupacion</th>              <td>    0.0113</td> <td>    0.007</td> <td>    1.650</td> <td> 0.099</td> <td>   -0.002</td> <td>    0.025</td>\n",
       "</tr>\n",
       "<tr>\n",
       "  <th>Tamin</th>                  <td>   -0.2885</td> <td>    0.055</td> <td>   -5.220</td> <td> 0.000</td> <td>   -0.397</td> <td>   -0.180</td>\n",
       "</tr>\n",
       "<tr>\n",
       "  <th>Taamax</th>                 <td>    0.0593</td> <td>    0.033</td> <td>    1.824</td> <td> 0.068</td> <td>   -0.004</td> <td>    0.123</td>\n",
       "</tr>\n",
       "<tr>\n",
       "  <th>Franja2_MAÑANA</th>         <td>   -0.4693</td> <td>    0.199</td> <td>   -2.359</td> <td> 0.018</td> <td>   -0.859</td> <td>   -0.079</td>\n",
       "</tr>\n",
       "<tr>\n",
       "  <th>Franja2_MEDIO_DIA</th>      <td>   -0.3295</td> <td>    0.151</td> <td>   -2.186</td> <td> 0.029</td> <td>   -0.625</td> <td>   -0.034</td>\n",
       "</tr>\n",
       "<tr>\n",
       "  <th>Franja2_NOCHE</th>          <td>   -0.3555</td> <td>    0.132</td> <td>   -2.687</td> <td> 0.007</td> <td>   -0.615</td> <td>   -0.096</td>\n",
       "</tr>\n",
       "<tr>\n",
       "  <th>Dia_Semana_lunes</th>       <td>    0.2684</td> <td>    0.184</td> <td>    1.457</td> <td> 0.145</td> <td>   -0.093</td> <td>    0.629</td>\n",
       "</tr>\n",
       "<tr>\n",
       "  <th>Dia_Semana_martes</th>      <td>    0.2591</td> <td>    0.177</td> <td>    1.467</td> <td> 0.142</td> <td>   -0.087</td> <td>    0.605</td>\n",
       "</tr>\n",
       "<tr>\n",
       "  <th>Dia_Semana_miércoles</th>   <td>    0.2076</td> <td>    0.177</td> <td>    1.175</td> <td> 0.240</td> <td>   -0.139</td> <td>    0.554</td>\n",
       "</tr>\n",
       "<tr>\n",
       "  <th>Dia_Semana_sábado</th>      <td>   -0.3258</td> <td>    0.187</td> <td>   -1.745</td> <td> 0.081</td> <td>   -0.692</td> <td>    0.040</td>\n",
       "</tr>\n",
       "<tr>\n",
       "  <th>Dia_Semana_viernes</th>     <td>   -0.4886</td> <td>    0.196</td> <td>   -2.498</td> <td> 0.012</td> <td>   -0.872</td> <td>   -0.105</td>\n",
       "</tr>\n",
       "<tr>\n",
       "  <th>Refrigeracion_AMONIACO</th> <td>    0.1198</td> <td>    0.127</td> <td>    0.941</td> <td> 0.347</td> <td>   -0.130</td> <td>    0.369</td>\n",
       "</tr>\n",
       "<tr>\n",
       "  <th>pH_Requisito_Mi_5.8</th>    <td>    0.5393</td> <td>    0.130</td> <td>    4.149</td> <td> 0.000</td> <td>    0.284</td> <td>    0.794</td>\n",
       "</tr>\n",
       "<tr>\n",
       "  <th>TIPO_CAP_CF_C1</th>         <td>   -0.5441</td> <td>    0.269</td> <td>   -2.022</td> <td> 0.043</td> <td>   -1.072</td> <td>   -0.017</td>\n",
       "</tr>\n",
       "<tr>\n",
       "  <th>TIPO_CAP_CF_C2</th>         <td>   -0.2950</td> <td>    0.242</td> <td>   -1.219</td> <td> 0.223</td> <td>   -0.769</td> <td>    0.179</td>\n",
       "</tr>\n",
       "</table>"
      ],
      "text/plain": [
       "<class 'statsmodels.iolib.summary.Summary'>\n",
       "\"\"\"\n",
       "                           Logit Regression Results                           \n",
       "==============================================================================\n",
       "Dep. Variable:     Rechazados_Binario   No. Observations:                 1914\n",
       "Model:                          Logit   Df Residuals:                     1892\n",
       "Method:                           MLE   Df Model:                           21\n",
       "Date:                Tue, 13 Jun 2023   Pseudo R-squ.:                 0.07327\n",
       "Time:                        20:59:27   Log-Likelihood:                -1091.9\n",
       "converged:                       True   LL-Null:                       -1178.2\n",
       "Covariance Type:            nonrobust   LLR p-value:                 7.904e-26\n",
       "==========================================================================================\n",
       "                             coef    std err          z      P>|z|      [0.025      0.975]\n",
       "------------------------------------------------------------------------------------------\n",
       "const                      2.8311      1.781      1.590      0.112      -0.660       6.322\n",
       "Temp1                     -0.0029      0.036     -0.078      0.938      -0.074       0.069\n",
       "Temp2                     -0.0100      0.017     -0.577      0.564      -0.044       0.024\n",
       "Ti1                       -0.0330      0.053     -0.618      0.537      -0.138       0.072\n",
       "Temp3                     -0.1252      0.032     -3.898      0.000      -0.188      -0.062\n",
       "Ti2                        0.0284      0.004      7.091      0.000       0.021       0.036\n",
       "PPPCF                     -0.0187      0.005     -3.594      0.000      -0.029      -0.008\n",
       "Ocupacion                  0.0113      0.007      1.650      0.099      -0.002       0.025\n",
       "Tamin                     -0.2885      0.055     -5.220      0.000      -0.397      -0.180\n",
       "Taamax                     0.0593      0.033      1.824      0.068      -0.004       0.123\n",
       "Franja2_MAÑANA            -0.4693      0.199     -2.359      0.018      -0.859      -0.079\n",
       "Franja2_MEDIO_DIA         -0.3295      0.151     -2.186      0.029      -0.625      -0.034\n",
       "Franja2_NOCHE             -0.3555      0.132     -2.687      0.007      -0.615      -0.096\n",
       "Dia_Semana_lunes           0.2684      0.184      1.457      0.145      -0.093       0.629\n",
       "Dia_Semana_martes          0.2591      0.177      1.467      0.142      -0.087       0.605\n",
       "Dia_Semana_miércoles       0.2076      0.177      1.175      0.240      -0.139       0.554\n",
       "Dia_Semana_sábado         -0.3258      0.187     -1.745      0.081      -0.692       0.040\n",
       "Dia_Semana_viernes        -0.4886      0.196     -2.498      0.012      -0.872      -0.105\n",
       "Refrigeracion_AMONIACO     0.1198      0.127      0.941      0.347      -0.130       0.369\n",
       "pH_Requisito_Mi_5.8        0.5393      0.130      4.149      0.000       0.284       0.794\n",
       "TIPO_CAP_CF_C1            -0.5441      0.269     -2.022      0.043      -1.072      -0.017\n",
       "TIPO_CAP_CF_C2            -0.2950      0.242     -1.219      0.223      -0.769       0.179\n",
       "==========================================================================================\n",
       "\"\"\""
      ]
     },
     "execution_count": 21,
     "metadata": {},
     "output_type": "execute_result"
    }
   ],
   "source": [
    "#Nuevo modelo\n",
    "model=sm.Logit(data1[\"Rechazados_Binario\"],data1.drop([\"Rechazados_Binario\"], axis=1))\n",
    "result=model.fit()\n",
    "result.summary()"
   ]
  },
  {
   "attachments": {},
   "cell_type": "markdown",
   "metadata": {},
   "source": [
    "## Solo Variables Significativas "
   ]
  },
  {
   "cell_type": "code",
   "execution_count": 22,
   "metadata": {},
   "outputs": [],
   "source": [
    "data2 = data1.drop([\"Temp1\", \"Temp2\", \"Ti1\", \"Ocupacion\", \"Taamax\",\"Dia_Semana_lunes\", \"Dia_Semana_martes\", \"Dia_Semana_miércoles\", \"Dia_Semana_sábado\", \"Refrigeracion_AMONIACO\",\"TIPO_CAP_CF_C2\"], axis=1)"
   ]
  },
  {
   "attachments": {},
   "cell_type": "markdown",
   "metadata": {},
   "source": [
    "### Donde: "
   ]
  },
  {
   "cell_type": "code",
   "execution_count": 23,
   "metadata": {},
   "outputs": [],
   "source": [
    "# Dividimos los conjuntos de prueba y entrenamiento\n",
    "X_train, X_test, y_train, y_test = train_test_split(data2.drop([\"Rechazados_Binario\"], axis=1), data2[\"Rechazados_Binario\"], train_size=0.65, random_state=1234)\n",
    "X_train = sm.add_constant(X_train)\n",
    "X_test = sm.add_constant(X_test)"
   ]
  },
  {
   "cell_type": "code",
   "execution_count": 24,
   "metadata": {},
   "outputs": [
    {
     "name": "stdout",
     "output_type": "stream",
     "text": [
      "Optimization terminated successfully.\n",
      "         Current function value: 0.578217\n",
      "         Iterations 6\n"
     ]
    },
    {
     "data": {
      "text/html": [
       "<table class=\"simpletable\">\n",
       "<caption>Logit Regression Results</caption>\n",
       "<tr>\n",
       "  <th>Dep. Variable:</th>   <td>Rechazados_Binario</td> <th>  No. Observations:  </th>  <td>  1244</td>  \n",
       "</tr>\n",
       "<tr>\n",
       "  <th>Model:</th>                  <td>Logit</td>       <th>  Df Residuals:      </th>  <td>  1233</td>  \n",
       "</tr>\n",
       "<tr>\n",
       "  <th>Method:</th>                  <td>MLE</td>        <th>  Df Model:          </th>  <td>    10</td>  \n",
       "</tr>\n",
       "<tr>\n",
       "  <th>Date:</th>             <td>Tue, 13 Jun 2023</td>  <th>  Pseudo R-squ.:     </th>  <td>0.06831</td> \n",
       "</tr>\n",
       "<tr>\n",
       "  <th>Time:</th>                 <td>20:59:28</td>      <th>  Log-Likelihood:    </th> <td> -719.30</td> \n",
       "</tr>\n",
       "<tr>\n",
       "  <th>converged:</th>              <td>True</td>        <th>  LL-Null:           </th> <td> -772.04</td> \n",
       "</tr>\n",
       "<tr>\n",
       "  <th>Covariance Type:</th>      <td>nonrobust</td>     <th>  LLR p-value:       </th> <td>4.350e-18</td>\n",
       "</tr>\n",
       "</table>\n",
       "<table class=\"simpletable\">\n",
       "<tr>\n",
       "           <td></td>              <th>coef</th>     <th>std err</th>      <th>z</th>      <th>P>|z|</th>  <th>[0.025</th>    <th>0.975]</th>  \n",
       "</tr>\n",
       "<tr>\n",
       "  <th>const</th>               <td>    6.1043</td> <td>    1.566</td> <td>    3.898</td> <td> 0.000</td> <td>    3.035</td> <td>    9.174</td>\n",
       "</tr>\n",
       "<tr>\n",
       "  <th>Temp3</th>               <td>   -0.1240</td> <td>    0.038</td> <td>   -3.241</td> <td> 0.001</td> <td>   -0.199</td> <td>   -0.049</td>\n",
       "</tr>\n",
       "<tr>\n",
       "  <th>Ti2</th>                 <td>    0.0252</td> <td>    0.005</td> <td>    5.536</td> <td> 0.000</td> <td>    0.016</td> <td>    0.034</td>\n",
       "</tr>\n",
       "<tr>\n",
       "  <th>PPPCF</th>               <td>   -0.0154</td> <td>    0.006</td> <td>   -2.583</td> <td> 0.010</td> <td>   -0.027</td> <td>   -0.004</td>\n",
       "</tr>\n",
       "<tr>\n",
       "  <th>Tamin</th>               <td>   -0.3021</td> <td>    0.066</td> <td>   -4.544</td> <td> 0.000</td> <td>   -0.432</td> <td>   -0.172</td>\n",
       "</tr>\n",
       "<tr>\n",
       "  <th>Franja2_MAÑANA</th>      <td>   -0.4694</td> <td>    0.241</td> <td>   -1.951</td> <td> 0.051</td> <td>   -0.941</td> <td>    0.002</td>\n",
       "</tr>\n",
       "<tr>\n",
       "  <th>Franja2_MEDIO_DIA</th>   <td>   -0.2007</td> <td>    0.182</td> <td>   -1.102</td> <td> 0.271</td> <td>   -0.558</td> <td>    0.156</td>\n",
       "</tr>\n",
       "<tr>\n",
       "  <th>Franja2_NOCHE</th>       <td>   -0.4599</td> <td>    0.161</td> <td>   -2.863</td> <td> 0.004</td> <td>   -0.775</td> <td>   -0.145</td>\n",
       "</tr>\n",
       "<tr>\n",
       "  <th>Dia_Semana_viernes</th>  <td>   -0.6096</td> <td>    0.199</td> <td>   -3.067</td> <td> 0.002</td> <td>   -0.999</td> <td>   -0.220</td>\n",
       "</tr>\n",
       "<tr>\n",
       "  <th>pH_Requisito_Mi_5.8</th> <td>    0.5876</td> <td>    0.160</td> <td>    3.680</td> <td> 0.000</td> <td>    0.275</td> <td>    0.900</td>\n",
       "</tr>\n",
       "<tr>\n",
       "  <th>TIPO_CAP_CF_C1</th>      <td>   -0.6166</td> <td>    0.245</td> <td>   -2.518</td> <td> 0.012</td> <td>   -1.096</td> <td>   -0.137</td>\n",
       "</tr>\n",
       "</table>"
      ],
      "text/plain": [
       "<class 'statsmodels.iolib.summary.Summary'>\n",
       "\"\"\"\n",
       "                           Logit Regression Results                           \n",
       "==============================================================================\n",
       "Dep. Variable:     Rechazados_Binario   No. Observations:                 1244\n",
       "Model:                          Logit   Df Residuals:                     1233\n",
       "Method:                           MLE   Df Model:                           10\n",
       "Date:                Tue, 13 Jun 2023   Pseudo R-squ.:                 0.06831\n",
       "Time:                        20:59:28   Log-Likelihood:                -719.30\n",
       "converged:                       True   LL-Null:                       -772.04\n",
       "Covariance Type:            nonrobust   LLR p-value:                 4.350e-18\n",
       "=======================================================================================\n",
       "                          coef    std err          z      P>|z|      [0.025      0.975]\n",
       "---------------------------------------------------------------------------------------\n",
       "const                   6.1043      1.566      3.898      0.000       3.035       9.174\n",
       "Temp3                  -0.1240      0.038     -3.241      0.001      -0.199      -0.049\n",
       "Ti2                     0.0252      0.005      5.536      0.000       0.016       0.034\n",
       "PPPCF                  -0.0154      0.006     -2.583      0.010      -0.027      -0.004\n",
       "Tamin                  -0.3021      0.066     -4.544      0.000      -0.432      -0.172\n",
       "Franja2_MAÑANA         -0.4694      0.241     -1.951      0.051      -0.941       0.002\n",
       "Franja2_MEDIO_DIA      -0.2007      0.182     -1.102      0.271      -0.558       0.156\n",
       "Franja2_NOCHE          -0.4599      0.161     -2.863      0.004      -0.775      -0.145\n",
       "Dia_Semana_viernes     -0.6096      0.199     -3.067      0.002      -0.999      -0.220\n",
       "pH_Requisito_Mi_5.8     0.5876      0.160      3.680      0.000       0.275       0.900\n",
       "TIPO_CAP_CF_C1         -0.6166      0.245     -2.518      0.012      -1.096      -0.137\n",
       "=======================================================================================\n",
       "\"\"\""
      ]
     },
     "execution_count": 24,
     "metadata": {},
     "output_type": "execute_result"
    }
   ],
   "source": [
    "#Entrenamosel modelo y obtenemos accuracy\n",
    "logit_model= sm.Logit(y_train, X_train)\n",
    "logit_model.fit().summary()"
   ]
  },
  {
   "attachments": {},
   "cell_type": "markdown",
   "metadata": {},
   "source": [
    "## Interpretación de los resultados: Odds Ratio, Intervalos de Confianza y Pvalues"
   ]
  },
  {
   "cell_type": "code",
   "execution_count": 25,
   "metadata": {},
   "outputs": [
    {
     "name": "stdout",
     "output_type": "stream",
     "text": [
      "Optimization terminated successfully.\n",
      "         Current function value: 0.578217\n",
      "         Iterations 6\n",
      "Optimization terminated successfully.\n",
      "         Current function value: 0.578217\n",
      "         Iterations 6\n",
      "Optimization terminated successfully.\n",
      "         Current function value: 0.578217\n",
      "         Iterations 6\n",
      "                     CI 95%(2.5%)  CI 95%(97.5%)  Odds Ratio  pvalue\n",
      "const                   20.799122    9640.337030  447.784035   0.000\n",
      "Ti2                      1.016395       1.034677    1.025495   0.000\n",
      "Tamin                    0.648929       0.842157    0.739256   0.000\n",
      "pH_Requisito_Mi_5.8      1.316096       2.460769    1.799614   0.000\n",
      "Temp3                    0.819598       0.952176    0.883403   0.001\n",
      "Dia_Semana_viernes       0.368153       0.802518    0.543552   0.002\n",
      "Franja2_NOCHE            0.460851       0.864994    0.631374   0.004\n",
      "PPPCF                    0.973212       0.996283    0.984680   0.010\n",
      "TIPO_CAP_CF_C1           0.334042       0.872246    0.539784   0.012\n",
      "Franja2_MAÑANA           0.390236       1.002147    0.625359   0.051\n",
      "Franja2_MEDIO_DIA        0.572507       1.169235    0.818166   0.271\n"
     ]
    }
   ],
   "source": [
    "params = np.exp(logit_model.fit().params)\n",
    "conf = np.exp(logit_model.fit().conf_int())\n",
    "conf['OR'] = params\n",
    "pvalue=round(logit_model.fit().pvalues,3)\n",
    "conf['pvalue']=pvalue\n",
    "conf.columns = ['CI 95%(2.5%)', 'CI 95%(97.5%)', 'Odds Ratio','pvalue']\n",
    "conf = conf.sort_values(\"pvalue\")\n",
    "print ((conf))"
   ]
  },
  {
   "attachments": {},
   "cell_type": "markdown",
   "metadata": {},
   "source": [
    "### Ecuación de Regresión \n",
    "$\n",
    "P = e^{\\beta_0 + \\beta_1 X_1} / (1 + e^{\\beta_0 + \\beta_1 X_1} )\n",
    "$\n"
   ]
  },
  {
   "attachments": {},
   "cell_type": "markdown",
   "metadata": {},
   "source": [
    "$\n",
    "logit(p) = log(p/(1−p)) = β0 + β1∗Temp3 + β2∗Ti2 + β3∗PPPCF + β4∗Tamin + β5∗Franja2MAÑANA + β6∗Franja2MEDIODIA + β7∗Franja2NOCHE + β8∗Dia Semana viernes +β9pH RequisitoMi5.8 + β10*TIPO CAPCF C1\n",
    "$"
   ]
  },
  {
   "attachments": {},
   "cell_type": "markdown",
   "metadata": {},
   "source": [
    "# Accuracy"
   ]
  },
  {
   "cell_type": "code",
   "execution_count": 39,
   "metadata": {},
   "outputs": [
    {
     "name": "stdout",
     "output_type": "stream",
     "text": [
      "Optimization terminated successfully    (Exit mode 0)\n",
      "            Current function value: 0.5782172580416776\n",
      "            Iterations: 58\n",
      "            Function evaluations: 65\n",
      "            Gradient evaluations: 58\n",
      "\n",
      "Accuracy: 70.0%\n"
     ]
    }
   ],
   "source": [
    "result= logit_model.fit_regularized()\n",
    "accuracy = accuracy_score(y_true = y_test, y_pred = np.where(result.predict(X_test) <0.5, 0, 1), normalize = True)\n",
    "print(\"\")\n",
    "print(f\"Accuracy: {100*accuracy}%\")"
   ]
  },
  {
   "attachments": {},
   "cell_type": "markdown",
   "metadata": {},
   "source": [
    "El modelo logístico creado para predecir la probabilidad de que se rechace una canal de res después de la medición de pH final es en conjunto significativo (Likelihood ratio p-value = 4.350e-21). El porcentaje de clasificación correcta en el conjunto del test es del 70%, un valor apenas por encima del umbral de 69.4% esperado por azar. Por lo tanto; es un modelo adecuedo de clasificación. "
   ]
  },
  {
   "attachments": {},
   "cell_type": "markdown",
   "metadata": {},
   "source": [
    "$\n",
    "logit(p) = log(p/(1−p)) = 5.8128 - 0.1087Temp3 + 0.0228Ti2 - 0.0144PPPCF - 0.2880Tamin - 0.4698Franja2MAÑANA - 0.2677Franja2MEDIODIA - 0.4046Franja2NOCHE - 0.6081DiaSemanaviernes + 0.5746pHRequisitoMi5.8 - 0.8342TIPOCAPCFC1\n",
    "$"
   ]
  },
  {
   "attachments": {},
   "cell_type": "markdown",
   "metadata": {},
   "source": [
    "### Este modelo ajustado muestra que, manteniendo todas las demás características constantes: \n",
    "\n",
    "\n",
    "- Veremos una disminución del 11.66% en la probabilidad de rechazar un canal de res si la temeratura a la que se encuenta el cuarto frío posterior a la maduración aumenta en un grado celcius. $e^{-0.1240} = 0.8833$. Manteniendose en el rango de funcionamieto del requisito que exija cada país \n",
    "\n",
    "- Encontramos que hay un aumento del 2,6% en la probabilidad de rechazar una canal de res si el tiempo de maduración aumenta 1 hora posterior al requisito mínimo que es de 24 horas.    $e^{0.0252} = 1.0255$\n",
    "\n",
    "- se reflejará que al aumentar un 1% el porcentaje de producción diaria asignado a un cuarto frío se reduce la probabilidad de rechazar una canal de res en 1.5%. $e^{-0.0154} = 0.9847$.\n",
    "\n",
    "- Podemos observar también que el aumento de 1 grado celcius en la temperatura ambiente mínima registrada repercute en un 26.1% de disminución de la probabilidad de rechazo de una canal de res. $e^{-0.3021} = 0.73926$. \n",
    "\n",
    "- La probabilidad  de rechazar un canal de res si el ingreso de estas a refrigeración se termina en la noche  es 36.9% más baja que si se realiza en otra jornada $e^{-0.4499} = 0.631347$, mientras que si el ingreso se termina en la mañana la probabilidad de rechazo del canal de res es 37.5% más baja que si se terminara de ingr3sar dichos canales en otra franja de horario $e^{-0.4694} = 0.625378$. \n",
    "\n",
    "- Los días viernes hay menos probabilidad de rechazar un canal de res  que otros días, esta es 45.6% más baja. $e^{-0.6096} = 0.54357$. \n",
    "\n",
    "- Hay un 80% mas de probabilidad de rechazar una canal de res cuando dentro de la demanda de exportación se encuentra CHILE con su requisito máximo de pH de 5.8 que cuando se planea exportar co demandaque no contenga a Chile como pais receptor. $e^{0.5876} = 1.79966$. \n",
    "\n",
    "- En los cuartos fríos en donde la Capacidad máxima de almacenamiento es más pequeña <= 90 canales de res la probabilidad de rechazar uno es 46% mas baja que en los demás cuartos fríos con mayores capacidad de almacenamiento. Esto se da porque en la dinamica dde producción de las plantas de beneficio animal analisadas primero según la demanda diaria se llenan los cuartos con mayor capacidad hasta su tope, y las canales restante que son cantidad menores se almacenan en estos cuartos con menores capacidades $e^{-0.6166} = 0.53978$. "
   ]
  },
  {
   "attachments": {},
   "cell_type": "markdown",
   "metadata": {},
   "source": [
    "# Matriz de Confusión\n",
    "\n",
    "Una matriz de confusión es una herramienta para resumir el rendimiento de un algoritmo de clasificación. Una matriz de confusión nos dará una imagen clara del rendimiento del modelo de clasificación y los tipos de errores producidos por el modelo. Nos da un resumen de predicciones correctas e incorrectas desglosadas por cada categoría. El resumen se representa en forma tabular.\n",
    "\n",
    "\n",
    "- Verdaderos positivos (TP): los verdaderos positivos ocurren cuando predecimos que una observación pertenece a una determinada clase y la observación en realidad pertenece a esa clase.\n",
    "\n",
    "- Verdaderos negativos (TN): los verdaderos negativos ocurren cuando predecimos que una observación no pertenece a una determinada clase y la observación en realidad no pertenece a esa clase.\n",
    "\n",
    "- Falsos positivos (FP): los falsos positivos ocurren cuando predecimos que una observación pertenece a una determinada clase, pero la observación en realidad no pertenece a esa clase. Este tipo de error se denomina error tipo I.\n",
    "\n",
    "- Falsos negativos (FN): los falsos negativos ocurren cuando predecimos que una observación no pertenece a una determinada clase, pero la observación en realidad pertenece a esa clase. Este es un error muy grave y se llama error de tipo II."
   ]
  },
  {
   "cell_type": "code",
   "execution_count": 27,
   "metadata": {},
   "outputs": [
    {
     "data": {
      "text/plain": [
       "<AxesSubplot:>"
      ]
     },
     "execution_count": 27,
     "metadata": {},
     "output_type": "execute_result"
    },
    {
     "data": {
      "image/png": "[encoded data removed]",
      "text/plain": [
       "<Figure size 800x500 with 2 Axes>"
      ]
     },
     "metadata": {},
     "output_type": "display_data"
    }
   ],
   "source": [
    "from sklearn.metrics import confusion_matrix\n",
    "cm=confusion_matrix(y_test,np.where(result.predict(X_test) <0.5, 0, 1))\n",
    "conf_matrix=pd.DataFrame(data=cm,columns=['Predicted:0','Predicted:1'],index=['Actual:0','Actual:1'])\n",
    "plt.figure(figsize = (8,5))\n",
    "sns.heatmap(conf_matrix, annot=True,fmt='d',cmap=\"YlGnBu\")"
   ]
  },
  {
   "attachments": {},
   "cell_type": "markdown",
   "metadata": {},
   "source": [
    "> La Matriz de Confusión muestra 439 + 30 = 469 predicciones correctas y 34 + 29 = 175 predicciones incorrectas.\n",
    "\n",
    ">>  - Verdaderos Positivos : 439\n",
    ">>  - Verdaderos Negativos: 30\n",
    ">>  - Falsos Positivos: 34 (Error Tipo 1) \n",
    ">>  - Falsos Negativos: 167 (Error Tipo 2) \n",
    "\n"
   ]
  },
  {
   "cell_type": "code",
   "execution_count": 53,
   "metadata": {},
   "outputs": [
    {
     "name": "stdout",
     "output_type": "stream",
     "text": [
      "Exactitud :70.0% \n",
      " Sencibilidad :72.44224422442245% \n",
      " Especificidad :46.875% \n",
      "\n"
     ]
    }
   ],
   "source": [
    "VN = cm[1,1]\n",
    "VP = cm[0,0]\n",
    "FN = cm[1,0]\n",
    "FP = cm[0,1] \n",
    "Exactitud = (VP+VN)/(VP+VN+FP+FN) #Acurracy\n",
    "Sencibilidad = VP/float(VP+FN)\n",
    "Especificidad = VN/float(VN+FP)\n",
    "\n",
    "print(f'Exactitud :{100*Exactitud}%','\\n',\n",
    "f'Sencibilidad :{100*Sencibilidad}%','\\n',\n",
    "f'Especificidad :{100*Especificidad}%','\\n') "
   ]
  },
  {
   "attachments": {},
   "cell_type": "markdown",
   "metadata": {},
   "source": [
    "Los canales de res que no se rechazan se estimaron con una precisión del 72.4% con una clasificación basada en un umbral de prediciones probabilisticas de 0.5. Mientras que ls canales de res que se rechazan se estimaron con una precisión del 46.9%. El modelo es más específico que sensible.\n",
    "\n",
    "La exactitud en la predición en total fue del 70% tomando el umbral de predicción probabilistica mencionado.\n",
    "\n",
    "El Indice kappa de 0.54 nos diceque hay una concordancia Moderada entre los resultados predecidos por el modelo y los valores observados"
   ]
  },
  {
   "cell_type": "code",
   "execution_count": 65,
   "metadata": {},
   "outputs": [
    {
     "name": "stdout",
     "output_type": "stream",
     "text": [
      "              precision    recall  f1-score   support\n",
      "\n",
      "           0       0.72      0.93      0.81       473\n",
      "           1       0.47      0.15      0.23       197\n",
      "\n",
      "    accuracy                           0.70       670\n",
      "   macro avg       0.60      0.54      0.52       670\n",
      "weighted avg       0.65      0.70      0.64       670\n",
      "\n"
     ]
    }
   ],
   "source": [
    "from sklearn.metrics import classification_report\n",
    "print(classification_report(y_test, np.where(result.predict(X_test) <0.5, 0, 1)))"
   ]
  },
  {
   "attachments": {},
   "cell_type": "markdown",
   "metadata": {},
   "source": [
    "## Predicciones probabilísticas con Umbral 0.5\n",
    "Miremos las probabilidades con un umbral de 0.5"
   ]
  },
  {
   "cell_type": "code",
   "execution_count": 31,
   "metadata": {},
   "outputs": [
    {
     "data": {
      "text/html": [
       "<div>\n",
       "<style scoped>\n",
       "    .dataframe tbody tr th:only-of-type {\n",
       "        vertical-align: middle;\n",
       "    }\n",
       "\n",
       "    .dataframe tbody tr th {\n",
       "        vertical-align: top;\n",
       "    }\n",
       "\n",
       "    .dataframe thead th {\n",
       "        text-align: right;\n",
       "    }\n",
       "</style>\n",
       "<table border=\"1\" class=\"dataframe\">\n",
       "  <thead>\n",
       "    <tr style=\"text-align: right;\">\n",
       "      <th></th>\n",
       "      <th>Prob de no rechazar canales (0)</th>\n",
       "      <th>Prob de rechazar canales (1)</th>\n",
       "    </tr>\n",
       "  </thead>\n",
       "  <tbody>\n",
       "    <tr>\n",
       "      <th>1730</th>\n",
       "      <td>0.545505</td>\n",
       "      <td>0.454495</td>\n",
       "    </tr>\n",
       "    <tr>\n",
       "      <th>1831</th>\n",
       "      <td>0.546126</td>\n",
       "      <td>0.453874</td>\n",
       "    </tr>\n",
       "    <tr>\n",
       "      <th>362</th>\n",
       "      <td>0.301361</td>\n",
       "      <td>0.698639</td>\n",
       "    </tr>\n",
       "    <tr>\n",
       "      <th>1402</th>\n",
       "      <td>0.553235</td>\n",
       "      <td>0.446765</td>\n",
       "    </tr>\n",
       "    <tr>\n",
       "      <th>78</th>\n",
       "      <td>0.273565</td>\n",
       "      <td>0.726435</td>\n",
       "    </tr>\n",
       "  </tbody>\n",
       "</table>\n",
       "</div>"
      ],
      "text/plain": [
       "      Prob de no rechazar canales (0)  Prob de rechazar canales (1)\n",
       "1730                         0.545505                      0.454495\n",
       "1831                         0.546126                      0.453874\n",
       "362                          0.301361                      0.698639\n",
       "1402                         0.553235                      0.446765\n",
       "78                           0.273565                      0.726435"
      ]
     },
     "execution_count": 31,
     "metadata": {},
     "output_type": "execute_result"
    }
   ],
   "source": [
    "Pred = result.predict(X_test)\n",
    "Pred = pd.DataFrame(Pred, columns=['Prob de no rechazar canales (0)'])\n",
    "Pred ['Prob de rechazar canales (1)'] = 1 - Pred \n",
    "Pred.head()"
   ]
  },
  {
   "attachments": {},
   "cell_type": "markdown",
   "metadata": {},
   "source": [
    "## Bajando y subiendo el Umbral"
   ]
  },
  {
   "cell_type": "code",
   "execution_count": 112,
   "metadata": {},
   "outputs": [
    {
     "data": {
      "text/html": [
       "<div>\n",
       "<style scoped>\n",
       "    .dataframe tbody tr th:only-of-type {\n",
       "        vertical-align: middle;\n",
       "    }\n",
       "\n",
       "    .dataframe tbody tr th {\n",
       "        vertical-align: top;\n",
       "    }\n",
       "\n",
       "    .dataframe thead th {\n",
       "        text-align: right;\n",
       "    }\n",
       "</style>\n",
       "<table border=\"1\" class=\"dataframe\">\n",
       "  <thead>\n",
       "    <tr style=\"text-align: right;\">\n",
       "      <th></th>\n",
       "      <th>Umbral</th>\n",
       "      <th>Sensibilidad</th>\n",
       "      <th>Especificidad</th>\n",
       "      <th>Exactitud</th>\n",
       "      <th>AUC</th>\n",
       "    </tr>\n",
       "  </thead>\n",
       "  <tbody>\n",
       "    <tr>\n",
       "      <th>0</th>\n",
       "      <td>0.1</td>\n",
       "      <td>0.800000</td>\n",
       "      <td>0.296923</td>\n",
       "      <td>0.311940</td>\n",
       "      <td>0.506761</td>\n",
       "    </tr>\n",
       "    <tr>\n",
       "      <th>1</th>\n",
       "      <td>0.2</td>\n",
       "      <td>0.864865</td>\n",
       "      <td>0.339080</td>\n",
       "      <td>0.455224</td>\n",
       "      <td>0.584545</td>\n",
       "    </tr>\n",
       "    <tr>\n",
       "      <th>2</th>\n",
       "      <td>0.3</td>\n",
       "      <td>0.801700</td>\n",
       "      <td>0.400631</td>\n",
       "      <td>0.611940</td>\n",
       "      <td>0.621489</td>\n",
       "    </tr>\n",
       "    <tr>\n",
       "      <th>3</th>\n",
       "      <td>0.4</td>\n",
       "      <td>0.750466</td>\n",
       "      <td>0.473684</td>\n",
       "      <td>0.695522</td>\n",
       "      <td>0.585903</td>\n",
       "    </tr>\n",
       "    <tr>\n",
       "      <th>4</th>\n",
       "      <td>0.5</td>\n",
       "      <td>0.722403</td>\n",
       "      <td>0.481481</td>\n",
       "      <td>0.702985</td>\n",
       "      <td>0.536392</td>\n",
       "    </tr>\n",
       "    <tr>\n",
       "      <th>5</th>\n",
       "      <td>0.6</td>\n",
       "      <td>0.710769</td>\n",
       "      <td>0.450000</td>\n",
       "      <td>0.702985</td>\n",
       "      <td>0.511215</td>\n",
       "    </tr>\n",
       "    <tr>\n",
       "      <th>6</th>\n",
       "      <td>0.7</td>\n",
       "      <td>0.707207</td>\n",
       "      <td>0.500000</td>\n",
       "      <td>0.705970</td>\n",
       "      <td>0.502962</td>\n",
       "    </tr>\n",
       "    <tr>\n",
       "      <th>7</th>\n",
       "      <td>0.8</td>\n",
       "      <td>0.705970</td>\n",
       "      <td>NaN</td>\n",
       "      <td>0.705970</td>\n",
       "      <td>0.500000</td>\n",
       "    </tr>\n",
       "    <tr>\n",
       "      <th>8</th>\n",
       "      <td>0.9</td>\n",
       "      <td>0.705970</td>\n",
       "      <td>NaN</td>\n",
       "      <td>0.705970</td>\n",
       "      <td>0.500000</td>\n",
       "    </tr>\n",
       "  </tbody>\n",
       "</table>\n",
       "</div>"
      ],
      "text/plain": [
       "   Umbral  Sensibilidad  Especificidad  Exactitud       AUC\n",
       "0     0.1      0.800000       0.296923   0.311940  0.506761\n",
       "1     0.2      0.864865       0.339080   0.455224  0.584545\n",
       "2     0.3      0.801700       0.400631   0.611940  0.621489\n",
       "3     0.4      0.750466       0.473684   0.695522  0.585903\n",
       "4     0.5      0.722403       0.481481   0.702985  0.536392\n",
       "5     0.6      0.710769       0.450000   0.702985  0.511215\n",
       "6     0.7      0.707207       0.500000   0.705970  0.502962\n",
       "7     0.8      0.705970            NaN   0.705970  0.500000\n",
       "8     0.9      0.705970            NaN   0.705970  0.500000"
      ]
     },
     "execution_count": 112,
     "metadata": {},
     "output_type": "execute_result"
    }
   ],
   "source": [
    "logreg=LogisticRegression()\n",
    "logreg.fit(X_train,y_train)\n",
    "Umbral = pd.DataFrame(np.zeros((9,5)), columns=[\"Umbral\", \"Sensibilidad\", \"Especificidad\", \"Exactitud\", \"AUC\"])\n",
    "for i in range(1,10):\n",
    "    cm2=0\n",
    "    y_pred_prob_yes=logreg.predict_proba(X_test)\n",
    "    y_pred2=binarize(y_pred_prob_yes, threshold = i/10)[:,1]\n",
    "    cm2=confusion_matrix(y_test,y_pred2)\n",
    "    VN2 = cm2[1,1]\n",
    "    VP2 = cm2[0,0]\n",
    "    FN2 = cm2[1,0]\n",
    "    FP2 = cm2[0,1] \n",
    "    Exactitud2 = (VP2+VN2)/(VP2+VN2+FP2+FN2) #Acurracy\n",
    "    Sencibilidad2 = VP2/float(VP2+FN2)\n",
    "    Especificidad2 = VN2/float(VN2+FP2)\n",
    "    Umbral.loc[i-1,'Umbral'] = i/10\n",
    "    Umbral.loc[i-1,'Sensibilidad'] = Sencibilidad2 \n",
    "    Umbral.loc[i-1,'Especificidad'] = Especificidad2 \n",
    "    Umbral.loc[i-1,'Exactitud'] = Exactitud2\n",
    "    Umbral.loc[i-1,'AUC'] = roc_auc_score(y_test,y_pred2)\n",
    "\n",
    "Umbral"
   ]
  },
  {
   "attachments": {},
   "cell_type": "markdown",
   "metadata": {},
   "source": [
    "El modelo se comporta solo un poco mejor cuando el Umbral sube a 0.7"
   ]
  },
  {
   "attachments": {},
   "cell_type": "markdown",
   "metadata": {},
   "source": [
    "# Curva ROC"
   ]
  },
  {
   "cell_type": "code",
   "execution_count": 98,
   "metadata": {},
   "outputs": [
    {
     "data": {
      "image/png": "[encoded data removed]",
      "text/plain": [
       "<Figure size 600x400 with 1 Axes>"
      ]
     },
     "metadata": {},
     "output_type": "display_data"
    }
   ],
   "source": [
    "from sklearn.metrics import roc_auc_score\n",
    "fpr, tpr, thresholds = roc_curve(y_test,  y_pred_prob_yes[:,1])\n",
    "plt.figure(figsize=(6,4))\n",
    "plt.plot(fpr, tpr, linewidth=2)\n",
    "plt.plot([0,1], [0,1], 'k--' )\n",
    "plt.rcParams['font.size'] = 12\n",
    "plt.title('Curva ROC para el Rechazo de Canales')\n",
    "plt.xlabel('Tasa de Fasos Positivos (1 - Specificidad)')\n",
    "plt.ylabel('Tasa de verdaderos r Positiveos (Sensibilidad)')\n",
    "plt.show()"
   ]
  },
  {
   "cell_type": "code",
   "execution_count": 55,
   "metadata": {},
   "outputs": [
    {
     "ename": "NameError",
     "evalue": "name 'AUC' is not defined",
     "output_type": "error",
     "traceback": [
      "\u001b[1;31m---------------------------------------------------------------------------\u001b[0m",
      "\u001b[1;31mNameError\u001b[0m                                 Traceback (most recent call last)",
      "\u001b[1;32m~\\AppData\\Local\\Temp\\ipykernel_14272\\3516397210.py\u001b[0m in \u001b[0;36m<module>\u001b[1;34m\u001b[0m\n\u001b[1;32m----> 1\u001b[1;33m \u001b[0mAUC\u001b[0m\u001b[1;33m\u001b[0m\u001b[1;33m\u001b[0m\u001b[0m\n\u001b[0m",
      "\u001b[1;31mNameError\u001b[0m: name 'AUC' is not defined"
     ]
    }
   ],
   "source": [
    "AUC"
   ]
  }
 ],
 "metadata": {
  "kernelspec": {
   "display_name": "Python 3 (ipykernel)",
   "language": "python",
   "name": "python3"
  },
  "language_info": {
   "codemirror_mode": {
    "name": "ipython",
    "version": 3
   },
   "file_extension": ".py",
   "mimetype": "text/x-python",
   "name": "python",
   "nbconvert_exporter": "python",
   "pygments_lexer": "ipython3",
   "version": "3.9.13"
  }
 },
 "nbformat": 4,
 "nbformat_minor": 2
}
