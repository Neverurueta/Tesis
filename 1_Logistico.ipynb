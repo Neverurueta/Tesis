{
 "cells": [
  {
   "cell_type": "code",
   "execution_count": 1,
   "metadata": {},
   "outputs": [],
   "source": [
    "#Tratamieto de datos\n",
    "import pandas as pd #\n",
    "import numpy as np  #\n",
    "# ==============================================================================================================================================================\n",
    "\n",
    "#   Gráficos \n",
    "import matplotlib.pyplot as plt\n",
    "from matplotlib import style\n",
    "import seaborn as sns\n",
    "# ==============================================================================================================================================================\n",
    "\n",
    "#Procesado y Modelado\n",
    "from sklearn.linear_model import LogisticRegression\n",
    "from sklearn.model_selection import train_test_split\n",
    "from sklearn import metrics\n",
    "from sklearn.metrics import (confusion_matrix, accuracy_score)\n",
    "from sklearn.preprocessing import binarize\n",
    "from sklearn.metrics import roc_curve\n",
    "\n",
    "import statsmodels.api as sm\n",
    "import statsmodels.formula.api as smf\n",
    "from statsmodels.stats.weightstats import ttest_ind\n",
    "from statsmodels.stats.outliers_influence import variance_inflation_factor\n",
    "# ==============================================================================================================================================================\n",
    "\n",
    "# Configuración matplotlib\n",
    "plt.rcParams['image.cmap'] = \"bwr\"\n",
    "#plt.rcParams['figure.dpi'] = \"100\"\n",
    "plt.rcParams['savefig.bbox'] = \"tight\"\n",
    "style.use('ggplot') or plt.style.use('ggplot')\n",
    "# Configuración warnings\n",
    "# ==============================================================================================================================================================\n",
    "\n",
    "#Configuración warnings\n",
    "import warnings\n",
    "warnings.filterwarnings('ignore')"
   ]
  },
  {
   "cell_type": "code",
   "execution_count": 2,
   "metadata": {},
   "outputs": [],
   "source": [
    "data=pd.read_excel(r\"D:\\Never Urueta\\2023\\Tesis\\Data.xlsx\") "
   ]
  },
  {
   "cell_type": "code",
   "execution_count": 3,
   "metadata": {},
   "outputs": [
    {
     "data": {
      "text/plain": [
       "count    1914.000000\n",
       "mean        0.552247\n",
       "std         0.930765\n",
       "min         0.000000\n",
       "25%         0.000000\n",
       "50%         0.000000\n",
       "75%         1.000000\n",
       "max         5.000000\n",
       "Name: Rechazados, dtype: float64"
      ]
     },
     "execution_count": 3,
     "metadata": {},
     "output_type": "execute_result"
    }
   ],
   "source": [
    "data.Rechazados.describe()"
   ]
  },
  {
   "cell_type": "code",
   "execution_count": 4,
   "metadata": {},
   "outputs": [
    {
     "name": "stdout",
     "output_type": "stream",
     "text": [
      "Número de Veces que Temp3 <2°C : 470\n",
      "Número de Veces que Temp3 <0°C : 117\n"
     ]
    }
   ],
   "source": [
    "print(\"Número de Veces que Temp3 <2°C :\",len(data[data[\"Temp3\"]<2]))\n",
    "print(\"Número de Veces que Temp3 <0°C :\",len(data[data[\"Temp3\"]<0]))"
   ]
  },
  {
   "cell_type": "code",
   "execution_count": 5,
   "metadata": {},
   "outputs": [],
   "source": [
    "data1 = data.drop([\"PBA\", \"CF\", \"Indicador\", \"DESTINO\", \"CAPACIDAD DEL CUARTO FRIO  \", \"VT2\", \"VT1\"], axis=1)"
   ]
  },
  {
   "cell_type": "code",
   "execution_count": 6,
   "metadata": {},
   "outputs": [],
   "source": [
    "data1.loc[data1[\"Rechazados\"] > 0, \"Rechazados\"] = 1"
   ]
  },
  {
   "cell_type": "code",
   "execution_count": 7,
   "metadata": {},
   "outputs": [
    {
     "name": "stdout",
     "output_type": "stream",
     "text": [
      "Cantidad de Rechazos en todos los registros 1, No Rechazados 0:\n",
      "----------------------------------------------------------------\n"
     ]
    },
    {
     "data": {
      "text/plain": [
       "0    1329\n",
       "1     585\n",
       "Name: Rechazados, dtype: int64"
      ]
     },
     "execution_count": 7,
     "metadata": {},
     "output_type": "execute_result"
    }
   ],
   "source": [
    "print(\"Cantidad de Rechazos en todos los registros 1, No Rechazados 0:\")\n",
    "print(\"----------------------------------------------------------------\")\n",
    "data1.Rechazados.value_counts().sort_index()"
   ]
  },
  {
   "attachments": {},
   "cell_type": "markdown",
   "metadata": {},
   "source": [
    "# <span style=\"color:darkred\"> Umbral de Clasificación Esperado\n",
    "<span style=\"color:darkblue\"> En el 69.4% de las maduraciones No se rechazan canales y en el 30.6% sí se rechazan. Un modelo de clasificación que sea útil debe de ser capaz de predecir correctamente un porcentaje de observaciones totales por encima del porcentaje de la clase mayoritaria. En este caso, el umbral de referencia que se tiene que superar es del 69.4%."
   ]
  },
  {
   "cell_type": "markdown",
   "metadata": {},
   "source": [
    "# <span style=\"color:darkred\"> Variables"
   ]
  },
  {
   "cell_type": "code",
   "execution_count": 8,
   "metadata": {},
   "outputs": [
    {
     "name": "stdout",
     "output_type": "stream",
     "text": [
      "Factores Categoricos: \n",
      " ['Dia_Semana', 'pH_Requisito', 'Franja1', 'Refrigeracion', 'TIPO_CAP_CF', 'Franja2']\n",
      "Factores Numéricos: \n",
      " ['Tamin', 'Canales', 'Taamax', 'Temp1', 'Temp2', 'Ti1', 'Ocupacion', 'Rechazados', 'Ti2', 'PPPCF', 'Temp3']\n"
     ]
    }
   ],
   "source": [
    "features = list(set(data1.columns.values) - set(['ID', 'TARGET']))\n",
    "cat_features = [feat for feat in features if data1[feat].dtype.name in ['category', 'object']]\n",
    "num_features = list(set(features) - set(cat_features))\n",
    "\n",
    "print(f\"Factores Categoricos: \\n {cat_features}\")\n",
    "print(f\"Factores Numéricos: \\n {num_features}\")"
   ]
  },
  {
   "cell_type": "markdown",
   "metadata": {},
   "source": [
    "## <span style=\"color:darkgreen\"> Datos Faltantes"
   ]
  },
  {
   "cell_type": "code",
   "execution_count": 9,
   "metadata": {},
   "outputs": [
    {
     "data": {
      "text/plain": [
       "Dia_Semana        0\n",
       "Temp1             0\n",
       "Franja1           0\n",
       "Temp2             0\n",
       "Franja2           0\n",
       "Ti1               0\n",
       "Temp3             0\n",
       "Ti2               0\n",
       "Refrigeracion     0\n",
       "Canales           0\n",
       "PPPCF             0\n",
       "Ocupacion         0\n",
       "pH_Requisito      0\n",
       "Tamin            29\n",
       "Taamax           29\n",
       "TIPO_CAP_CF       0\n",
       "Rechazados        0\n",
       "dtype: int64"
      ]
     },
     "execution_count": 9,
     "metadata": {},
     "output_type": "execute_result"
    }
   ],
   "source": [
    "data1.isnull().sum() #Datos faltantes"
   ]
  },
  {
   "cell_type": "code",
   "execution_count": 10,
   "metadata": {},
   "outputs": [
    {
     "name": "stdout",
     "output_type": "stream",
     "text": [
      "valores perdidos en Tamin: 0\n",
      "valores perdidos en Taamax: 0\n"
     ]
    }
   ],
   "source": [
    "data1['Tamin'].fillna(data1['Tamin'].median(), inplace=True)\n",
    "print(\"valores perdidos en Tamin: \" + \n",
    "      str(data1['Tamin'].isnull().sum()))\n",
    "data1['Taamax'].fillna(data1['Taamax'].median(), inplace=True)\n",
    "print(\"valores perdidos en Taamax: \" + \n",
    "      str(data1['Taamax'].isnull().sum()))"
   ]
  },
  {
   "cell_type": "markdown",
   "metadata": {},
   "source": [
    "## <span style=\"color:darkgreen\"> Variables Numericas\n"
   ]
  },
  {
   "cell_type": "code",
   "execution_count": 11,
   "metadata": {},
   "outputs": [
    {
     "data": {
      "text/html": [
       "<div>\n",
       "<style scoped>\n",
       "    .dataframe tbody tr th:only-of-type {\n",
       "        vertical-align: middle;\n",
       "    }\n",
       "\n",
       "    .dataframe tbody tr th {\n",
       "        vertical-align: top;\n",
       "    }\n",
       "\n",
       "    .dataframe thead th {\n",
       "        text-align: right;\n",
       "    }\n",
       "</style>\n",
       "<table border=\"1\" class=\"dataframe\">\n",
       "  <thead>\n",
       "    <tr style=\"text-align: right;\">\n",
       "      <th></th>\n",
       "      <th>Temp1</th>\n",
       "      <th>Temp2</th>\n",
       "      <th>Ti1</th>\n",
       "      <th>Temp3</th>\n",
       "      <th>Ti2</th>\n",
       "      <th>Canales</th>\n",
       "      <th>PPPCF</th>\n",
       "      <th>Ocupacion</th>\n",
       "      <th>Tamin</th>\n",
       "      <th>Taamax</th>\n",
       "      <th>Rechazados</th>\n",
       "    </tr>\n",
       "  </thead>\n",
       "  <tbody>\n",
       "    <tr>\n",
       "      <th>count</th>\n",
       "      <td>1914.000000</td>\n",
       "      <td>1914.000000</td>\n",
       "      <td>1914.000000</td>\n",
       "      <td>1914.000000</td>\n",
       "      <td>1914.000000</td>\n",
       "      <td>1914.000000</td>\n",
       "      <td>1914.000000</td>\n",
       "      <td>1914.000000</td>\n",
       "      <td>1914.000000</td>\n",
       "      <td>1914.000000</td>\n",
       "      <td>1914.000000</td>\n",
       "    </tr>\n",
       "    <tr>\n",
       "      <th>mean</th>\n",
       "      <td>3.080371</td>\n",
       "      <td>11.733454</td>\n",
       "      <td>2.129855</td>\n",
       "      <td>2.766437</td>\n",
       "      <td>33.368273</td>\n",
       "      <td>136.827586</td>\n",
       "      <td>22.518286</td>\n",
       "      <td>93.083697</td>\n",
       "      <td>23.857913</td>\n",
       "      <td>32.530543</td>\n",
       "      <td>0.305643</td>\n",
       "    </tr>\n",
       "    <tr>\n",
       "      <th>std</th>\n",
       "      <td>1.614204</td>\n",
       "      <td>3.365969</td>\n",
       "      <td>1.135182</td>\n",
       "      <td>1.774718</td>\n",
       "      <td>14.483894</td>\n",
       "      <td>30.208935</td>\n",
       "      <td>15.420267</td>\n",
       "      <td>11.038884</td>\n",
       "      <td>0.960839</td>\n",
       "      <td>1.664524</td>\n",
       "      <td>0.460799</td>\n",
       "    </tr>\n",
       "    <tr>\n",
       "      <th>min</th>\n",
       "      <td>-4.700000</td>\n",
       "      <td>1.400000</td>\n",
       "      <td>0.166667</td>\n",
       "      <td>-5.600000</td>\n",
       "      <td>24.000000</td>\n",
       "      <td>27.000000</td>\n",
       "      <td>3.991370</td>\n",
       "      <td>19.354839</td>\n",
       "      <td>20.400000</td>\n",
       "      <td>27.200000</td>\n",
       "      <td>0.000000</td>\n",
       "    </tr>\n",
       "    <tr>\n",
       "      <th>25%</th>\n",
       "      <td>2.100000</td>\n",
       "      <td>10.000000</td>\n",
       "      <td>1.583333</td>\n",
       "      <td>2.000000</td>\n",
       "      <td>24.250000</td>\n",
       "      <td>140.000000</td>\n",
       "      <td>17.022934</td>\n",
       "      <td>91.888046</td>\n",
       "      <td>23.300000</td>\n",
       "      <td>31.600000</td>\n",
       "      <td>0.000000</td>\n",
       "    </tr>\n",
       "    <tr>\n",
       "      <th>50%</th>\n",
       "      <td>2.900000</td>\n",
       "      <td>11.500000</td>\n",
       "      <td>1.883333</td>\n",
       "      <td>3.000000</td>\n",
       "      <td>25.250000</td>\n",
       "      <td>150.000000</td>\n",
       "      <td>19.326683</td>\n",
       "      <td>96.774194</td>\n",
       "      <td>24.000000</td>\n",
       "      <td>32.600000</td>\n",
       "      <td>0.000000</td>\n",
       "    </tr>\n",
       "    <tr>\n",
       "      <th>75%</th>\n",
       "      <td>3.900000</td>\n",
       "      <td>13.800000</td>\n",
       "      <td>2.483333</td>\n",
       "      <td>3.800000</td>\n",
       "      <td>37.757500</td>\n",
       "      <td>155.000000</td>\n",
       "      <td>23.219814</td>\n",
       "      <td>100.000000</td>\n",
       "      <td>24.500000</td>\n",
       "      <td>33.600000</td>\n",
       "      <td>1.000000</td>\n",
       "    </tr>\n",
       "    <tr>\n",
       "      <th>max</th>\n",
       "      <td>18.200000</td>\n",
       "      <td>39.400000</td>\n",
       "      <td>16.183333</td>\n",
       "      <td>7.300000</td>\n",
       "      <td>110.200000</td>\n",
       "      <td>239.000000</td>\n",
       "      <td>100.000000</td>\n",
       "      <td>104.761905</td>\n",
       "      <td>26.000000</td>\n",
       "      <td>36.300000</td>\n",
       "      <td>1.000000</td>\n",
       "    </tr>\n",
       "  </tbody>\n",
       "</table>\n",
       "</div>"
      ],
      "text/plain": [
       "             Temp1        Temp2          Ti1        Temp3          Ti2  \\\n",
       "count  1914.000000  1914.000000  1914.000000  1914.000000  1914.000000   \n",
       "mean      3.080371    11.733454     2.129855     2.766437    33.368273   \n",
       "std       1.614204     3.365969     1.135182     1.774718    14.483894   \n",
       "min      -4.700000     1.400000     0.166667    -5.600000    24.000000   \n",
       "25%       2.100000    10.000000     1.583333     2.000000    24.250000   \n",
       "50%       2.900000    11.500000     1.883333     3.000000    25.250000   \n",
       "75%       3.900000    13.800000     2.483333     3.800000    37.757500   \n",
       "max      18.200000    39.400000    16.183333     7.300000   110.200000   \n",
       "\n",
       "           Canales        PPPCF    Ocupacion        Tamin       Taamax  \\\n",
       "count  1914.000000  1914.000000  1914.000000  1914.000000  1914.000000   \n",
       "mean    136.827586    22.518286    93.083697    23.857913    32.530543   \n",
       "std      30.208935    15.420267    11.038884     0.960839     1.664524   \n",
       "min      27.000000     3.991370    19.354839    20.400000    27.200000   \n",
       "25%     140.000000    17.022934    91.888046    23.300000    31.600000   \n",
       "50%     150.000000    19.326683    96.774194    24.000000    32.600000   \n",
       "75%     155.000000    23.219814   100.000000    24.500000    33.600000   \n",
       "max     239.000000   100.000000   104.761905    26.000000    36.300000   \n",
       "\n",
       "        Rechazados  \n",
       "count  1914.000000  \n",
       "mean      0.305643  \n",
       "std       0.460799  \n",
       "min       0.000000  \n",
       "25%       0.000000  \n",
       "50%       0.000000  \n",
       "75%       1.000000  \n",
       "max       1.000000  "
      ]
     },
     "execution_count": 11,
     "metadata": {},
     "output_type": "execute_result"
    }
   ],
   "source": [
    "data1.describe()"
   ]
  },
  {
   "cell_type": "code",
   "execution_count": 12,
   "metadata": {},
   "outputs": [
    {
     "data": {
      "image/png": "[encoded data removed]",
      "text/plain": [
       "<Figure size 1500x600 with 2 Axes>"
      ]
     },
     "metadata": {},
     "output_type": "display_data"
    }
   ],
   "source": [
    "plt.figure(figsize=(15,6))\n",
    "mask = np.triu(np.ones_like(data1.corr(), dtype=np.bool))\n",
    "heatmap = sns.heatmap(data1.corr(), mask=mask, vmin=-1, vmax=1, annot=True, cmap='BrBG')\n",
    "heatmap.set_title('Triangle Correlation Heatmap', fontdict={'fontsize':18}, pad=16);\n",
    "plt.show()"
   ]
  },
  {
   "cell_type": "code",
   "execution_count": 13,
   "metadata": {},
   "outputs": [],
   "source": [
    "data1 = data1.drop([\"Canales\"], axis=1)"
   ]
  },
  {
   "cell_type": "markdown",
   "metadata": {},
   "source": [
    "## <span style=\"color:darkgreen\"> Variables Categóricas \n",
    "\n",
    "<span style=\"color:darkblue\"> Las variables categóricas se combierten en variables dummys, el número de nuevas variables corresponderán al numero de factores menos 1 para evitar multicolinealdad"
   ]
  },
  {
   "cell_type": "code",
   "execution_count": 14,
   "metadata": {},
   "outputs": [],
   "source": [
    "data1 = pd.get_dummies(data1, drop_first = True, columns = [\"Franja1\", \"Franja2\", \"Dia_Semana\"]) # el parámetro drop first la primera categoría, para evitar problemas de multicolinealidad\n",
    "data1 = pd.get_dummies(data1, columns = [\"Refrigeracion\", \"pH_Requisito\", \"TIPO_CAP_CF\"]) "
   ]
  },
  {
   "cell_type": "code",
   "execution_count": 15,
   "metadata": {},
   "outputs": [
    {
     "data": {
      "text/plain": [
       "Index(['Temp1', 'Temp2', 'Ti1', 'Temp3', 'Ti2', 'PPPCF', 'Ocupacion', 'Tamin',\n",
       "       'Taamax', 'Rechazados', 'Franja1_MAÑANA', 'Franja1_MEDIO_DIA',\n",
       "       'Franja1_NOCHE', 'Franja1_TARDE', 'Franja2_MAÑANA', 'Franja2_MEDIO_DIA',\n",
       "       'Franja2_NOCHE', 'Franja2_TARDE', 'Dia_Semana_lunes',\n",
       "       'Dia_Semana_martes', 'Dia_Semana_miércoles', 'Dia_Semana_sábado',\n",
       "       'Dia_Semana_viernes', 'Refrigeracion_AMONIACO', 'Refrigeracion_GLICOL',\n",
       "       'pH_Requisito_Mi_5.8', 'pH_Requisito_Mi_6', 'TIPO_CAP_CF_C1',\n",
       "       'TIPO_CAP_CF_C2', 'TIPO_CAP_CF_C3', 'TIPO_CAP_CF_PBA2'],\n",
       "      dtype='object')"
      ]
     },
     "execution_count": 15,
     "metadata": {},
     "output_type": "execute_result"
    }
   ],
   "source": [
    "data1.columns"
   ]
  },
  {
   "cell_type": "code",
   "execution_count": 16,
   "metadata": {},
   "outputs": [
    {
     "name": "stdout",
     "output_type": "stream",
     "text": [
      "Capacidad Tipo 1: 187 \n",
      " Capacidad Tipo 2: 124 \n",
      " Capacidad Tipo 3: 1531 \n",
      " Capacidad Frigosinú: 72\n"
     ]
    }
   ],
   "source": [
    "print(\"Capacidad Tipo 1:\", data1.TIPO_CAP_CF_C1.sum(),'\\n',\n",
    "      \"Capacidad Tipo 2:\", data1.TIPO_CAP_CF_C2.sum(),'\\n',\n",
    "      \"Capacidad Tipo 3:\", data1.TIPO_CAP_CF_C3.sum(),'\\n',\n",
    "      \"Capacidad Frigosinú:\", data1.TIPO_CAP_CF_PBA2.sum())"
   ]
  },
  {
   "cell_type": "code",
   "execution_count": 17,
   "metadata": {},
   "outputs": [],
   "source": [
    "data1 = data1.drop([\"Refrigeracion_GLICOL\", \"pH_Requisito_Mi_6\", \"TIPO_CAP_CF_PBA2\"], axis=1)"
   ]
  },
  {
   "cell_type": "markdown",
   "metadata": {},
   "source": [
    "# <span style=\"color:darkred\"> Primer Modelo Logístico con Multicolinealidad"
   ]
  },
  {
   "cell_type": "code",
   "execution_count": 18,
   "metadata": {},
   "outputs": [
    {
     "name": "stdout",
     "output_type": "stream",
     "text": [
      "Optimization terminated successfully.\n",
      "         Current function value: 0.562399\n",
      "         Iterations 8\n"
     ]
    },
    {
     "data": {
      "text/html": [
       "<table class=\"simpletable\">\n",
       "<caption>Logit Regression Results</caption>\n",
       "<tr>\n",
       "  <th>Dep. Variable:</th>      <td>Rechazados</td>    <th>  No. Observations:  </th>  <td>  1914</td>  \n",
       "</tr>\n",
       "<tr>\n",
       "  <th>Model:</th>                 <td>Logit</td>      <th>  Df Residuals:      </th>  <td>  1886</td>  \n",
       "</tr>\n",
       "<tr>\n",
       "  <th>Method:</th>                 <td>MLE</td>       <th>  Df Model:          </th>  <td>    27</td>  \n",
       "</tr>\n",
       "<tr>\n",
       "  <th>Date:</th>            <td>Fri, 14 Jul 2023</td> <th>  Pseudo R-squ.:     </th>  <td>0.08638</td> \n",
       "</tr>\n",
       "<tr>\n",
       "  <th>Time:</th>                <td>23:00:06</td>     <th>  Log-Likelihood:    </th> <td> -1076.4</td> \n",
       "</tr>\n",
       "<tr>\n",
       "  <th>converged:</th>             <td>True</td>       <th>  LL-Null:           </th> <td> -1178.2</td> \n",
       "</tr>\n",
       "<tr>\n",
       "  <th>Covariance Type:</th>     <td>nonrobust</td>    <th>  LLR p-value:       </th> <td>5.260e-29</td>\n",
       "</tr>\n",
       "</table>\n",
       "<table class=\"simpletable\">\n",
       "<tr>\n",
       "             <td></td>               <th>coef</th>     <th>std err</th>      <th>z</th>      <th>P>|z|</th>  <th>[0.025</th>    <th>0.975]</th>  \n",
       "</tr>\n",
       "<tr>\n",
       "  <th>const</th>                  <td>   -0.0517</td> <td>    2.175</td> <td>   -0.024</td> <td> 0.981</td> <td>   -4.315</td> <td>    4.212</td>\n",
       "</tr>\n",
       "<tr>\n",
       "  <th>Temp1</th>                  <td>   -0.0371</td> <td>    0.039</td> <td>   -0.956</td> <td> 0.339</td> <td>   -0.113</td> <td>    0.039</td>\n",
       "</tr>\n",
       "<tr>\n",
       "  <th>Temp2</th>                  <td>   -0.0034</td> <td>    0.018</td> <td>   -0.192</td> <td> 0.847</td> <td>   -0.039</td> <td>    0.032</td>\n",
       "</tr>\n",
       "<tr>\n",
       "  <th>Ti1</th>                    <td>   -0.0290</td> <td>    0.060</td> <td>   -0.485</td> <td> 0.628</td> <td>   -0.146</td> <td>    0.088</td>\n",
       "</tr>\n",
       "<tr>\n",
       "  <th>Temp3</th>                  <td>   -0.1462</td> <td>    0.033</td> <td>   -4.433</td> <td> 0.000</td> <td>   -0.211</td> <td>   -0.082</td>\n",
       "</tr>\n",
       "<tr>\n",
       "  <th>Ti2</th>                    <td>    0.0240</td> <td>    0.004</td> <td>    5.854</td> <td> 0.000</td> <td>    0.016</td> <td>    0.032</td>\n",
       "</tr>\n",
       "<tr>\n",
       "  <th>PPPCF</th>                  <td>    0.0143</td> <td>    0.009</td> <td>    1.618</td> <td> 0.106</td> <td>   -0.003</td> <td>    0.032</td>\n",
       "</tr>\n",
       "<tr>\n",
       "  <th>Ocupacion</th>              <td>    0.0074</td> <td>    0.007</td> <td>    1.041</td> <td> 0.298</td> <td>   -0.007</td> <td>    0.021</td>\n",
       "</tr>\n",
       "<tr>\n",
       "  <th>Tamin</th>                  <td>   -0.3094</td> <td>    0.056</td> <td>   -5.539</td> <td> 0.000</td> <td>   -0.419</td> <td>   -0.200</td>\n",
       "</tr>\n",
       "<tr>\n",
       "  <th>Taamax</th>                 <td>    0.0663</td> <td>    0.033</td> <td>    2.010</td> <td> 0.044</td> <td>    0.002</td> <td>    0.131</td>\n",
       "</tr>\n",
       "<tr>\n",
       "  <th>Franja1_MAÑANA</th>         <td>   -0.6371</td> <td>    0.906</td> <td>   -0.703</td> <td> 0.482</td> <td>   -2.414</td> <td>    1.140</td>\n",
       "</tr>\n",
       "<tr>\n",
       "  <th>Franja1_MEDIO_DIA</th>      <td>   -0.4849</td> <td>    0.888</td> <td>   -0.546</td> <td> 0.585</td> <td>   -2.225</td> <td>    1.256</td>\n",
       "</tr>\n",
       "<tr>\n",
       "  <th>Franja1_NOCHE</th>          <td>   -0.6869</td> <td>    0.865</td> <td>   -0.794</td> <td> 0.427</td> <td>   -2.383</td> <td>    1.009</td>\n",
       "</tr>\n",
       "<tr>\n",
       "  <th>Franja1_TARDE</th>          <td>   -0.6660</td> <td>    0.878</td> <td>   -0.759</td> <td> 0.448</td> <td>   -2.386</td> <td>    1.054</td>\n",
       "</tr>\n",
       "<tr>\n",
       "  <th>Franja2_MAÑANA</th>         <td>   -0.8757</td> <td>    0.589</td> <td>   -1.486</td> <td> 0.137</td> <td>   -2.031</td> <td>    0.279</td>\n",
       "</tr>\n",
       "<tr>\n",
       "  <th>Franja2_MEDIO_DIA</th>      <td>   -0.7412</td> <td>    0.563</td> <td>   -1.316</td> <td> 0.188</td> <td>   -1.845</td> <td>    0.363</td>\n",
       "</tr>\n",
       "<tr>\n",
       "  <th>Franja2_NOCHE</th>          <td>   -0.6829</td> <td>    0.462</td> <td>   -1.478</td> <td> 0.139</td> <td>   -1.588</td> <td>    0.223</td>\n",
       "</tr>\n",
       "<tr>\n",
       "  <th>Franja2_TARDE</th>          <td>   -0.4796</td> <td>    0.486</td> <td>   -0.986</td> <td> 0.324</td> <td>   -1.433</td> <td>    0.474</td>\n",
       "</tr>\n",
       "<tr>\n",
       "  <th>Dia_Semana_lunes</th>       <td>    0.2873</td> <td>    0.186</td> <td>    1.547</td> <td> 0.122</td> <td>   -0.077</td> <td>    0.651</td>\n",
       "</tr>\n",
       "<tr>\n",
       "  <th>Dia_Semana_martes</th>      <td>    0.2574</td> <td>    0.178</td> <td>    1.447</td> <td> 0.148</td> <td>   -0.091</td> <td>    0.606</td>\n",
       "</tr>\n",
       "<tr>\n",
       "  <th>Dia_Semana_miércoles</th>   <td>    0.2270</td> <td>    0.178</td> <td>    1.275</td> <td> 0.202</td> <td>   -0.122</td> <td>    0.576</td>\n",
       "</tr>\n",
       "<tr>\n",
       "  <th>Dia_Semana_sábado</th>      <td>   -0.2258</td> <td>    0.189</td> <td>   -1.198</td> <td> 0.231</td> <td>   -0.595</td> <td>    0.144</td>\n",
       "</tr>\n",
       "<tr>\n",
       "  <th>Dia_Semana_viernes</th>     <td>   -0.4310</td> <td>    0.196</td> <td>   -2.201</td> <td> 0.028</td> <td>   -0.815</td> <td>   -0.047</td>\n",
       "</tr>\n",
       "<tr>\n",
       "  <th>Refrigeracion_AMONIACO</th> <td>    0.1251</td> <td>    0.128</td> <td>    0.978</td> <td> 0.328</td> <td>   -0.126</td> <td>    0.376</td>\n",
       "</tr>\n",
       "<tr>\n",
       "  <th>pH_Requisito_Mi_5.8</th>    <td>    0.4420</td> <td>    0.130</td> <td>    3.400</td> <td> 0.001</td> <td>    0.187</td> <td>    0.697</td>\n",
       "</tr>\n",
       "<tr>\n",
       "  <th>TIPO_CAP_CF_C1</th>         <td>    3.8949</td> <td>    1.071</td> <td>    3.635</td> <td> 0.000</td> <td>    1.795</td> <td>    5.995</td>\n",
       "</tr>\n",
       "<tr>\n",
       "  <th>TIPO_CAP_CF_C2</th>         <td>    4.0832</td> <td>    1.049</td> <td>    3.894</td> <td> 0.000</td> <td>    2.028</td> <td>    6.138</td>\n",
       "</tr>\n",
       "<tr>\n",
       "  <th>TIPO_CAP_CF_C3</th>         <td>    4.1397</td> <td>    0.978</td> <td>    4.233</td> <td> 0.000</td> <td>    2.223</td> <td>    6.057</td>\n",
       "</tr>\n",
       "</table>"
      ],
      "text/plain": [
       "<class 'statsmodels.iolib.summary.Summary'>\n",
       "\"\"\"\n",
       "                           Logit Regression Results                           \n",
       "==============================================================================\n",
       "Dep. Variable:             Rechazados   No. Observations:                 1914\n",
       "Model:                          Logit   Df Residuals:                     1886\n",
       "Method:                           MLE   Df Model:                           27\n",
       "Date:                Fri, 14 Jul 2023   Pseudo R-squ.:                 0.08638\n",
       "Time:                        23:00:06   Log-Likelihood:                -1076.4\n",
       "converged:                       True   LL-Null:                       -1178.2\n",
       "Covariance Type:            nonrobust   LLR p-value:                 5.260e-29\n",
       "==========================================================================================\n",
       "                             coef    std err          z      P>|z|      [0.025      0.975]\n",
       "------------------------------------------------------------------------------------------\n",
       "const                     -0.0517      2.175     -0.024      0.981      -4.315       4.212\n",
       "Temp1                     -0.0371      0.039     -0.956      0.339      -0.113       0.039\n",
       "Temp2                     -0.0034      0.018     -0.192      0.847      -0.039       0.032\n",
       "Ti1                       -0.0290      0.060     -0.485      0.628      -0.146       0.088\n",
       "Temp3                     -0.1462      0.033     -4.433      0.000      -0.211      -0.082\n",
       "Ti2                        0.0240      0.004      5.854      0.000       0.016       0.032\n",
       "PPPCF                      0.0143      0.009      1.618      0.106      -0.003       0.032\n",
       "Ocupacion                  0.0074      0.007      1.041      0.298      -0.007       0.021\n",
       "Tamin                     -0.3094      0.056     -5.539      0.000      -0.419      -0.200\n",
       "Taamax                     0.0663      0.033      2.010      0.044       0.002       0.131\n",
       "Franja1_MAÑANA            -0.6371      0.906     -0.703      0.482      -2.414       1.140\n",
       "Franja1_MEDIO_DIA         -0.4849      0.888     -0.546      0.585      -2.225       1.256\n",
       "Franja1_NOCHE             -0.6869      0.865     -0.794      0.427      -2.383       1.009\n",
       "Franja1_TARDE             -0.6660      0.878     -0.759      0.448      -2.386       1.054\n",
       "Franja2_MAÑANA            -0.8757      0.589     -1.486      0.137      -2.031       0.279\n",
       "Franja2_MEDIO_DIA         -0.7412      0.563     -1.316      0.188      -1.845       0.363\n",
       "Franja2_NOCHE             -0.6829      0.462     -1.478      0.139      -1.588       0.223\n",
       "Franja2_TARDE             -0.4796      0.486     -0.986      0.324      -1.433       0.474\n",
       "Dia_Semana_lunes           0.2873      0.186      1.547      0.122      -0.077       0.651\n",
       "Dia_Semana_martes          0.2574      0.178      1.447      0.148      -0.091       0.606\n",
       "Dia_Semana_miércoles       0.2270      0.178      1.275      0.202      -0.122       0.576\n",
       "Dia_Semana_sábado         -0.2258      0.189     -1.198      0.231      -0.595       0.144\n",
       "Dia_Semana_viernes        -0.4310      0.196     -2.201      0.028      -0.815      -0.047\n",
       "Refrigeracion_AMONIACO     0.1251      0.128      0.978      0.328      -0.126       0.376\n",
       "pH_Requisito_Mi_5.8        0.4420      0.130      3.400      0.001       0.187       0.697\n",
       "TIPO_CAP_CF_C1             3.8949      1.071      3.635      0.000       1.795       5.995\n",
       "TIPO_CAP_CF_C2             4.0832      1.049      3.894      0.000       2.028       6.138\n",
       "TIPO_CAP_CF_C3             4.1397      0.978      4.233      0.000       2.223       6.057\n",
       "==========================================================================================\n",
       "\"\"\""
      ]
     },
     "execution_count": 18,
     "metadata": {},
     "output_type": "execute_result"
    }
   ],
   "source": [
    "data1 = sm.add_constant(data1)\n",
    "modelo=sm.Logit(data1[\"Rechazados\"],data1.drop([\"Rechazados\"], axis=1))\n",
    "modelo=modelo.fit()\n",
    "modelo.summary()"
   ]
  },
  {
   "cell_type": "markdown",
   "metadata": {},
   "source": [
    "## <span style=\"color:darkgreen\"> Detectando y Eliminando Multicolinealidad "
   ]
  },
  {
   "cell_type": "code",
   "execution_count": 19,
   "metadata": {},
   "outputs": [],
   "source": [
    "#Multicolinealidad - VIFs\n",
    "mc = pd.DataFrame(pd.Series([variance_inflation_factor(data1.drop([\"Rechazados\"], axis=1), i) \n",
    "               for i in range(data1.drop([\"Rechazados\"], axis=1).shape[1])], \n",
    "              index=data1.drop([\"Rechazados\"], axis=1).columns) )            "
   ]
  },
  {
   "cell_type": "code",
   "execution_count": 20,
   "metadata": {},
   "outputs": [
    {
     "data": {
      "text/html": [
       "<div>\n",
       "<style scoped>\n",
       "    .dataframe tbody tr th:only-of-type {\n",
       "        vertical-align: middle;\n",
       "    }\n",
       "\n",
       "    .dataframe tbody tr th {\n",
       "        vertical-align: top;\n",
       "    }\n",
       "\n",
       "    .dataframe thead th {\n",
       "        text-align: right;\n",
       "    }\n",
       "</style>\n",
       "<table border=\"1\" class=\"dataframe\">\n",
       "  <thead>\n",
       "    <tr style=\"text-align: right;\">\n",
       "      <th></th>\n",
       "      <th>VIFs</th>\n",
       "    </tr>\n",
       "  </thead>\n",
       "  <tbody>\n",
       "    <tr>\n",
       "      <th>const</th>\n",
       "      <td>1514.556230</td>\n",
       "    </tr>\n",
       "    <tr>\n",
       "      <th>Temp1</th>\n",
       "      <td>1.259138</td>\n",
       "    </tr>\n",
       "    <tr>\n",
       "      <th>Temp2</th>\n",
       "      <td>1.285794</td>\n",
       "    </tr>\n",
       "    <tr>\n",
       "      <th>Ti1</th>\n",
       "      <td>1.505831</td>\n",
       "    </tr>\n",
       "    <tr>\n",
       "      <th>Temp3</th>\n",
       "      <td>1.286710</td>\n",
       "    </tr>\n",
       "    <tr>\n",
       "      <th>Ti2</th>\n",
       "      <td>1.310146</td>\n",
       "    </tr>\n",
       "    <tr>\n",
       "      <th>PPPCF</th>\n",
       "      <td>4.670672</td>\n",
       "    </tr>\n",
       "    <tr>\n",
       "      <th>Ocupacion</th>\n",
       "      <td>1.843314</td>\n",
       "    </tr>\n",
       "    <tr>\n",
       "      <th>Tamin</th>\n",
       "      <td>1.069315</td>\n",
       "    </tr>\n",
       "    <tr>\n",
       "      <th>Taamax</th>\n",
       "      <td>1.090818</td>\n",
       "    </tr>\n",
       "    <tr>\n",
       "      <th>Franja1_MAÑANA</th>\n",
       "      <td>61.402552</td>\n",
       "    </tr>\n",
       "    <tr>\n",
       "      <th>Franja1_MEDIO_DIA</th>\n",
       "      <td>43.562592</td>\n",
       "    </tr>\n",
       "    <tr>\n",
       "      <th>Franja1_NOCHE</th>\n",
       "      <td>31.775524</td>\n",
       "    </tr>\n",
       "    <tr>\n",
       "      <th>Franja1_TARDE</th>\n",
       "      <td>69.290192</td>\n",
       "    </tr>\n",
       "    <tr>\n",
       "      <th>Franja2_MAÑANA</th>\n",
       "      <td>9.951593</td>\n",
       "    </tr>\n",
       "    <tr>\n",
       "      <th>Franja2_MEDIO_DIA</th>\n",
       "      <td>16.074786</td>\n",
       "    </tr>\n",
       "    <tr>\n",
       "      <th>Franja2_NOCHE</th>\n",
       "      <td>14.950315</td>\n",
       "    </tr>\n",
       "    <tr>\n",
       "      <th>Franja2_TARDE</th>\n",
       "      <td>20.890377</td>\n",
       "    </tr>\n",
       "    <tr>\n",
       "      <th>Dia_Semana_lunes</th>\n",
       "      <td>1.698144</td>\n",
       "    </tr>\n",
       "    <tr>\n",
       "      <th>Dia_Semana_martes</th>\n",
       "      <td>1.711234</td>\n",
       "    </tr>\n",
       "    <tr>\n",
       "      <th>Dia_Semana_miércoles</th>\n",
       "      <td>1.716613</td>\n",
       "    </tr>\n",
       "    <tr>\n",
       "      <th>Dia_Semana_sábado</th>\n",
       "      <td>1.794395</td>\n",
       "    </tr>\n",
       "    <tr>\n",
       "      <th>Dia_Semana_viernes</th>\n",
       "      <td>1.754715</td>\n",
       "    </tr>\n",
       "    <tr>\n",
       "      <th>Refrigeracion_AMONIACO</th>\n",
       "      <td>1.535153</td>\n",
       "    </tr>\n",
       "    <tr>\n",
       "      <th>pH_Requisito_Mi_5.8</th>\n",
       "      <td>1.167913</td>\n",
       "    </tr>\n",
       "    <tr>\n",
       "      <th>TIPO_CAP_CF_C1</th>\n",
       "      <td>15.188822</td>\n",
       "    </tr>\n",
       "    <tr>\n",
       "      <th>TIPO_CAP_CF_C2</th>\n",
       "      <td>10.014788</td>\n",
       "    </tr>\n",
       "    <tr>\n",
       "      <th>TIPO_CAP_CF_C3</th>\n",
       "      <td>19.871820</td>\n",
       "    </tr>\n",
       "  </tbody>\n",
       "</table>\n",
       "</div>"
      ],
      "text/plain": [
       "                               VIFs\n",
       "const                   1514.556230\n",
       "Temp1                      1.259138\n",
       "Temp2                      1.285794\n",
       "Ti1                        1.505831\n",
       "Temp3                      1.286710\n",
       "Ti2                        1.310146\n",
       "PPPCF                      4.670672\n",
       "Ocupacion                  1.843314\n",
       "Tamin                      1.069315\n",
       "Taamax                     1.090818\n",
       "Franja1_MAÑANA            61.402552\n",
       "Franja1_MEDIO_DIA         43.562592\n",
       "Franja1_NOCHE             31.775524\n",
       "Franja1_TARDE             69.290192\n",
       "Franja2_MAÑANA             9.951593\n",
       "Franja2_MEDIO_DIA         16.074786\n",
       "Franja2_NOCHE             14.950315\n",
       "Franja2_TARDE             20.890377\n",
       "Dia_Semana_lunes           1.698144\n",
       "Dia_Semana_martes          1.711234\n",
       "Dia_Semana_miércoles       1.716613\n",
       "Dia_Semana_sábado          1.794395\n",
       "Dia_Semana_viernes         1.754715\n",
       "Refrigeracion_AMONIACO     1.535153\n",
       "pH_Requisito_Mi_5.8        1.167913\n",
       "TIPO_CAP_CF_C1            15.188822\n",
       "TIPO_CAP_CF_C2            10.014788\n",
       "TIPO_CAP_CF_C3            19.871820"
      ]
     },
     "execution_count": 20,
     "metadata": {},
     "output_type": "execute_result"
    }
   ],
   "source": [
    "mc.columns = [\"VIFs\"]\n",
    "mc"
   ]
  },
  {
   "cell_type": "code",
   "execution_count": 21,
   "metadata": {},
   "outputs": [],
   "source": [
    "data1 = data1.drop([ \"Franja1_MAÑANA\", \"Franja1_MEDIO_DIA\",\"Franja1_NOCHE\", \"Franja1_TARDE\", \"Franja2_TARDE\", \"TIPO_CAP_CF_C1\"], axis=1)"
   ]
  },
  {
   "cell_type": "code",
   "execution_count": 22,
   "metadata": {},
   "outputs": [
    {
     "data": {
      "text/html": [
       "<div>\n",
       "<style scoped>\n",
       "    .dataframe tbody tr th:only-of-type {\n",
       "        vertical-align: middle;\n",
       "    }\n",
       "\n",
       "    .dataframe tbody tr th {\n",
       "        vertical-align: top;\n",
       "    }\n",
       "\n",
       "    .dataframe thead th {\n",
       "        text-align: right;\n",
       "    }\n",
       "</style>\n",
       "<table border=\"1\" class=\"dataframe\">\n",
       "  <thead>\n",
       "    <tr style=\"text-align: right;\">\n",
       "      <th></th>\n",
       "      <th>VIFs</th>\n",
       "    </tr>\n",
       "  </thead>\n",
       "  <tbody>\n",
       "    <tr>\n",
       "      <th>const</th>\n",
       "      <td>1088.221820</td>\n",
       "    </tr>\n",
       "    <tr>\n",
       "      <th>Temp1</th>\n",
       "      <td>1.225575</td>\n",
       "    </tr>\n",
       "    <tr>\n",
       "      <th>Temp2</th>\n",
       "      <td>1.239589</td>\n",
       "    </tr>\n",
       "    <tr>\n",
       "      <th>Ti1</th>\n",
       "      <td>1.199346</td>\n",
       "    </tr>\n",
       "    <tr>\n",
       "      <th>Temp3</th>\n",
       "      <td>1.255308</td>\n",
       "    </tr>\n",
       "    <tr>\n",
       "      <th>Ti2</th>\n",
       "      <td>1.261597</td>\n",
       "    </tr>\n",
       "    <tr>\n",
       "      <th>PPPCF</th>\n",
       "      <td>1.495837</td>\n",
       "    </tr>\n",
       "    <tr>\n",
       "      <th>Ocupacion</th>\n",
       "      <td>1.809575</td>\n",
       "    </tr>\n",
       "    <tr>\n",
       "      <th>Tamin</th>\n",
       "      <td>1.063604</td>\n",
       "    </tr>\n",
       "    <tr>\n",
       "      <th>Taamax</th>\n",
       "      <td>1.077512</td>\n",
       "    </tr>\n",
       "    <tr>\n",
       "      <th>Franja2_MAÑANA</th>\n",
       "      <td>1.166764</td>\n",
       "    </tr>\n",
       "    <tr>\n",
       "      <th>Franja2_MEDIO_DIA</th>\n",
       "      <td>1.218223</td>\n",
       "    </tr>\n",
       "    <tr>\n",
       "      <th>Franja2_NOCHE</th>\n",
       "      <td>1.220249</td>\n",
       "    </tr>\n",
       "    <tr>\n",
       "      <th>Dia_Semana_lunes</th>\n",
       "      <td>1.693455</td>\n",
       "    </tr>\n",
       "    <tr>\n",
       "      <th>Dia_Semana_martes</th>\n",
       "      <td>1.702634</td>\n",
       "    </tr>\n",
       "    <tr>\n",
       "      <th>Dia_Semana_miércoles</th>\n",
       "      <td>1.710340</td>\n",
       "    </tr>\n",
       "    <tr>\n",
       "      <th>Dia_Semana_sábado</th>\n",
       "      <td>1.765796</td>\n",
       "    </tr>\n",
       "    <tr>\n",
       "      <th>Dia_Semana_viernes</th>\n",
       "      <td>1.744278</td>\n",
       "    </tr>\n",
       "    <tr>\n",
       "      <th>Refrigeracion_AMONIACO</th>\n",
       "      <td>1.496863</td>\n",
       "    </tr>\n",
       "    <tr>\n",
       "      <th>pH_Requisito_Mi_5.8</th>\n",
       "      <td>1.144664</td>\n",
       "    </tr>\n",
       "    <tr>\n",
       "      <th>TIPO_CAP_CF_C2</th>\n",
       "      <td>1.743096</td>\n",
       "    </tr>\n",
       "    <tr>\n",
       "      <th>TIPO_CAP_CF_C3</th>\n",
       "      <td>2.697078</td>\n",
       "    </tr>\n",
       "  </tbody>\n",
       "</table>\n",
       "</div>"
      ],
      "text/plain": [
       "                               VIFs\n",
       "const                   1088.221820\n",
       "Temp1                      1.225575\n",
       "Temp2                      1.239589\n",
       "Ti1                        1.199346\n",
       "Temp3                      1.255308\n",
       "Ti2                        1.261597\n",
       "PPPCF                      1.495837\n",
       "Ocupacion                  1.809575\n",
       "Tamin                      1.063604\n",
       "Taamax                     1.077512\n",
       "Franja2_MAÑANA             1.166764\n",
       "Franja2_MEDIO_DIA          1.218223\n",
       "Franja2_NOCHE              1.220249\n",
       "Dia_Semana_lunes           1.693455\n",
       "Dia_Semana_martes          1.702634\n",
       "Dia_Semana_miércoles       1.710340\n",
       "Dia_Semana_sábado          1.765796\n",
       "Dia_Semana_viernes         1.744278\n",
       "Refrigeracion_AMONIACO     1.496863\n",
       "pH_Requisito_Mi_5.8        1.144664\n",
       "TIPO_CAP_CF_C2             1.743096\n",
       "TIPO_CAP_CF_C3             2.697078"
      ]
     },
     "execution_count": 22,
     "metadata": {},
     "output_type": "execute_result"
    }
   ],
   "source": [
    "mc2 = pd.DataFrame(pd.Series([variance_inflation_factor(data1.drop([\"Rechazados\"], axis=1), i) \n",
    "               for i in range(data1.drop([\"Rechazados\"], axis=1).shape[1])], \n",
    "              index=data1.drop([\"Rechazados\"], axis=1).columns))     \n",
    "mc2.columns = [\"VIFs\"]\n",
    "mc2   "
   ]
  },
  {
   "cell_type": "markdown",
   "metadata": {},
   "source": [
    "# <span style=\"color:darkred\"> Modelo 1 Logístico Clásico sin Multicolinelidad"
   ]
  },
  {
   "cell_type": "code",
   "execution_count": 23,
   "metadata": {},
   "outputs": [],
   "source": [
    "\n",
    "X=data1.drop([\"Rechazados\"], axis=1)\n",
    "Y=data1.Rechazados"
   ]
  },
  {
   "cell_type": "code",
   "execution_count": 24,
   "metadata": {},
   "outputs": [
    {
     "name": "stdout",
     "output_type": "stream",
     "text": [
      "Optimization terminated successfully.\n",
      "         Current function value: 0.568024\n",
      "         Iterations 6\n"
     ]
    },
    {
     "data": {
      "text/html": [
       "<table class=\"simpletable\">\n",
       "<caption>Logit Regression Results</caption>\n",
       "<tr>\n",
       "  <th>Dep. Variable:</th>      <td>Rechazados</td>    <th>  No. Observations:  </th>  <td>  1914</td>  \n",
       "</tr>\n",
       "<tr>\n",
       "  <th>Model:</th>                 <td>Logit</td>      <th>  Df Residuals:      </th>  <td>  1892</td>  \n",
       "</tr>\n",
       "<tr>\n",
       "  <th>Method:</th>                 <td>MLE</td>       <th>  Df Model:          </th>  <td>    21</td>  \n",
       "</tr>\n",
       "<tr>\n",
       "  <th>Date:</th>            <td>Fri, 14 Jul 2023</td> <th>  Pseudo R-squ.:     </th>  <td>0.07724</td> \n",
       "</tr>\n",
       "<tr>\n",
       "  <th>Time:</th>                <td>23:00:06</td>     <th>  Log-Likelihood:    </th> <td> -1087.2</td> \n",
       "</tr>\n",
       "<tr>\n",
       "  <th>converged:</th>             <td>True</td>       <th>  LL-Null:           </th> <td> -1178.2</td> \n",
       "</tr>\n",
       "<tr>\n",
       "  <th>Covariance Type:</th>     <td>nonrobust</td>    <th>  LLR p-value:       </th> <td>1.207e-27</td>\n",
       "</tr>\n",
       "</table>\n",
       "<table class=\"simpletable\">\n",
       "<tr>\n",
       "             <td></td>               <th>coef</th>     <th>std err</th>      <th>z</th>      <th>P>|z|</th>  <th>[0.025</th>    <th>0.975]</th>  \n",
       "</tr>\n",
       "<tr>\n",
       "  <th>const</th>                  <td>    2.7295</td> <td>    1.723</td> <td>    1.584</td> <td> 0.113</td> <td>   -0.647</td> <td>    6.106</td>\n",
       "</tr>\n",
       "<tr>\n",
       "  <th>Temp1</th>                  <td>   -0.0129</td> <td>    0.037</td> <td>   -0.349</td> <td> 0.727</td> <td>   -0.085</td> <td>    0.060</td>\n",
       "</tr>\n",
       "<tr>\n",
       "  <th>Temp2</th>                  <td>   -0.0091</td> <td>    0.017</td> <td>   -0.525</td> <td> 0.600</td> <td>   -0.043</td> <td>    0.025</td>\n",
       "</tr>\n",
       "<tr>\n",
       "  <th>Ti1</th>                    <td>   -0.0385</td> <td>    0.053</td> <td>   -0.723</td> <td> 0.469</td> <td>   -0.143</td> <td>    0.066</td>\n",
       "</tr>\n",
       "<tr>\n",
       "  <th>Temp3</th>                  <td>   -0.1311</td> <td>    0.032</td> <td>   -4.058</td> <td> 0.000</td> <td>   -0.194</td> <td>   -0.068</td>\n",
       "</tr>\n",
       "<tr>\n",
       "  <th>Ti2</th>                    <td>    0.0271</td> <td>    0.004</td> <td>    6.760</td> <td> 0.000</td> <td>    0.019</td> <td>    0.035</td>\n",
       "</tr>\n",
       "<tr>\n",
       "  <th>PPPCF</th>                  <td>   -0.0130</td> <td>    0.005</td> <td>   -2.491</td> <td> 0.013</td> <td>   -0.023</td> <td>   -0.003</td>\n",
       "</tr>\n",
       "<tr>\n",
       "  <th>Ocupacion</th>              <td>    0.0050</td> <td>    0.007</td> <td>    0.736</td> <td> 0.462</td> <td>   -0.008</td> <td>    0.018</td>\n",
       "</tr>\n",
       "<tr>\n",
       "  <th>Tamin</th>                  <td>   -0.2957</td> <td>    0.055</td> <td>   -5.331</td> <td> 0.000</td> <td>   -0.404</td> <td>   -0.187</td>\n",
       "</tr>\n",
       "<tr>\n",
       "  <th>Taamax</th>                 <td>    0.0613</td> <td>    0.033</td> <td>    1.879</td> <td> 0.060</td> <td>   -0.003</td> <td>    0.125</td>\n",
       "</tr>\n",
       "<tr>\n",
       "  <th>Franja2_MAÑANA</th>         <td>   -0.4611</td> <td>    0.199</td> <td>   -2.312</td> <td> 0.021</td> <td>   -0.852</td> <td>   -0.070</td>\n",
       "</tr>\n",
       "<tr>\n",
       "  <th>Franja2_MEDIO_DIA</th>      <td>   -0.3167</td> <td>    0.151</td> <td>   -2.096</td> <td> 0.036</td> <td>   -0.613</td> <td>   -0.020</td>\n",
       "</tr>\n",
       "<tr>\n",
       "  <th>Franja2_NOCHE</th>          <td>   -0.3513</td> <td>    0.132</td> <td>   -2.652</td> <td> 0.008</td> <td>   -0.611</td> <td>   -0.092</td>\n",
       "</tr>\n",
       "<tr>\n",
       "  <th>Dia_Semana_lunes</th>       <td>    0.2774</td> <td>    0.184</td> <td>    1.504</td> <td> 0.133</td> <td>   -0.084</td> <td>    0.639</td>\n",
       "</tr>\n",
       "<tr>\n",
       "  <th>Dia_Semana_martes</th>      <td>    0.2597</td> <td>    0.177</td> <td>    1.469</td> <td> 0.142</td> <td>   -0.087</td> <td>    0.606</td>\n",
       "</tr>\n",
       "<tr>\n",
       "  <th>Dia_Semana_miércoles</th>   <td>    0.2093</td> <td>    0.177</td> <td>    1.183</td> <td> 0.237</td> <td>   -0.138</td> <td>    0.556</td>\n",
       "</tr>\n",
       "<tr>\n",
       "  <th>Dia_Semana_sábado</th>      <td>   -0.2980</td> <td>    0.187</td> <td>   -1.594</td> <td> 0.111</td> <td>   -0.664</td> <td>    0.068</td>\n",
       "</tr>\n",
       "<tr>\n",
       "  <th>Dia_Semana_viernes</th>     <td>   -0.4860</td> <td>    0.196</td> <td>   -2.486</td> <td> 0.013</td> <td>   -0.869</td> <td>   -0.103</td>\n",
       "</tr>\n",
       "<tr>\n",
       "  <th>Refrigeracion_AMONIACO</th> <td>    0.0763</td> <td>    0.126</td> <td>    0.607</td> <td> 0.544</td> <td>   -0.170</td> <td>    0.323</td>\n",
       "</tr>\n",
       "<tr>\n",
       "  <th>pH_Requisito_Mi_5.8</th>    <td>    0.5055</td> <td>    0.130</td> <td>    3.888</td> <td> 0.000</td> <td>    0.251</td> <td>    0.760</td>\n",
       "</tr>\n",
       "<tr>\n",
       "  <th>TIPO_CAP_CF_C2</th>         <td>    0.5245</td> <td>    0.300</td> <td>    1.749</td> <td> 0.080</td> <td>   -0.063</td> <td>    1.112</td>\n",
       "</tr>\n",
       "<tr>\n",
       "  <th>TIPO_CAP_CF_C3</th>         <td>    0.8546</td> <td>    0.237</td> <td>    3.601</td> <td> 0.000</td> <td>    0.389</td> <td>    1.320</td>\n",
       "</tr>\n",
       "</table>"
      ],
      "text/plain": [
       "<class 'statsmodels.iolib.summary.Summary'>\n",
       "\"\"\"\n",
       "                           Logit Regression Results                           \n",
       "==============================================================================\n",
       "Dep. Variable:             Rechazados   No. Observations:                 1914\n",
       "Model:                          Logit   Df Residuals:                     1892\n",
       "Method:                           MLE   Df Model:                           21\n",
       "Date:                Fri, 14 Jul 2023   Pseudo R-squ.:                 0.07724\n",
       "Time:                        23:00:06   Log-Likelihood:                -1087.2\n",
       "converged:                       True   LL-Null:                       -1178.2\n",
       "Covariance Type:            nonrobust   LLR p-value:                 1.207e-27\n",
       "==========================================================================================\n",
       "                             coef    std err          z      P>|z|      [0.025      0.975]\n",
       "------------------------------------------------------------------------------------------\n",
       "const                      2.7295      1.723      1.584      0.113      -0.647       6.106\n",
       "Temp1                     -0.0129      0.037     -0.349      0.727      -0.085       0.060\n",
       "Temp2                     -0.0091      0.017     -0.525      0.600      -0.043       0.025\n",
       "Ti1                       -0.0385      0.053     -0.723      0.469      -0.143       0.066\n",
       "Temp3                     -0.1311      0.032     -4.058      0.000      -0.194      -0.068\n",
       "Ti2                        0.0271      0.004      6.760      0.000       0.019       0.035\n",
       "PPPCF                     -0.0130      0.005     -2.491      0.013      -0.023      -0.003\n",
       "Ocupacion                  0.0050      0.007      0.736      0.462      -0.008       0.018\n",
       "Tamin                     -0.2957      0.055     -5.331      0.000      -0.404      -0.187\n",
       "Taamax                     0.0613      0.033      1.879      0.060      -0.003       0.125\n",
       "Franja2_MAÑANA            -0.4611      0.199     -2.312      0.021      -0.852      -0.070\n",
       "Franja2_MEDIO_DIA         -0.3167      0.151     -2.096      0.036      -0.613      -0.020\n",
       "Franja2_NOCHE             -0.3513      0.132     -2.652      0.008      -0.611      -0.092\n",
       "Dia_Semana_lunes           0.2774      0.184      1.504      0.133      -0.084       0.639\n",
       "Dia_Semana_martes          0.2597      0.177      1.469      0.142      -0.087       0.606\n",
       "Dia_Semana_miércoles       0.2093      0.177      1.183      0.237      -0.138       0.556\n",
       "Dia_Semana_sábado         -0.2980      0.187     -1.594      0.111      -0.664       0.068\n",
       "Dia_Semana_viernes        -0.4860      0.196     -2.486      0.013      -0.869      -0.103\n",
       "Refrigeracion_AMONIACO     0.0763      0.126      0.607      0.544      -0.170       0.323\n",
       "pH_Requisito_Mi_5.8        0.5055      0.130      3.888      0.000       0.251       0.760\n",
       "TIPO_CAP_CF_C2             0.5245      0.300      1.749      0.080      -0.063       1.112\n",
       "TIPO_CAP_CF_C3             0.8546      0.237      3.601      0.000       0.389       1.320\n",
       "==========================================================================================\n",
       "\"\"\""
      ]
     },
     "execution_count": 24,
     "metadata": {},
     "output_type": "execute_result"
    }
   ],
   "source": [
    "#Nuevo modelo\n",
    "model=sm.Logit(Y,X)\n",
    "result=model.fit()\n",
    "result.summary()"
   ]
  },
  {
   "attachments": {},
   "cell_type": "markdown",
   "metadata": {},
   "source": [
    "## <span style=\"color:darkgreen\"> Predicción y AIC "
   ]
  },
  {
   "cell_type": "code",
   "execution_count": 25,
   "metadata": {},
   "outputs": [
    {
     "name": "stdout",
     "output_type": "stream",
     "text": [
      "Optimization terminated successfully    (Exit mode 0)\n",
      "            Current function value: 0.5680237285834134\n",
      "            Iterations: 99\n",
      "            Function evaluations: 107\n",
      "            Gradient evaluations: 99\n"
     ]
    },
    {
     "data": {
      "text/plain": [
       "<AxesSubplot:title={'center':'M. de Confusión Modelo Log. Clásico con Todos los predictores'}>"
      ]
     },
     "execution_count": 25,
     "metadata": {},
     "output_type": "execute_result"
    },
    {
     "data": {
      "image/png": "[encoded data removed]",
      "text/plain": [
       "<Figure size 800x500 with 2 Axes>"
      ]
     },
     "metadata": {},
     "output_type": "display_data"
    }
   ],
   "source": [
    "from sklearn.metrics import confusion_matrix\n",
    "res= model.fit_regularized()\n",
    "#accuracy = accuracy_score(y_true = data1[\"Rechazados_Binario\"], y_pred = np.where(res.predict(data1.drop([\"Rechazados_Binario\"], axis=1)) <0.5, 0, 1), normalize = True)\n",
    "cm=confusion_matrix(data1[\"Rechazados\"],np.where(result.predict(data1.drop([\"Rechazados\"], axis=1)) <0.5, 0, 1))\n",
    "conf_matrix=pd.DataFrame(data=cm,columns=['Predicted:0','Predicted:1'],index=['Actual:0','Actual:1'])\n",
    "plt.figure(figsize = (8,5))\n",
    "plt.title('M. de Confusión Modelo Log. Clásico con Todos los predictores')\n",
    "sns.heatmap(conf_matrix, annot=True,fmt='d',cmap=\"YlGnBu\")"
   ]
  },
  {
   "cell_type": "code",
   "execution_count": 26,
   "metadata": {},
   "outputs": [],
   "source": [
    "from sklearn.metrics import confusion_matrix\n",
    "from sklearn.metrics import cohen_kappa_score\n",
    "cm=confusion_matrix(Y,np.where(res.predict(X) <0.5, 0, 1))\n",
    "conf_matrix=pd.DataFrame(data=cm,columns=['Predicted:0','Predicted:1'],index=['Actual:0','Actual:1'])\n",
    "#plt.figure(figsize = (8,5))\n",
    "#sns.heatmap(conf_matrix, annot=True,fmt='d',cmap=\"YlGnBu\")\n",
    "VN = cm[1,1]\n",
    "VP = cm[0,0]\n",
    "FN = cm[0,1]\n",
    "FP = cm[1,0] \n",
    "accuracy = (VP+VN)/(VP+VN+FP+FN) #Acurracy\n",
    "Sensibilidad = VP/float(VP+FN)\n",
    "Especificidad = VN/float(VN+FP)\n",
    "Precision = VP / float(VP+FP)\n",
    "fpr, tpr, thresholds = roc_curve(Y, np.where(res.predict(X) <0.5, 0, 1))\n",
    "AUC = metrics.auc(fpr, tpr)\n",
    "#F1_Score = (2*Precision*Recall_Sensibilidad) / float(Precision+Recall_Sensibilidad)"
   ]
  },
  {
   "cell_type": "code",
   "execution_count": 27,
   "metadata": {},
   "outputs": [
    {
     "data": {
      "text/html": [
       "<div>\n",
       "<style scoped>\n",
       "    .dataframe tbody tr th:only-of-type {\n",
       "        vertical-align: middle;\n",
       "    }\n",
       "\n",
       "    .dataframe tbody tr th {\n",
       "        vertical-align: top;\n",
       "    }\n",
       "\n",
       "    .dataframe thead th {\n",
       "        text-align: right;\n",
       "    }\n",
       "</style>\n",
       "<table border=\"1\" class=\"dataframe\">\n",
       "  <thead>\n",
       "    <tr style=\"text-align: right;\">\n",
       "      <th></th>\n",
       "      <th>Modelo</th>\n",
       "      <th>AIC</th>\n",
       "      <th>Accuracy (%)</th>\n",
       "      <th>Sensibilidad (%)</th>\n",
       "      <th>Especificidad (%)</th>\n",
       "      <th>Precisión</th>\n",
       "      <th>AUC (%)</th>\n",
       "    </tr>\n",
       "  </thead>\n",
       "  <tbody>\n",
       "    <tr>\n",
       "      <th>0</th>\n",
       "      <td>Clásico Todas las Variables</td>\n",
       "      <td>2218.4</td>\n",
       "      <td>70.9</td>\n",
       "      <td>94.2</td>\n",
       "      <td>17.9</td>\n",
       "      <td>72.3</td>\n",
       "      <td>56.08</td>\n",
       "    </tr>\n",
       "    <tr>\n",
       "      <th>1</th>\n",
       "      <td>0</td>\n",
       "      <td>0.0</td>\n",
       "      <td>0.0</td>\n",
       "      <td>0.0</td>\n",
       "      <td>0.0</td>\n",
       "      <td>0.0</td>\n",
       "      <td>NaN</td>\n",
       "    </tr>\n",
       "  </tbody>\n",
       "</table>\n",
       "</div>"
      ],
      "text/plain": [
       "                        Modelo     AIC  Accuracy (%)  Sensibilidad (%)  \\\n",
       "0  Clásico Todas las Variables  2218.4          70.9              94.2   \n",
       "1                            0     0.0           0.0               0.0   \n",
       "\n",
       "   Especificidad (%)  Precisión  AUC (%)  \n",
       "0               17.9       72.3    56.08  \n",
       "1                0.0        0.0      NaN  "
      ]
     },
     "execution_count": 27,
     "metadata": {},
     "output_type": "execute_result"
    }
   ],
   "source": [
    "Metricas = pd.DataFrame([[\"Clásico Todas las Variables\", res.aic.round(1), (100*accuracy).round(1), (100*Sensibilidad).round(1), (100*Especificidad).round(1), (100*Precision).round(1), (100*AUC).round(2)], [0, 0, 0, 0, 0, 0]], columns=['Modelo', 'AIC', 'Accuracy (%)', 'Sensibilidad (%)', 'Especificidad (%)', 'Precisión','AUC (%)'])\n",
    "Metricas"
   ]
  },
  {
   "attachments": {},
   "cell_type": "markdown",
   "metadata": {},
   "source": [
    "# <span style=\"color:darkred\"> Modelo Logístico Clásico 2 - Solo Variables Significativas "
   ]
  },
  {
   "cell_type": "code",
   "execution_count": 28,
   "metadata": {},
   "outputs": [],
   "source": [
    "data2 = data1.drop([\"Temp1\", \"Temp2\", \"Ti1\", \"Ocupacion\", \"Taamax\",\"Dia_Semana_lunes\", \"Dia_Semana_martes\", \"Dia_Semana_miércoles\", \"Dia_Semana_sábado\", \"Refrigeracion_AMONIACO\",\"TIPO_CAP_CF_C2\"], axis=1)"
   ]
  },
  {
   "cell_type": "code",
   "execution_count": 29,
   "metadata": {},
   "outputs": [],
   "source": [
    "#Nuevo modelo\n",
    "model2=sm.Logit(data2[\"Rechazados\"],data2.drop([\"Rechazados\"], axis=1))"
   ]
  },
  {
   "cell_type": "code",
   "execution_count": 30,
   "metadata": {},
   "outputs": [
    {
     "name": "stdout",
     "output_type": "stream",
     "text": [
      "Optimization terminated successfully.\n",
      "         Current function value: 0.573925\n",
      "         Iterations 6\n"
     ]
    },
    {
     "data": {
      "text/html": [
       "<table class=\"simpletable\">\n",
       "<caption>Logit Regression Results</caption>\n",
       "<tr>\n",
       "  <th>Dep. Variable:</th>      <td>Rechazados</td>    <th>  No. Observations:  </th>  <td>  1914</td>  \n",
       "</tr>\n",
       "<tr>\n",
       "  <th>Model:</th>                 <td>Logit</td>      <th>  Df Residuals:      </th>  <td>  1903</td>  \n",
       "</tr>\n",
       "<tr>\n",
       "  <th>Method:</th>                 <td>MLE</td>       <th>  Df Model:          </th>  <td>    10</td>  \n",
       "</tr>\n",
       "<tr>\n",
       "  <th>Date:</th>            <td>Fri, 14 Jul 2023</td> <th>  Pseudo R-squ.:     </th>  <td>0.06765</td> \n",
       "</tr>\n",
       "<tr>\n",
       "  <th>Time:</th>                <td>23:00:07</td>     <th>  Log-Likelihood:    </th> <td> -1098.5</td> \n",
       "</tr>\n",
       "<tr>\n",
       "  <th>converged:</th>             <td>True</td>       <th>  LL-Null:           </th> <td> -1178.2</td> \n",
       "</tr>\n",
       "<tr>\n",
       "  <th>Covariance Type:</th>     <td>nonrobust</td>    <th>  LLR p-value:       </th> <td>4.278e-29</td>\n",
       "</tr>\n",
       "</table>\n",
       "<table class=\"simpletable\">\n",
       "<tr>\n",
       "           <td></td>              <th>coef</th>     <th>std err</th>      <th>z</th>      <th>P>|z|</th>  <th>[0.025</th>    <th>0.975]</th>  \n",
       "</tr>\n",
       "<tr>\n",
       "  <th>const</th>               <td>    5.0388</td> <td>    1.271</td> <td>    3.966</td> <td> 0.000</td> <td>    2.549</td> <td>    7.529</td>\n",
       "</tr>\n",
       "<tr>\n",
       "  <th>Temp3</th>               <td>   -0.1309</td> <td>    0.031</td> <td>   -4.193</td> <td> 0.000</td> <td>   -0.192</td> <td>   -0.070</td>\n",
       "</tr>\n",
       "<tr>\n",
       "  <th>Ti2</th>                 <td>    0.0223</td> <td>    0.004</td> <td>    6.049</td> <td> 0.000</td> <td>    0.015</td> <td>    0.030</td>\n",
       "</tr>\n",
       "<tr>\n",
       "  <th>PPPCF</th>               <td>   -0.0115</td> <td>    0.005</td> <td>   -2.405</td> <td> 0.016</td> <td>   -0.021</td> <td>   -0.002</td>\n",
       "</tr>\n",
       "<tr>\n",
       "  <th>Tamin</th>               <td>   -0.2843</td> <td>    0.054</td> <td>   -5.311</td> <td> 0.000</td> <td>   -0.389</td> <td>   -0.179</td>\n",
       "</tr>\n",
       "<tr>\n",
       "  <th>Franja2_MAÑANA</th>      <td>   -0.4023</td> <td>    0.192</td> <td>   -2.097</td> <td> 0.036</td> <td>   -0.778</td> <td>   -0.026</td>\n",
       "</tr>\n",
       "<tr>\n",
       "  <th>Franja2_MEDIO_DIA</th>   <td>   -0.2843</td> <td>    0.146</td> <td>   -1.945</td> <td> 0.052</td> <td>   -0.571</td> <td>    0.002</td>\n",
       "</tr>\n",
       "<tr>\n",
       "  <th>Franja2_NOCHE</th>       <td>   -0.3598</td> <td>    0.130</td> <td>   -2.768</td> <td> 0.006</td> <td>   -0.615</td> <td>   -0.105</td>\n",
       "</tr>\n",
       "<tr>\n",
       "  <th>Dia_Semana_viernes</th>  <td>   -0.5031</td> <td>    0.154</td> <td>   -3.267</td> <td> 0.001</td> <td>   -0.805</td> <td>   -0.201</td>\n",
       "</tr>\n",
       "<tr>\n",
       "  <th>pH_Requisito_Mi_5.8</th> <td>    0.5344</td> <td>    0.129</td> <td>    4.153</td> <td> 0.000</td> <td>    0.282</td> <td>    0.787</td>\n",
       "</tr>\n",
       "<tr>\n",
       "  <th>TIPO_CAP_CF_C3</th>      <td>    0.7442</td> <td>    0.148</td> <td>    5.032</td> <td> 0.000</td> <td>    0.454</td> <td>    1.034</td>\n",
       "</tr>\n",
       "</table>"
      ],
      "text/plain": [
       "<class 'statsmodels.iolib.summary.Summary'>\n",
       "\"\"\"\n",
       "                           Logit Regression Results                           \n",
       "==============================================================================\n",
       "Dep. Variable:             Rechazados   No. Observations:                 1914\n",
       "Model:                          Logit   Df Residuals:                     1903\n",
       "Method:                           MLE   Df Model:                           10\n",
       "Date:                Fri, 14 Jul 2023   Pseudo R-squ.:                 0.06765\n",
       "Time:                        23:00:07   Log-Likelihood:                -1098.5\n",
       "converged:                       True   LL-Null:                       -1178.2\n",
       "Covariance Type:            nonrobust   LLR p-value:                 4.278e-29\n",
       "=======================================================================================\n",
       "                          coef    std err          z      P>|z|      [0.025      0.975]\n",
       "---------------------------------------------------------------------------------------\n",
       "const                   5.0388      1.271      3.966      0.000       2.549       7.529\n",
       "Temp3                  -0.1309      0.031     -4.193      0.000      -0.192      -0.070\n",
       "Ti2                     0.0223      0.004      6.049      0.000       0.015       0.030\n",
       "PPPCF                  -0.0115      0.005     -2.405      0.016      -0.021      -0.002\n",
       "Tamin                  -0.2843      0.054     -5.311      0.000      -0.389      -0.179\n",
       "Franja2_MAÑANA         -0.4023      0.192     -2.097      0.036      -0.778      -0.026\n",
       "Franja2_MEDIO_DIA      -0.2843      0.146     -1.945      0.052      -0.571       0.002\n",
       "Franja2_NOCHE          -0.3598      0.130     -2.768      0.006      -0.615      -0.105\n",
       "Dia_Semana_viernes     -0.5031      0.154     -3.267      0.001      -0.805      -0.201\n",
       "pH_Requisito_Mi_5.8     0.5344      0.129      4.153      0.000       0.282       0.787\n",
       "TIPO_CAP_CF_C3          0.7442      0.148      5.032      0.000       0.454       1.034\n",
       "=======================================================================================\n",
       "\"\"\""
      ]
     },
     "execution_count": 30,
     "metadata": {},
     "output_type": "execute_result"
    }
   ],
   "source": [
    "model2.fit().summary()"
   ]
  },
  {
   "cell_type": "code",
   "execution_count": 31,
   "metadata": {},
   "outputs": [
    {
     "name": "stdout",
     "output_type": "stream",
     "text": [
      "Optimization terminated successfully    (Exit mode 0)\n",
      "            Current function value: 0.5739251538860193\n",
      "            Iterations: 57\n",
      "            Function evaluations: 64\n",
      "            Gradient evaluations: 57\n"
     ]
    }
   ],
   "source": [
    "res2= model2.fit_regularized()\n",
    "accuracy2 = accuracy_score(y_true = data2[\"Rechazados\"], y_pred = np.where(res2.predict(data2.drop([\"Rechazados\"], axis=1)) <0.5, 0, 1), normalize = True)"
   ]
  },
  {
   "cell_type": "code",
   "execution_count": 32,
   "metadata": {},
   "outputs": [],
   "source": [
    "cm2=confusion_matrix(data2[\"Rechazados\"],np.where(res2.predict(data2.drop([\"Rechazados\"], axis=1)) <0.5, 0, 1))\n",
    "VN2 = cm2[1,1]\n",
    "VP2 = cm2[0,0]\n",
    "FN2 = cm2[0,1]\n",
    "FP2 = cm2[1,0] \n",
    "accuracy2 = (VP2+VN2)/(VP2+VN2+FP2+FN2) #Acurracy\n",
    "Sensibilidad2 = VP2/float(VP2+FN2)\n",
    "Especificidad2 = VN2/float(VN2+FP2)\n",
    "fpr, tpr, thresholds = roc_curve(data2[\"Rechazados\"],np.where(res2.predict(data2.drop([\"Rechazados\"], axis=1)) <0.5, 0, 1))\n",
    "AUC = metrics.auc(fpr, tpr)\n",
    "Precision2 = VP2 / float(VP2+FP2)\n",
    "#F1_Score2 = (2*Precision2*Recall_Sensibilidad2) / float(Precision2+Recall_Sensibilidad2)\n"
   ]
  },
  {
   "cell_type": "code",
   "execution_count": null,
   "metadata": {},
   "outputs": [],
   "source": [
    "print(metrics.classification_report(data1[\"Rechazados\"],np.where(res.predict(data1.drop([\"Rechazados\"], axis=1)) <0.5, 0, 1)))"
   ]
  },
  {
   "cell_type": "code",
   "execution_count": 33,
   "metadata": {},
   "outputs": [
    {
     "data": {
      "text/html": [
       "<div>\n",
       "<style scoped>\n",
       "    .dataframe tbody tr th:only-of-type {\n",
       "        vertical-align: middle;\n",
       "    }\n",
       "\n",
       "    .dataframe tbody tr th {\n",
       "        vertical-align: top;\n",
       "    }\n",
       "\n",
       "    .dataframe thead th {\n",
       "        text-align: right;\n",
       "    }\n",
       "</style>\n",
       "<table border=\"1\" class=\"dataframe\">\n",
       "  <thead>\n",
       "    <tr style=\"text-align: right;\">\n",
       "      <th></th>\n",
       "      <th>Modelo</th>\n",
       "      <th>AIC</th>\n",
       "      <th>Accuracy (%)</th>\n",
       "      <th>Sensibilidad (%)</th>\n",
       "      <th>Especificidad (%)</th>\n",
       "      <th>Precisión</th>\n",
       "      <th>AUC (%)</th>\n",
       "    </tr>\n",
       "  </thead>\n",
       "  <tbody>\n",
       "    <tr>\n",
       "      <th>0</th>\n",
       "      <td>Clásico Todas las Variables</td>\n",
       "      <td>2218.4</td>\n",
       "      <td>70.9</td>\n",
       "      <td>94.2</td>\n",
       "      <td>17.9</td>\n",
       "      <td>72.3</td>\n",
       "      <td>56.08</td>\n",
       "    </tr>\n",
       "    <tr>\n",
       "      <th>1</th>\n",
       "      <td>Clásico Variables Significativas</td>\n",
       "      <td>2219.0</td>\n",
       "      <td>70.2</td>\n",
       "      <td>94.6</td>\n",
       "      <td>14.7</td>\n",
       "      <td>71.6</td>\n",
       "      <td>54.60</td>\n",
       "    </tr>\n",
       "  </tbody>\n",
       "</table>\n",
       "</div>"
      ],
      "text/plain": [
       "                             Modelo     AIC  Accuracy (%)  Sensibilidad (%)  \\\n",
       "0       Clásico Todas las Variables  2218.4          70.9              94.2   \n",
       "1  Clásico Variables Significativas  2219.0          70.2              94.6   \n",
       "\n",
       "   Especificidad (%)  Precisión  AUC (%)  \n",
       "0               17.9       72.3    56.08  \n",
       "1               14.7       71.6    54.60  "
      ]
     },
     "execution_count": 33,
     "metadata": {},
     "output_type": "execute_result"
    }
   ],
   "source": [
    "Metricas.iloc[1,:] = [\"Clásico Variables Significativas\", res2.aic.round(1), (100*accuracy2).round(1), (100*Sensibilidad2).round(1), (100*Especificidad2).round(1),  (100*Precision2).round(1),(100*AUC).round(1)]\n",
    "Metricas"
   ]
  },
  {
   "attachments": {},
   "cell_type": "markdown",
   "metadata": {},
   "source": [
    "## <span style=\"color:darkred\">==============================================================================================================================================================="
   ]
  },
  {
   "attachments": {},
   "cell_type": "markdown",
   "metadata": {},
   "source": [
    "#  <span style=\"color:darkred\"> MACHINE LEARNING - Modelo Logístico 3"
   ]
  },
  {
   "attachments": {},
   "cell_type": "markdown",
   "metadata": {},
   "source": [
    "## <span style=\"color:darkred\">===================================================================================================================================================================="
   ]
  },
  {
   "cell_type": "markdown",
   "metadata": {},
   "source": [
    "## <span style=\"color:darkgreen\"> Entrenamiento"
   ]
  },
  {
   "cell_type": "code",
   "execution_count": 40,
   "metadata": {},
   "outputs": [],
   "source": [
    "X_train, X_test, y_train, y_test = train_test_split(data1.drop([\"Rechazados\"], axis=1), data1[\"Rechazados\"], train_size=0.7, random_state=12345) #4321\n",
    "X_train = sm.add_constant(X_train)\n",
    "X_test = sm.add_constant(X_test)"
   ]
  },
  {
   "cell_type": "code",
   "execution_count": 35,
   "metadata": {},
   "outputs": [],
   "source": [
    "logit_model= sm.Logit(y_train, X_train)"
   ]
  },
  {
   "attachments": {},
   "cell_type": "markdown",
   "metadata": {},
   "source": [
    "## <span style=\"color:darkgreen\"> Validación con Grupo de Prueba"
   ]
  },
  {
   "cell_type": "code",
   "execution_count": 43,
   "metadata": {},
   "outputs": [
    {
     "name": "stdout",
     "output_type": "stream",
     "text": [
      "Optimization terminated successfully    (Exit mode 0)\n",
      "            Current function value: 0.5671324397582462\n",
      "            Iterations: 102\n",
      "            Function evaluations: 110\n",
      "            Gradient evaluations: 102\n",
      "Optimization terminated successfully    (Exit mode 0)\n",
      "            Current function value: 0.5671324397582462\n",
      "            Iterations: 102\n",
      "            Function evaluations: 110\n",
      "            Gradient evaluations: 102\n",
      "Optimization terminated successfully.\n",
      "         Current function value: 0.567132\n",
      "         Iterations 7\n"
     ]
    },
    {
     "data": {
      "text/html": [
       "<div>\n",
       "<style scoped>\n",
       "    .dataframe tbody tr th:only-of-type {\n",
       "        vertical-align: middle;\n",
       "    }\n",
       "\n",
       "    .dataframe tbody tr th {\n",
       "        vertical-align: top;\n",
       "    }\n",
       "\n",
       "    .dataframe thead th {\n",
       "        text-align: right;\n",
       "    }\n",
       "</style>\n",
       "<table border=\"1\" class=\"dataframe\">\n",
       "  <thead>\n",
       "    <tr style=\"text-align: right;\">\n",
       "      <th></th>\n",
       "      <th>Modelo</th>\n",
       "      <th>AIC</th>\n",
       "      <th>Accuracy (%)</th>\n",
       "      <th>Sensibilidad (%)</th>\n",
       "      <th>Especificidad (%)</th>\n",
       "      <th>Precisión</th>\n",
       "      <th>AUC (%)</th>\n",
       "    </tr>\n",
       "  </thead>\n",
       "  <tbody>\n",
       "    <tr>\n",
       "      <th>0</th>\n",
       "      <td>Clásico Todas las Variables</td>\n",
       "      <td>2218.4</td>\n",
       "      <td>70.9</td>\n",
       "      <td>94.2</td>\n",
       "      <td>17.9</td>\n",
       "      <td>72.3</td>\n",
       "      <td>56.08</td>\n",
       "    </tr>\n",
       "    <tr>\n",
       "      <th>1</th>\n",
       "      <td>Clásico Variables Significativas</td>\n",
       "      <td>2219.0</td>\n",
       "      <td>70.2</td>\n",
       "      <td>94.6</td>\n",
       "      <td>14.7</td>\n",
       "      <td>71.6</td>\n",
       "      <td>54.60</td>\n",
       "    </tr>\n",
       "    <tr>\n",
       "      <th>2</th>\n",
       "      <td>Machine_Learning_Validado</td>\n",
       "      <td>1562.8</td>\n",
       "      <td>71.7</td>\n",
       "      <td>91.8</td>\n",
       "      <td>19.9</td>\n",
       "      <td>74.7</td>\n",
       "      <td>55.83</td>\n",
       "    </tr>\n",
       "  </tbody>\n",
       "</table>\n",
       "</div>"
      ],
      "text/plain": [
       "                             Modelo     AIC  Accuracy (%)  Sensibilidad (%)  \\\n",
       "0       Clásico Todas las Variables  2218.4          70.9              94.2   \n",
       "1  Clásico Variables Significativas  2219.0          70.2              94.6   \n",
       "2         Machine_Learning_Validado  1562.8          71.7              91.8   \n",
       "\n",
       "   Especificidad (%)  Precisión  AUC (%)  \n",
       "0               17.9       72.3    56.08  \n",
       "1               14.7       71.6    54.60  \n",
       "2               19.9       74.7    55.83  "
      ]
     },
     "execution_count": 43,
     "metadata": {},
     "output_type": "execute_result"
    }
   ],
   "source": [
    "cm2=confusion_matrix(y_test,np.where(logit_model.fit_regularized().predict(X_test) <0.5, 0, 1))\n",
    "VN2 = cm2[1,1]\n",
    "VP2 = cm2[0,0]\n",
    "FN2 = cm2[0,1]\n",
    "FP2 = cm2[1,0] \n",
    "accuracy2 = (VP2+VN2)/(VP2+VN2+FP2+FN2) #Acurracy\n",
    "Sensibilidad2 = VP2/float(VP2+FN2)\n",
    "Especificidad2 = VN2/float(VN2+FP2)\n",
    "fpr, tpr, thresholds = roc_curve(y_test,np.where(logit_model.fit_regularized().predict(X_test) <0.5, 0, 1))\n",
    "AUC = metrics.auc(fpr, tpr)\n",
    "Precision2 = VP2 / float(VP2+FP2)\n",
    "#F1_Score2 = (2*Precision2*Recall_Sensibilidad2) / float(Precision2+Recall_Sensibilidad2)\n",
    "Metricas.loc[2] = [\"Machine_Learning_Validado\", logit_model.fit().aic.round(1), (100*accuracy2).round(1), (100*Sensibilidad2).round(1), (100*Especificidad2).round(1), (100*Precision2).round(1), (100*AUC).round(2)]\n",
    "Metricas"
   ]
  },
  {
   "cell_type": "code",
   "execution_count": 42,
   "metadata": {},
   "outputs": [
    {
     "name": "stdout",
     "output_type": "stream",
     "text": [
      "Optimization terminated successfully    (Exit mode 0)\n",
      "            Current function value: 0.5671324397582462\n",
      "            Iterations: 102\n",
      "            Function evaluations: 110\n",
      "            Gradient evaluations: 102\n",
      "              precision    recall  f1-score   support\n",
      "\n",
      "           0       0.75      0.92      0.82       414\n",
      "           1       0.48      0.20      0.28       161\n",
      "\n",
      "    accuracy                           0.72       575\n",
      "   macro avg       0.62      0.56      0.55       575\n",
      "weighted avg       0.67      0.72      0.67       575\n",
      "\n"
     ]
    }
   ],
   "source": [
    "print(metrics.classification_report(y_test,np.where(logit_model.fit_regularized().predict(X_test) <0.5, 0, 1)))"
   ]
  },
  {
   "cell_type": "code",
   "execution_count": 41,
   "metadata": {},
   "outputs": [
    {
     "name": "stdout",
     "output_type": "stream",
     "text": [
      "Optimization terminated successfully.\n",
      "         Current function value: 0.567132\n",
      "         Iterations 7\n"
     ]
    },
    {
     "data": {
      "text/html": [
       "<table class=\"simpletable\">\n",
       "<caption>Logit Regression Results</caption>\n",
       "<tr>\n",
       "  <th>Dep. Variable:</th>      <td>Rechazados</td>    <th>  No. Observations:  </th>  <td>  1339</td>  \n",
       "</tr>\n",
       "<tr>\n",
       "  <th>Model:</th>                 <td>Logit</td>      <th>  Df Residuals:      </th>  <td>  1317</td>  \n",
       "</tr>\n",
       "<tr>\n",
       "  <th>Method:</th>                 <td>MLE</td>       <th>  Df Model:          </th>  <td>    21</td>  \n",
       "</tr>\n",
       "<tr>\n",
       "  <th>Date:</th>            <td>Fri, 14 Jul 2023</td> <th>  Pseudo R-squ.:     </th>  <td>0.09160</td> \n",
       "</tr>\n",
       "<tr>\n",
       "  <th>Time:</th>                <td>23:12:03</td>     <th>  Log-Likelihood:    </th> <td> -759.39</td> \n",
       "</tr>\n",
       "<tr>\n",
       "  <th>converged:</th>             <td>True</td>       <th>  LL-Null:           </th> <td> -835.97</td> \n",
       "</tr>\n",
       "<tr>\n",
       "  <th>Covariance Type:</th>     <td>nonrobust</td>    <th>  LLR p-value:       </th> <td>4.410e-22</td>\n",
       "</tr>\n",
       "</table>\n",
       "<table class=\"simpletable\">\n",
       "<tr>\n",
       "             <td></td>               <th>coef</th>     <th>std err</th>      <th>z</th>      <th>P>|z|</th>  <th>[0.025</th>    <th>0.975]</th>  \n",
       "</tr>\n",
       "<tr>\n",
       "  <th>const</th>                  <td>    1.3581</td> <td>    2.081</td> <td>    0.653</td> <td> 0.514</td> <td>   -2.720</td> <td>    5.436</td>\n",
       "</tr>\n",
       "<tr>\n",
       "  <th>Temp1</th>                  <td>   -0.0043</td> <td>    0.044</td> <td>   -0.099</td> <td> 0.921</td> <td>   -0.090</td> <td>    0.081</td>\n",
       "</tr>\n",
       "<tr>\n",
       "  <th>Temp2</th>                  <td>   -0.0213</td> <td>    0.021</td> <td>   -1.037</td> <td> 0.300</td> <td>   -0.062</td> <td>    0.019</td>\n",
       "</tr>\n",
       "<tr>\n",
       "  <th>Ti1</th>                    <td>   -0.0425</td> <td>    0.061</td> <td>   -0.702</td> <td> 0.482</td> <td>   -0.161</td> <td>    0.076</td>\n",
       "</tr>\n",
       "<tr>\n",
       "  <th>Temp3</th>                  <td>   -0.1244</td> <td>    0.038</td> <td>   -3.248</td> <td> 0.001</td> <td>   -0.199</td> <td>   -0.049</td>\n",
       "</tr>\n",
       "<tr>\n",
       "  <th>Ti2</th>                    <td>    0.0315</td> <td>    0.005</td> <td>    6.089</td> <td> 0.000</td> <td>    0.021</td> <td>    0.042</td>\n",
       "</tr>\n",
       "<tr>\n",
       "  <th>PPPCF</th>                  <td>   -0.0231</td> <td>    0.007</td> <td>   -3.271</td> <td> 0.001</td> <td>   -0.037</td> <td>   -0.009</td>\n",
       "</tr>\n",
       "<tr>\n",
       "  <th>Ocupacion</th>              <td>    0.0068</td> <td>    0.008</td> <td>    0.816</td> <td> 0.415</td> <td>   -0.009</td> <td>    0.023</td>\n",
       "</tr>\n",
       "<tr>\n",
       "  <th>Tamin</th>                  <td>   -0.2718</td> <td>    0.065</td> <td>   -4.167</td> <td> 0.000</td> <td>   -0.400</td> <td>   -0.144</td>\n",
       "</tr>\n",
       "<tr>\n",
       "  <th>Taamax</th>                 <td>    0.0845</td> <td>    0.039</td> <td>    2.151</td> <td> 0.031</td> <td>    0.008</td> <td>    0.161</td>\n",
       "</tr>\n",
       "<tr>\n",
       "  <th>Franja2_MAÑANA</th>         <td>   -0.5474</td> <td>    0.230</td> <td>   -2.376</td> <td> 0.018</td> <td>   -0.999</td> <td>   -0.096</td>\n",
       "</tr>\n",
       "<tr>\n",
       "  <th>Franja2_MEDIO_DIA</th>      <td>   -0.4346</td> <td>    0.187</td> <td>   -2.322</td> <td> 0.020</td> <td>   -0.801</td> <td>   -0.068</td>\n",
       "</tr>\n",
       "<tr>\n",
       "  <th>Franja2_NOCHE</th>          <td>   -0.4471</td> <td>    0.161</td> <td>   -2.780</td> <td> 0.005</td> <td>   -0.762</td> <td>   -0.132</td>\n",
       "</tr>\n",
       "<tr>\n",
       "  <th>Dia_Semana_lunes</th>       <td>    0.4659</td> <td>    0.220</td> <td>    2.113</td> <td> 0.035</td> <td>    0.034</td> <td>    0.898</td>\n",
       "</tr>\n",
       "<tr>\n",
       "  <th>Dia_Semana_martes</th>      <td>    0.4275</td> <td>    0.215</td> <td>    1.989</td> <td> 0.047</td> <td>    0.006</td> <td>    0.849</td>\n",
       "</tr>\n",
       "<tr>\n",
       "  <th>Dia_Semana_miércoles</th>   <td>    0.3432</td> <td>    0.215</td> <td>    1.599</td> <td> 0.110</td> <td>   -0.078</td> <td>    0.764</td>\n",
       "</tr>\n",
       "<tr>\n",
       "  <th>Dia_Semana_sábado</th>      <td>   -0.2166</td> <td>    0.228</td> <td>   -0.948</td> <td> 0.343</td> <td>   -0.664</td> <td>    0.231</td>\n",
       "</tr>\n",
       "<tr>\n",
       "  <th>Dia_Semana_viernes</th>     <td>   -0.5602</td> <td>    0.241</td> <td>   -2.329</td> <td> 0.020</td> <td>   -1.032</td> <td>   -0.089</td>\n",
       "</tr>\n",
       "<tr>\n",
       "  <th>Refrigeracion_AMONIACO</th> <td>    0.1956</td> <td>    0.153</td> <td>    1.279</td> <td> 0.201</td> <td>   -0.104</td> <td>    0.495</td>\n",
       "</tr>\n",
       "<tr>\n",
       "  <th>pH_Requisito_Mi_5.8</th>    <td>    0.5504</td> <td>    0.158</td> <td>    3.474</td> <td> 0.001</td> <td>    0.240</td> <td>    0.861</td>\n",
       "</tr>\n",
       "<tr>\n",
       "  <th>TIPO_CAP_CF_C2</th>         <td>    0.7708</td> <td>    0.359</td> <td>    2.149</td> <td> 0.032</td> <td>    0.068</td> <td>    1.474</td>\n",
       "</tr>\n",
       "<tr>\n",
       "  <th>TIPO_CAP_CF_C3</th>         <td>    0.7912</td> <td>    0.291</td> <td>    2.723</td> <td> 0.006</td> <td>    0.222</td> <td>    1.361</td>\n",
       "</tr>\n",
       "</table>"
      ],
      "text/plain": [
       "<class 'statsmodels.iolib.summary.Summary'>\n",
       "\"\"\"\n",
       "                           Logit Regression Results                           \n",
       "==============================================================================\n",
       "Dep. Variable:             Rechazados   No. Observations:                 1339\n",
       "Model:                          Logit   Df Residuals:                     1317\n",
       "Method:                           MLE   Df Model:                           21\n",
       "Date:                Fri, 14 Jul 2023   Pseudo R-squ.:                 0.09160\n",
       "Time:                        23:12:03   Log-Likelihood:                -759.39\n",
       "converged:                       True   LL-Null:                       -835.97\n",
       "Covariance Type:            nonrobust   LLR p-value:                 4.410e-22\n",
       "==========================================================================================\n",
       "                             coef    std err          z      P>|z|      [0.025      0.975]\n",
       "------------------------------------------------------------------------------------------\n",
       "const                      1.3581      2.081      0.653      0.514      -2.720       5.436\n",
       "Temp1                     -0.0043      0.044     -0.099      0.921      -0.090       0.081\n",
       "Temp2                     -0.0213      0.021     -1.037      0.300      -0.062       0.019\n",
       "Ti1                       -0.0425      0.061     -0.702      0.482      -0.161       0.076\n",
       "Temp3                     -0.1244      0.038     -3.248      0.001      -0.199      -0.049\n",
       "Ti2                        0.0315      0.005      6.089      0.000       0.021       0.042\n",
       "PPPCF                     -0.0231      0.007     -3.271      0.001      -0.037      -0.009\n",
       "Ocupacion                  0.0068      0.008      0.816      0.415      -0.009       0.023\n",
       "Tamin                     -0.2718      0.065     -4.167      0.000      -0.400      -0.144\n",
       "Taamax                     0.0845      0.039      2.151      0.031       0.008       0.161\n",
       "Franja2_MAÑANA            -0.5474      0.230     -2.376      0.018      -0.999      -0.096\n",
       "Franja2_MEDIO_DIA         -0.4346      0.187     -2.322      0.020      -0.801      -0.068\n",
       "Franja2_NOCHE             -0.4471      0.161     -2.780      0.005      -0.762      -0.132\n",
       "Dia_Semana_lunes           0.4659      0.220      2.113      0.035       0.034       0.898\n",
       "Dia_Semana_martes          0.4275      0.215      1.989      0.047       0.006       0.849\n",
       "Dia_Semana_miércoles       0.3432      0.215      1.599      0.110      -0.078       0.764\n",
       "Dia_Semana_sábado         -0.2166      0.228     -0.948      0.343      -0.664       0.231\n",
       "Dia_Semana_viernes        -0.5602      0.241     -2.329      0.020      -1.032      -0.089\n",
       "Refrigeracion_AMONIACO     0.1956      0.153      1.279      0.201      -0.104       0.495\n",
       "pH_Requisito_Mi_5.8        0.5504      0.158      3.474      0.001       0.240       0.861\n",
       "TIPO_CAP_CF_C2             0.7708      0.359      2.149      0.032       0.068       1.474\n",
       "TIPO_CAP_CF_C3             0.7912      0.291      2.723      0.006       0.222       1.361\n",
       "==========================================================================================\n",
       "\"\"\""
      ]
     },
     "execution_count": 41,
     "metadata": {},
     "output_type": "execute_result"
    }
   ],
   "source": [
    "logit_model.fit().summary()"
   ]
  }
 ],
 "metadata": {
  "kernelspec": {
   "display_name": "Python 3 (ipykernel)",
   "language": "python",
   "name": "python3"
  },
  "language_info": {
   "codemirror_mode": {
    "name": "ipython",
    "version": 3
   },
   "file_extension": ".py",
   "mimetype": "text/x-python",
   "name": "python",
   "nbconvert_exporter": "python",
   "pygments_lexer": "ipython3",
   "version": "3.9.13"
  }
 },
 "nbformat": 4,
 "nbformat_minor": 2
}
